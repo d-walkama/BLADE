{
 "cells": [
  {
   "cell_type": "markdown",
   "metadata": {},
   "source": [
    "# BLADE DEMO\n",
    "\n",
    "\n",
    "In this notebook, a demo of BLADE along with generation of simulation dataset is provided.\n",
    "\n",
    "In addition to BLADE, the following two baseline methods are implemented:\n",
    "- Non-negative least square (NNLS)\n",
    "- Support Vector Regression (SVR)\n",
    "\n",
    "\n",
    "### Load necessary modules\n"
   ]
  },
  {
   "cell_type": "code",
   "execution_count": 137,
   "metadata": {},
   "outputs": [],
   "source": [
    "import sys, os\n",
    "sys.path.append(os.path.relpath('../python/')) # location of python script\n",
    "\n",
    "from BLADE import BLADE_framework as BLADE #to be changed\n",
    "import numpy as np\n",
    "from numpy import transpose as t\n",
    "import itertools\n",
    "import pickle\n",
    "from scipy.optimize import nnls\n",
    "from sklearn.svm import SVR\n",
    "from sklearn.svm import NuSVR\n",
    "from sklearn.metrics import mean_squared_error as mse\n",
    "import pandas as pd\n",
    "\n",
    "# modules for visualization\n",
    "import plotly.express as px\n",
    "from plotly.subplots import make_subplots\n",
    "import plotly.graph_objects as go\n",
    "import qgrid"
   ]
  },
  {
   "cell_type": "markdown",
   "metadata": {},
   "source": [
    "## Generation of simulation data \n",
    "\n",
    "A simulation data is generated based on the varying setting of:\n",
    "- number of cell types (`Ncells`)\n",
    "- number of genes (`Ngenes`)\n",
    "- number of samples (`Nsamples`)\n",
    "- level of variability (`Noises`)\n",
    "\n",
    "User can add or remove options by modifying the list variables below:"
   ]
  },
  {
   "cell_type": "code",
   "execution_count": 2,
   "metadata": {},
   "outputs": [],
   "source": [
    "# training data\n",
    "Ncells = [5]\n",
    "Ngenes = [500]\n",
    "Nsamples = [10, 20]\n",
    "Noises = [0.5, 1, 1.5] "
   ]
  },
  {
   "cell_type": "markdown",
   "metadata": {},
   "source": [
    "A simulation dataset will be created for every possible combination of the above parameters.  \n",
    "The script below will create `../simulationdata.pickle` that contains a dictionary object.\n",
    "\n",
    "For each configuration of `Ncell`, `Ngene`, `Nsample` and `Noise`, the following elements are created:\n",
    "- `F`: fraction of cell type (`Ncell` by `Nsample` matrix)\n",
    "- `Mu`: average gene expression profile per cell type (signature in log-scale; `Ngene` by `Ncell` matrix)\n",
    "- `Omega`: gene expression variability per cell type (`Ngene` by `Ncell` matrix)\n",
    "- `X`: gene expression profile per cell type in each sample (`Nsample` by `Ngene` by `Ncell` multidimensional array)\n",
    "- `Y`: bulk gene expression profile (log-scale; `Ngene` by `Nsample` matrix)\n",
    "\n",
    "\n",
    "\n",
    "A rough illustration of the generation procedure follows:\n",
    "\n",
    "1. Fraction of cell types (`F`) is generated from the Dirichlet distribution $F\\sim\\mathcal{D}(5)$)\n",
    "2. Per cell type gene expression profiles (`Mu`) is generated from the normal distribution $Mu\\sim\\mathcal{N}(0, 2)$. The sampled gene expression profiles is in log-scale.\n",
    "3. Given variation level (`Noise`), gene expression profile per cell type in each sample (`X`) is generated from the normal distribution $X\\sim\\mathcal{N}(\\mu=Mu, \\Omega=Noise)$\n",
    "4. Bulk gene expression profile (`Y`) is calculated as follows: $Y = \\log(F\\cdot \\exp(X)+1)$\n"
   ]
  },
  {
   "cell_type": "code",
   "execution_count": 3,
   "metadata": {},
   "outputs": [],
   "source": [
    "simfile = '../simulationdata.pickle'\n",
    "if not os.path.exists(simfile):\n",
    "    Synthetic_data = dict()\n",
    "else:\n",
    "    Synthetic_data = pickle.load(open(simfile, 'rb'))\n",
    "\n",
    "for Ncell, Ngene, Nsample, Noise in itertools.product(\n",
    "    Ncells, Ngenes, Nsamples, Noises\n",
    "            ):\n",
    "    name = str(Ncell) +'_'+ str(Ngene) +'_'+ str(Nsample) +'_'+ str(Noise)\n",
    "    \n",
    "    if not name in list(Synthetic_data.keys()):\n",
    "        F = np.random.dirichlet(np.ones(Ncell)*5, Nsample).transpose()\n",
    "        Mu = np.random.normal(0, 2, size=(Ngene,Ncell))\n",
    "        Omega = np.ones((Ngene,Ncell)) * Noise\n",
    "\n",
    "        X = np.random.normal(Mu, Omega_train, size=(Nsample, Ngene, Ncell))\n",
    "        Y = np.zeros((Ngene, Nsample))\n",
    "        for i in range(Nsample):\n",
    "            Y[:,i] = np.log(np.dot(np.exp(X[i,:,:]), Coef[:,i])+1)\n",
    "\n",
    "    \n",
    "        Synthetic_data[name] = {\n",
    "            'Coef': F,\n",
    "            'Mu' : Mu,\n",
    "            'X' : X,\n",
    "            'Y' : Y,\n",
    "            'Omega' : Omega\n",
    "        }\n",
    "        \n",
    "with open(simfile, 'wb') as fp:\n",
    "    pickle.dump(Synthetic_data, fp, protocol=pickle.HIGHEST_PROTOCOL)"
   ]
  },
  {
   "cell_type": "markdown",
   "metadata": {},
   "source": [
    "## Application of deconvolution methods\n",
    "\n",
    "From here, we will apply the following three methods:\n",
    "1. BLADE (estimation of cellular fraction + group-mode/high-resolution-mode purification)\n",
    "2. NNLS (estimatino of fraction)\n",
    "3. SVR followed by NNLS (estimation of fraction + group-mode purification) - similar to CIBERSORTx\n",
    "\n",
    "\n",
    "### 1. Application of BLADE\n",
    "\n",
    "There are following key paramters used in BLADE:\n",
    "- Hyperparameters (`hyperpars`): `Alpha`, `Alpha0`, `Kappa0` and `SigmaY`, each of which can be defined as a list of options. BLADE takes an empirical Bayes approach to find the optimal parameter set given the all possible combinations. \n",
    "- `Nrep`: Number of repeat for evaluating each parameter configuration.\n",
    "- `Nrepfinal`: Number of repeated optimization for the final parameter set.\n",
    "- `Njob`: Number of parallel jobs."
   ]
  },
  {
   "cell_type": "code",
   "execution_count": 4,
   "metadata": {},
   "outputs": [],
   "source": [
    "hyperpars = {\n",
    "    'Alpha': [1, 10],\n",
    "    'Alpha0': [0.1, 1, 5],\n",
    "    'Kappa0': [1, 0.5, 0.1],\n",
    "    'SigmaY': [0.3, 0.5, 1]\n",
    "}\n",
    "\n",
    "Nrep=3\n",
    "Nrepfinal=20\n",
    "Njob=50"
   ]
  },
  {
   "cell_type": "markdown",
   "metadata": {},
   "source": [
    "Given the configuration above, BLADE is applied to each of the simulation dataset created above.  \n",
    "\n",
    "BLADE produce several outcomes:\n",
    "- `final_obj`: final BLADE object with optimized variational parameters\n",
    "- `best_obj`: BLADE object traind with the best parameter set found by the empirical Bayes framework. Empirical Bayes framework is applied after selecting a subset of samples (5 samples; indicated by `Ind_sample` below), and thus the outcome contains only 5 samples. If `Nsample` <= 5, `final_obj` is identical with `best_obj`.\n",
    "- `best_set`: Best parameter set defined by Empirical Bayes framework.\n",
    "- `outs`: Outcome of BLADE for every possible combination of hyperparameters, used in the Empirical Bayes framework. \n"
   ]
  },
  {
   "cell_type": "code",
   "execution_count": 5,
   "metadata": {},
   "outputs": [],
   "source": [
    "for Ncell, Ngene, Nsample, Noise in itertools.product(\n",
    "    Ncells, Ngenes, Nsamples, Noises,\n",
    "                ):\n",
    "\n",
    "    name = str(Ncell) +'_'+ str(Ngene) +'_'+ str(Nsample) +'_'+ str(Noise)\n",
    "    outfile = '../data/BLADE_outcome_' + name + '.pickle'\n",
    "\n",
    "    if not os.path.exists(outfile):\n",
    "        print('creating ' + outfile)\n",
    "        Y = np.exp(Synthetic_data[name]['Y']) - 1 #transform to the original scale\n",
    "        mean = Synthetic_data[name]['Mu']\n",
    "        sd = Synthetic_data[name]['Omega']\n",
    "        \n",
    "        # samples that are used in Empirical Bayes step\n",
    "        Ind_sample = [True]*5 + [False]*(Nsample - 5) \n",
    "        # indicator variables for the genes used in fraction estimations. \n",
    "        # In purification step, all genes are used\n",
    "        Marker_Index = [True] * Ngene\n",
    "        \n",
    "        final_obj, best_obj, best_set, outs = BLADE(\n",
    "            mean, sd, Y, Marker_Index, Ind_sample,\n",
    "            hyperpars['Alpha'], hyperpars['Alpha0'], hyperpars['Kappa0'], hyperpars['SigmaY'],\n",
    "            Nrep=Nrep, Njob=Njob, Nrepfinal=Nrepfinal, fsel=0)\n",
    "        \n",
    "        pickle.dump(\n",
    "            {\n",
    "                'final_obj': final_obj,\n",
    "                'best_obj': best_obj,\n",
    "                'best_set': best_set,\n",
    "                'outs' : outs\n",
    "            },\n",
    "                open(outfile, 'wb')\n",
    "        )"
   ]
  },
  {
   "cell_type": "markdown",
   "metadata": {},
   "source": [
    "### 2. Application of NNLS \n",
    "\n",
    "Non-negative least square is applied to obtain cellular fraction (`F`) using bulk gene expression profiles (`Y`) and gene expression sigantures (`Mu`; average gene expression profiles per cell type). Note that NNLS should be applied to linear-scale data. The simulation data in `Synthetic_data` are in log-scale ($f(x)=\\log(x+1)$ for `Y` and $f(x)=\\log(x)$ for `Mu`), so they are transformed back to the linear scale."
   ]
  },
  {
   "cell_type": "code",
   "execution_count": 6,
   "metadata": {},
   "outputs": [],
   "source": [
    "for Ncell, Ngene, Nsample, Noise in itertools.product(\n",
    "    Ncells, Ngenes, Nsamples, Noises,\n",
    "                ):\n",
    "\n",
    "    name = str(Ncell) +'_'+ str(Ngene) +'_'+ str(Nsample) +'_'+ str(Noise)\n",
    "    outfile = '../data/NNLS_outcome_' + name + '.pickle'\n",
    "\n",
    "    if not os.path.exists(outfile):\n",
    "        \n",
    "        print('creating ' + outfile)\n",
    "        Y = np.exp(Synthetic_data[name]['Y'])-1 # transform back to linear scale\n",
    "        Mu = np.exp(Synthetic_data[name]['Mu']) # transform back to linear scale\n",
    "        \n",
    "        NNLS_F = np.zeros(Synthetic_data[name]['Coef'].shape)\n",
    "        for i in range(Nsample):\n",
    "            NNLS_F[:,i] = nnls(Mu, Y[:,i])[0]\n",
    "            NNLS_F[:,i] = NNLS_F[:,i]/np.sum(NNLS_F[:,i])\n",
    "        \n",
    "        pickle.dump(\n",
    "            {\n",
    "                'Fraction': NNLS_F\n",
    "            },\n",
    "            open(outfile, 'wb')\n",
    "        )"
   ]
  },
  {
   "cell_type": "markdown",
   "metadata": {},
   "source": [
    "### 3. Application of SVR followed by NNLS (SVR_NNLS)\n",
    "\n",
    "SVR has been applied for estimation of cellular fractions (`Fraction`). As in CIBERSORT and CIBERSORTx, we used here Nu-SVR where the `Nu` controls the number of genes used in deconvolution. In CIBERSORTx, a sequencial approach is taken to also estimate gene expression profiles per cell type (both group-mode purification and high-resolution-mode purification). Here, we implement only the group-mode-purification (which we saved as `Signature`).\n",
    "\n",
    "As in NNLS, both bulk gene expression profiles (Y) and gene expression sigantures (Mu; average gene expression profiles per cell type) should be transformed to linear-scale.\n"
   ]
  },
  {
   "cell_type": "code",
   "execution_count": 7,
   "metadata": {},
   "outputs": [],
   "source": [
    "for Ncell, Ngene, Nsample, Noise in itertools.product(\n",
    "    Ncells, Ngenes, Nsamples, Noises,\n",
    "                ):\n",
    "\n",
    "    name = str(Ncell) +'_'+ str(Ngene) +'_'+ str(Nsample) +'_'+ str(Noise)\n",
    "    outfile = '../data/SVR_NNLS_outcome_' + name + '.pickle'\n",
    "\n",
    "    if not os.path.exists(outfile):\n",
    "        \n",
    "        print('creating ' + outfile)\n",
    "        Y = np.exp(Synthetic_data[name]['Y']) - 1\n",
    "        Mu = np.exp(Synthetic_data[name]['Mu'])\n",
    "   \n",
    "        # estimate fraction\n",
    "        SVRcoef = np.zeros((Ncell, Nsample))\n",
    "        Selcoef = np.zeros((Ngene, Nsample))\n",
    "        Nus = [0.25, 0.5, 0.75]\n",
    "        for i in range(Nsample):\n",
    "            sols = [NuSVR(kernel='linear', nu=nu).fit(Mu,Y[:,i]) for nu in Nus]\n",
    "            RMSE = [mse(sol.predict(Mu), Y[:,i]) for sol in sols]\n",
    "            Selcoef[sols[np.argmin(RMSE)].support_, i] = 1\n",
    "            SVRcoef[:,i] = np.maximum(sols[np.argmin(RMSE)].coef_,0)\n",
    "            SVRcoef[:,i] = SVRcoef[:,i]/np.sum(SVRcoef[:,i])\n",
    "            \n",
    "           \n",
    "        # estimate per-cell expression\n",
    "        NNLS_Sig = np.zeros((Ngene, Ncell))\n",
    "        for g in range(Ngene):\n",
    "            NNLS_Sig[g,:] = nnls(np.transpose(SVRcoef), Y[g,:])[0]\n",
    "        \n",
    "        pickle.dump(\n",
    "            {\n",
    "                'Fraction' : SVRcoef,\n",
    "                'Signature': NNLS_Sig\n",
    "             },\n",
    "            open(outfile, 'wb')\n",
    "         )"
   ]
  },
  {
   "cell_type": "markdown",
   "metadata": {},
   "source": [
    "## Performance evaluation\n",
    "\n",
    "We evaluated the performance for each data set in both per-cell and per-sample manner. In the function below (`measure_performance`), we implemented a function to collect the performances.\n",
    "\n",
    "Specifically,\n",
    "- Per cell type (`row_PerCell`):\n",
    " - `Cor_Fraction`: Pearson correlation coefficients of true (`true_f`) and estimated cellular fractions (`est_f`) per cell type across the samples.\n",
    " - `Cor_Signature`: Pearson correlation coefficients of true (`true_mean`) and estimated average gene expression profiles per cell type (Signatures; `est_mean`)\n",
    " - `Cor_HighRes`: Perason correaltion coefficients of true (`true_X`) and estimated gene expresion profile per cell type per sample (`est_X`). An average Pearson correlation per cell type is obtained.\n",
    "\n",
    "- Per sample (`row_PerSample`):\n",
    " - `Cor_Fraction`: Pearson correlation coefficients of true (`true_f`) and estimated cellular fractions (`est_f`) per sample across the cell types.\n",
    " - `Cor_HighRes`: Perason correaltion coefficients of true (`true_X`) and estimated gene expresion profile per cell type per sample (`est_X`). An average Pearson correlation per sample is obtained.\n",
    " \n",
    "- Summary (`row_Summary`):\n",
    " - Average performances of each measure in `row_PerCell` and `row_PerSample` are obtained. `Cor_HighRes` is not included twice as the average across the sample and cell types yield equal values."
   ]
  },
  {
   "cell_type": "code",
   "execution_count": 19,
   "metadata": {},
   "outputs": [],
   "source": [
    "def measure_performance(true_f, true_mean, true_X, \n",
    "                        est_f, est_mean=None, est_X=None):\n",
    "    Nsample, Ngene, Ncell = true_X.shape\n",
    "    \n",
    "    # group-mode purification performance\n",
    "    if est_mean is not None:\n",
    "        CorMean = [np.corrcoef(true_mean[:,i], est_mean[:,i], rowvar=True)[0,1] for i in range(Ncell)]\n",
    "    else:\n",
    "        CorMean = np.nan*np.zeros((Ncell))\n",
    "    \n",
    "    # high-resolution purification performance\n",
    "    if est_X is not None:\n",
    "        perf_highresCell = [\n",
    "                np.mean(\n",
    "                    [np.corrcoef(true_X[sample,:,cell], est_X[sample,:,cell])[0,1] for sample in range(Nsample)]\n",
    "                ) for cell in range(Ncell)\n",
    "            ]\n",
    "        perf_highresSample = [\n",
    "                np.mean(\n",
    "                    [np.corrcoef(true_X[sample,:,cell], est_X[sample,:,cell])[0,1] for cell in range(Ncell)]\n",
    "                ) for sample in range(Nsample)\n",
    "            ]\n",
    "    else:\n",
    "        perf_highresCell = [np.nan]*Ncell\n",
    "        perf_highresSample = [np.nan]*Nsample\n",
    "    \n",
    "    # Performance: per cell type\n",
    "    CorsF = [np.corrcoef(true_f[i,:], est_f[i,:], rowvar=True)[0,1] for i in range(Ncell)]\n",
    "    row_PerCell = pd.DataFrame(np.array((range(Ncell), CorsF, CorMean, perf_highresCell)).transpose(),\n",
    "                    columns = ['CellType', 'Cor_Fraction', 'Cor_Signature', 'Cor_HighRes'])\n",
    "    \n",
    "    # Performance: per sample\n",
    "    CorsF = [np.corrcoef(true_f[:,i], est_f[:,i], rowvar=True)[0,1] for i in range(Nsample)]\n",
    "    row_PerSample = pd.DataFrame(np.array((range(Nsample), CorsF, perf_highresSample)).transpose(),\n",
    "                    columns = ['Sample', 'Cor_Fraction', 'Cor_HighRes'])\n",
    "    \n",
    "    # Performance - summary\n",
    "    row_Summary = pd.DataFrame([[np.mean(row_PerCell.Cor_Fraction), \n",
    "                                        np.mean(row_PerSample.Cor_Fraction), \n",
    "                                        np.mean(row_PerCell.Cor_Signature),\n",
    "                                        np.mean(row_PerSample.Cor_HighRes)\n",
    "                               ]],\n",
    "            columns = ['Cor_Fraction(PerCell)', 'Cor_Fraction(PerSample)', \n",
    "                     'Cor_Signature', 'Cor_HighRes']\n",
    "            )\n",
    "    return (row_PerCell, row_PerSample, row_Summary)"
   ]
  },
  {
   "cell_type": "markdown",
   "metadata": {},
   "source": [
    "Using the function above, we will collect the performance metrics of the three methods.\n",
    "For the evaluation, we need to obtain estimates of cellular fractions, average gene expression profile per cell type (Signature; only for BLADE and SVR_NNLS), and gene expression profile per cell type in each sample (only for BLADE).\n",
    "\n",
    "Few specifics regarding the extraction of the estimates:\n",
    "- BLADE\n",
    " - Fraction estimation: For each sample $i$ and cell type $t$, the fraction can be calcualted from the optimized variational parameter $\\beta_i^t$ as follows: $\\frac{\\beta_i^t}{\\sum_k(\\beta_i^k)}$. From the final object (`final_obj`), it can be calculated by the internal function `ExpF`.\n",
    " - Group-mode purification: Variational parameter $\\nu_{ij}^t$ represents expression level of gene $j$ of cell type $t$ in sample $i$. Thus, average gene expression per cell type is: $\\frac{1}{Nsample}\\sum_i \\nu_{ij}^t$.\n",
    " - High-resolution mode purification: we can use $\\nu_{ij}^t$ as the estimate.\n",
    "\n",
    "- NNLS\n",
    " - Fraction estimation: Regression coefficients stands for the fraction.\n",
    " - Group-mode purification: Not available\n",
    " - High-resolution-mode purification: Not available\n",
    "\n",
    "- SVR_NNLS\n",
    " - Fraction estimation: Regression coefficients from SVR.\n",
    " - Group-mode purification: Regression coefficients from NNLS.\n",
    " - High-resolution-mode purification: Not available"
   ]
  },
  {
   "cell_type": "code",
   "execution_count": 20,
   "metadata": {},
   "outputs": [],
   "source": [
    "outcome_PerCell = pd.DataFrame()\n",
    "outcome_PerSample = pd.DataFrame()\n",
    "outcome_summary = pd.DataFrame()\n",
    "                               \n",
    "for Ncell, Ngene, Nsample, Noise in itertools.product(\n",
    "    Ncells, Ngenes, Nsamples, Noises,\n",
    "                ):\n",
    "\n",
    "    name = str(Ncell) +'_'+ str(Ngene) +'_'+ str(Nsample) +'_'+ str(Noise)\n",
    "    \n",
    "    #Loading test data\n",
    "    fraction = np.array(Synthetic_data[name]['Coef'])\n",
    "    mean = np.array(Synthetic_data[name]['Mu'])\n",
    "    X = np.array(Synthetic_data[name]['X'])\n",
    "    \n",
    "    # Load outcome\n",
    "    BLADE = pickle.load(open('../data/BLADE_outcome_' + name + '.pickle', 'rb'))\n",
    "    NNLS = pickle.load(open('../data/NNLS_outcome_' + name + '.pickle', 'rb'))\n",
    "    SVR_NNLS = pickle.load(open('../data/SVR_NNLS_outcome_' + name + '.pickle', 'rb'))\n",
    "    \n",
    "    # Obtaining estimates from the three methods\n",
    "    obj = BLADE['final_obj']\n",
    "    \n",
    "    outcomes = {\n",
    "        'BLADE': {\n",
    "            'Fraction': t(obj.ExpF(obj.Beta)), \n",
    "            'Signature': np.mean(obj.Nu, 0), #group mode purification\n",
    "            'HighRes': obj.Nu                #highresolution mode purification\n",
    "        },\n",
    "        'NNLS' : {\n",
    "            'Fraction': NNLS['Fraction'],\n",
    "            'Signature': None, 'HighRes': None\n",
    "        },\n",
    "        'SVR_NNLS' : {\n",
    "            'Fraction': SVR_NNLS['Fraction'],\n",
    "            'Signature': np.log(SVR_NNLS['Signature']+0.0001),\n",
    "            'HighRes': None\n",
    "        }\n",
    "    }\n",
    "    \n",
    "    # measure performance\n",
    "    for method in outcomes:\n",
    "        rowCell, rowSample, rowSummary = \\\n",
    "            measure_performance(\n",
    "                fraction, mean, X,\n",
    "                outcomes[method]['Fraction'], outcomes[method]['Signature'], outcomes[method]['HighRes']\n",
    "            )\n",
    "        rowCell['method'], rowSample['method'], rowSummary['method'] = [method]*3\n",
    "        rowCell['Ncell'], rowSample['Ncell'], rowSummary['Ncell'] = [Ncell]*3\n",
    "        rowCell['Ngene'], rowSample['Ngene'], rowSummary['Ngene'] = [Ngene]*3\n",
    "        rowCell['Nsample'], rowSample['Nsample'], rowSummary['Nsample'] = [Nsample]*3\n",
    "        rowCell['Noise'], rowSample['Noise'], rowSummary['Noise'] = [Noise]*3\n",
    "        rowCell['dataset'], rowSample['dataset'], rowSummary['dataset'] = [name]*3\n",
    "    \n",
    "        # collect outcome\n",
    "        outcome_PerCell = outcome_PerCell.append(rowCell)\n",
    "        outcome_PerSample = outcome_PerSample.append(rowSample)\n",
    "        outcome_summary = outcome_summary.append(rowSummary)"
   ]
  },
  {
   "cell_type": "markdown",
   "metadata": {},
   "source": [
    "## Visualization of outcome\n",
    "\n",
    "\n",
    "### 1. Performance of cellular fraction estimation\n",
    "\n",
    "We will first visualize the performance measure per cell type.\n",
    "First of all, a boxplot can be created for each data set as below."
   ]
  },
  {
   "cell_type": "code",
   "execution_count": 181,
   "metadata": {},
   "outputs": [
    {
     "data": {
      "application/vnd.plotly.v1+json": {
       "config": {
        "plotlyServerURL": "https://plot.ly"
       },
       "data": [
        {
         "alignmentgroup": "True",
         "boxpoints": "all",
         "hovertemplate": "method=BLADE<br>Data Set (Ncell_Ngene_Nsample_Noise)=%{x}<br>Pearson Correlation=%{y}<extra></extra>",
         "legendgroup": "BLADE",
         "marker": {
          "color": "#636efa"
         },
         "name": "BLADE",
         "notched": false,
         "offsetgroup": "BLADE",
         "orientation": "v",
         "showlegend": true,
         "type": "box",
         "x": [
          "5_500_10_0.5",
          "5_500_10_0.5",
          "5_500_10_0.5",
          "5_500_10_0.5",
          "5_500_10_0.5",
          "5_500_10_1",
          "5_500_10_1",
          "5_500_10_1",
          "5_500_10_1",
          "5_500_10_1",
          "5_500_10_1.5",
          "5_500_10_1.5",
          "5_500_10_1.5",
          "5_500_10_1.5",
          "5_500_10_1.5",
          "5_500_20_0.5",
          "5_500_20_0.5",
          "5_500_20_0.5",
          "5_500_20_0.5",
          "5_500_20_0.5",
          "5_500_20_1",
          "5_500_20_1",
          "5_500_20_1",
          "5_500_20_1",
          "5_500_20_1",
          "5_500_20_1.5",
          "5_500_20_1.5",
          "5_500_20_1.5",
          "5_500_20_1.5",
          "5_500_20_1.5"
         ],
         "x0": " ",
         "xaxis": "x",
         "y": [
          0.9760671425208692,
          0.9780911010340285,
          0.9572141333782359,
          0.9737948620644145,
          0.994846738867489,
          0.9366231324788837,
          0.908220263084958,
          0.9611083866387872,
          0.9126324671023534,
          0.945119557517201,
          0.9176694118431927,
          0.9145757702725452,
          0.8981023948196777,
          0.9185945702376128,
          0.9846041573083993,
          0.9601747383720222,
          0.9779612235970133,
          0.9827591285872155,
          0.9891764920680605,
          0.9922151122211956,
          0.8411799382182162,
          0.8663741566183373,
          0.8644984693428516,
          0.845150079415312,
          0.9314335298512336,
          0.8779175770585829,
          0.8958406567413247,
          0.8092282604264628,
          0.847241612171784,
          0.8392921808180656
         ],
         "y0": " ",
         "yaxis": "y"
        },
        {
         "alignmentgroup": "True",
         "boxpoints": "all",
         "hovertemplate": "method=NNLS<br>Data Set (Ncell_Ngene_Nsample_Noise)=%{x}<br>Pearson Correlation=%{y}<extra></extra>",
         "legendgroup": "NNLS",
         "marker": {
          "color": "#EF553B"
         },
         "name": "NNLS",
         "notched": false,
         "offsetgroup": "NNLS",
         "orientation": "v",
         "showlegend": true,
         "type": "box",
         "x": [
          "5_500_10_0.5",
          "5_500_10_0.5",
          "5_500_10_0.5",
          "5_500_10_0.5",
          "5_500_10_0.5",
          "5_500_10_1",
          "5_500_10_1",
          "5_500_10_1",
          "5_500_10_1",
          "5_500_10_1",
          "5_500_10_1.5",
          "5_500_10_1.5",
          "5_500_10_1.5",
          "5_500_10_1.5",
          "5_500_10_1.5",
          "5_500_20_0.5",
          "5_500_20_0.5",
          "5_500_20_0.5",
          "5_500_20_0.5",
          "5_500_20_0.5",
          "5_500_20_1",
          "5_500_20_1",
          "5_500_20_1",
          "5_500_20_1",
          "5_500_20_1",
          "5_500_20_1.5",
          "5_500_20_1.5",
          "5_500_20_1.5",
          "5_500_20_1.5",
          "5_500_20_1.5"
         ],
         "x0": " ",
         "xaxis": "x",
         "y": [
          0.938876259522834,
          0.5413961190793612,
          0.8402797190591628,
          0.6945305539807007,
          0.8193564387292104,
          0.90138353042295,
          0.020388429196337356,
          0.22046184023642934,
          0.5325790939338667,
          0.774456335998725,
          0.8099547039661853,
          0.6579633592168184,
          0.2011863856897796,
          0.6321985132316563,
          0.6301473627981813,
          0.6479661001251112,
          0.8535929110395842,
          0.8785176179425237,
          0.8650181248321498,
          0.8744707968619145,
          0.5252790229947057,
          0.4993416027011587,
          0.6416208539898336,
          0.5175991571770197,
          0.48796304044415917,
          -0.02668833269609483,
          0.35422183716420746,
          -0.002382428622161992,
          0.4579431623855363,
          0.09532225838349444
         ],
         "y0": " ",
         "yaxis": "y"
        },
        {
         "alignmentgroup": "True",
         "boxpoints": "all",
         "hovertemplate": "method=SVR_NNLS<br>Data Set (Ncell_Ngene_Nsample_Noise)=%{x}<br>Pearson Correlation=%{y}<extra></extra>",
         "legendgroup": "SVR_NNLS",
         "marker": {
          "color": "#00cc96"
         },
         "name": "SVR_NNLS",
         "notched": false,
         "offsetgroup": "SVR_NNLS",
         "orientation": "v",
         "showlegend": true,
         "type": "box",
         "x": [
          "5_500_10_0.5",
          "5_500_10_0.5",
          "5_500_10_0.5",
          "5_500_10_0.5",
          "5_500_10_0.5",
          "5_500_10_1",
          "5_500_10_1",
          "5_500_10_1",
          "5_500_10_1",
          "5_500_10_1",
          "5_500_10_1.5",
          "5_500_10_1.5",
          "5_500_10_1.5",
          "5_500_10_1.5",
          "5_500_10_1.5",
          "5_500_20_0.5",
          "5_500_20_0.5",
          "5_500_20_0.5",
          "5_500_20_0.5",
          "5_500_20_0.5",
          "5_500_20_1",
          "5_500_20_1",
          "5_500_20_1",
          "5_500_20_1",
          "5_500_20_1",
          "5_500_20_1.5",
          "5_500_20_1.5",
          "5_500_20_1.5",
          "5_500_20_1.5",
          "5_500_20_1.5"
         ],
         "x0": " ",
         "xaxis": "x",
         "y": [
          0.9391689468197172,
          0.6105261008491666,
          0.9154983856578339,
          0.7764512843750838,
          0.8505767136051491,
          0.8430615977285859,
          0.16401008380972415,
          0.17614825780091253,
          0.6734376820952853,
          0.5696909415919889,
          0.583479676792344,
          0.8297622107202598,
          0.20786327239274136,
          0.7993492557025386,
          0.7313726824250613,
          0.6824026537619645,
          0.8735555808974719,
          0.9094979312391611,
          0.8508124378000261,
          0.926529614130782,
          0.7713262377978554,
          0.6633398624980511,
          0.830187420163835,
          0.792396049332254,
          0.7109127651171134,
          0.06344930781771076,
          0.36265759502841355,
          -0.0885577700284403,
          0.39221698327866467,
          0.2996893433558255
         ],
         "y0": " ",
         "yaxis": "y"
        }
       ],
       "layout": {
        "boxmode": "group",
        "height": 500,
        "legend": {
         "title": {
          "text": "method"
         },
         "tracegroupgap": 0
        },
        "margin": {
         "t": 60
        },
        "template": {
         "data": {
          "bar": [
           {
            "error_x": {
             "color": "#2a3f5f"
            },
            "error_y": {
             "color": "#2a3f5f"
            },
            "marker": {
             "line": {
              "color": "#E5ECF6",
              "width": 0.5
             }
            },
            "type": "bar"
           }
          ],
          "barpolar": [
           {
            "marker": {
             "line": {
              "color": "#E5ECF6",
              "width": 0.5
             }
            },
            "type": "barpolar"
           }
          ],
          "carpet": [
           {
            "aaxis": {
             "endlinecolor": "#2a3f5f",
             "gridcolor": "white",
             "linecolor": "white",
             "minorgridcolor": "white",
             "startlinecolor": "#2a3f5f"
            },
            "baxis": {
             "endlinecolor": "#2a3f5f",
             "gridcolor": "white",
             "linecolor": "white",
             "minorgridcolor": "white",
             "startlinecolor": "#2a3f5f"
            },
            "type": "carpet"
           }
          ],
          "choropleth": [
           {
            "colorbar": {
             "outlinewidth": 0,
             "ticks": ""
            },
            "type": "choropleth"
           }
          ],
          "contour": [
           {
            "colorbar": {
             "outlinewidth": 0,
             "ticks": ""
            },
            "colorscale": [
             [
              0,
              "#0d0887"
             ],
             [
              0.1111111111111111,
              "#46039f"
             ],
             [
              0.2222222222222222,
              "#7201a8"
             ],
             [
              0.3333333333333333,
              "#9c179e"
             ],
             [
              0.4444444444444444,
              "#bd3786"
             ],
             [
              0.5555555555555556,
              "#d8576b"
             ],
             [
              0.6666666666666666,
              "#ed7953"
             ],
             [
              0.7777777777777778,
              "#fb9f3a"
             ],
             [
              0.8888888888888888,
              "#fdca26"
             ],
             [
              1,
              "#f0f921"
             ]
            ],
            "type": "contour"
           }
          ],
          "contourcarpet": [
           {
            "colorbar": {
             "outlinewidth": 0,
             "ticks": ""
            },
            "type": "contourcarpet"
           }
          ],
          "heatmap": [
           {
            "colorbar": {
             "outlinewidth": 0,
             "ticks": ""
            },
            "colorscale": [
             [
              0,
              "#0d0887"
             ],
             [
              0.1111111111111111,
              "#46039f"
             ],
             [
              0.2222222222222222,
              "#7201a8"
             ],
             [
              0.3333333333333333,
              "#9c179e"
             ],
             [
              0.4444444444444444,
              "#bd3786"
             ],
             [
              0.5555555555555556,
              "#d8576b"
             ],
             [
              0.6666666666666666,
              "#ed7953"
             ],
             [
              0.7777777777777778,
              "#fb9f3a"
             ],
             [
              0.8888888888888888,
              "#fdca26"
             ],
             [
              1,
              "#f0f921"
             ]
            ],
            "type": "heatmap"
           }
          ],
          "heatmapgl": [
           {
            "colorbar": {
             "outlinewidth": 0,
             "ticks": ""
            },
            "colorscale": [
             [
              0,
              "#0d0887"
             ],
             [
              0.1111111111111111,
              "#46039f"
             ],
             [
              0.2222222222222222,
              "#7201a8"
             ],
             [
              0.3333333333333333,
              "#9c179e"
             ],
             [
              0.4444444444444444,
              "#bd3786"
             ],
             [
              0.5555555555555556,
              "#d8576b"
             ],
             [
              0.6666666666666666,
              "#ed7953"
             ],
             [
              0.7777777777777778,
              "#fb9f3a"
             ],
             [
              0.8888888888888888,
              "#fdca26"
             ],
             [
              1,
              "#f0f921"
             ]
            ],
            "type": "heatmapgl"
           }
          ],
          "histogram": [
           {
            "marker": {
             "colorbar": {
              "outlinewidth": 0,
              "ticks": ""
             }
            },
            "type": "histogram"
           }
          ],
          "histogram2d": [
           {
            "colorbar": {
             "outlinewidth": 0,
             "ticks": ""
            },
            "colorscale": [
             [
              0,
              "#0d0887"
             ],
             [
              0.1111111111111111,
              "#46039f"
             ],
             [
              0.2222222222222222,
              "#7201a8"
             ],
             [
              0.3333333333333333,
              "#9c179e"
             ],
             [
              0.4444444444444444,
              "#bd3786"
             ],
             [
              0.5555555555555556,
              "#d8576b"
             ],
             [
              0.6666666666666666,
              "#ed7953"
             ],
             [
              0.7777777777777778,
              "#fb9f3a"
             ],
             [
              0.8888888888888888,
              "#fdca26"
             ],
             [
              1,
              "#f0f921"
             ]
            ],
            "type": "histogram2d"
           }
          ],
          "histogram2dcontour": [
           {
            "colorbar": {
             "outlinewidth": 0,
             "ticks": ""
            },
            "colorscale": [
             [
              0,
              "#0d0887"
             ],
             [
              0.1111111111111111,
              "#46039f"
             ],
             [
              0.2222222222222222,
              "#7201a8"
             ],
             [
              0.3333333333333333,
              "#9c179e"
             ],
             [
              0.4444444444444444,
              "#bd3786"
             ],
             [
              0.5555555555555556,
              "#d8576b"
             ],
             [
              0.6666666666666666,
              "#ed7953"
             ],
             [
              0.7777777777777778,
              "#fb9f3a"
             ],
             [
              0.8888888888888888,
              "#fdca26"
             ],
             [
              1,
              "#f0f921"
             ]
            ],
            "type": "histogram2dcontour"
           }
          ],
          "mesh3d": [
           {
            "colorbar": {
             "outlinewidth": 0,
             "ticks": ""
            },
            "type": "mesh3d"
           }
          ],
          "parcoords": [
           {
            "line": {
             "colorbar": {
              "outlinewidth": 0,
              "ticks": ""
             }
            },
            "type": "parcoords"
           }
          ],
          "pie": [
           {
            "automargin": true,
            "type": "pie"
           }
          ],
          "scatter": [
           {
            "marker": {
             "colorbar": {
              "outlinewidth": 0,
              "ticks": ""
             }
            },
            "type": "scatter"
           }
          ],
          "scatter3d": [
           {
            "line": {
             "colorbar": {
              "outlinewidth": 0,
              "ticks": ""
             }
            },
            "marker": {
             "colorbar": {
              "outlinewidth": 0,
              "ticks": ""
             }
            },
            "type": "scatter3d"
           }
          ],
          "scattercarpet": [
           {
            "marker": {
             "colorbar": {
              "outlinewidth": 0,
              "ticks": ""
             }
            },
            "type": "scattercarpet"
           }
          ],
          "scattergeo": [
           {
            "marker": {
             "colorbar": {
              "outlinewidth": 0,
              "ticks": ""
             }
            },
            "type": "scattergeo"
           }
          ],
          "scattergl": [
           {
            "marker": {
             "colorbar": {
              "outlinewidth": 0,
              "ticks": ""
             }
            },
            "type": "scattergl"
           }
          ],
          "scattermapbox": [
           {
            "marker": {
             "colorbar": {
              "outlinewidth": 0,
              "ticks": ""
             }
            },
            "type": "scattermapbox"
           }
          ],
          "scatterpolar": [
           {
            "marker": {
             "colorbar": {
              "outlinewidth": 0,
              "ticks": ""
             }
            },
            "type": "scatterpolar"
           }
          ],
          "scatterpolargl": [
           {
            "marker": {
             "colorbar": {
              "outlinewidth": 0,
              "ticks": ""
             }
            },
            "type": "scatterpolargl"
           }
          ],
          "scatterternary": [
           {
            "marker": {
             "colorbar": {
              "outlinewidth": 0,
              "ticks": ""
             }
            },
            "type": "scatterternary"
           }
          ],
          "surface": [
           {
            "colorbar": {
             "outlinewidth": 0,
             "ticks": ""
            },
            "colorscale": [
             [
              0,
              "#0d0887"
             ],
             [
              0.1111111111111111,
              "#46039f"
             ],
             [
              0.2222222222222222,
              "#7201a8"
             ],
             [
              0.3333333333333333,
              "#9c179e"
             ],
             [
              0.4444444444444444,
              "#bd3786"
             ],
             [
              0.5555555555555556,
              "#d8576b"
             ],
             [
              0.6666666666666666,
              "#ed7953"
             ],
             [
              0.7777777777777778,
              "#fb9f3a"
             ],
             [
              0.8888888888888888,
              "#fdca26"
             ],
             [
              1,
              "#f0f921"
             ]
            ],
            "type": "surface"
           }
          ],
          "table": [
           {
            "cells": {
             "fill": {
              "color": "#EBF0F8"
             },
             "line": {
              "color": "white"
             }
            },
            "header": {
             "fill": {
              "color": "#C8D4E3"
             },
             "line": {
              "color": "white"
             }
            },
            "type": "table"
           }
          ]
         },
         "layout": {
          "annotationdefaults": {
           "arrowcolor": "#2a3f5f",
           "arrowhead": 0,
           "arrowwidth": 1
          },
          "coloraxis": {
           "colorbar": {
            "outlinewidth": 0,
            "ticks": ""
           }
          },
          "colorscale": {
           "diverging": [
            [
             0,
             "#8e0152"
            ],
            [
             0.1,
             "#c51b7d"
            ],
            [
             0.2,
             "#de77ae"
            ],
            [
             0.3,
             "#f1b6da"
            ],
            [
             0.4,
             "#fde0ef"
            ],
            [
             0.5,
             "#f7f7f7"
            ],
            [
             0.6,
             "#e6f5d0"
            ],
            [
             0.7,
             "#b8e186"
            ],
            [
             0.8,
             "#7fbc41"
            ],
            [
             0.9,
             "#4d9221"
            ],
            [
             1,
             "#276419"
            ]
           ],
           "sequential": [
            [
             0,
             "#0d0887"
            ],
            [
             0.1111111111111111,
             "#46039f"
            ],
            [
             0.2222222222222222,
             "#7201a8"
            ],
            [
             0.3333333333333333,
             "#9c179e"
            ],
            [
             0.4444444444444444,
             "#bd3786"
            ],
            [
             0.5555555555555556,
             "#d8576b"
            ],
            [
             0.6666666666666666,
             "#ed7953"
            ],
            [
             0.7777777777777778,
             "#fb9f3a"
            ],
            [
             0.8888888888888888,
             "#fdca26"
            ],
            [
             1,
             "#f0f921"
            ]
           ],
           "sequentialminus": [
            [
             0,
             "#0d0887"
            ],
            [
             0.1111111111111111,
             "#46039f"
            ],
            [
             0.2222222222222222,
             "#7201a8"
            ],
            [
             0.3333333333333333,
             "#9c179e"
            ],
            [
             0.4444444444444444,
             "#bd3786"
            ],
            [
             0.5555555555555556,
             "#d8576b"
            ],
            [
             0.6666666666666666,
             "#ed7953"
            ],
            [
             0.7777777777777778,
             "#fb9f3a"
            ],
            [
             0.8888888888888888,
             "#fdca26"
            ],
            [
             1,
             "#f0f921"
            ]
           ]
          },
          "colorway": [
           "#636efa",
           "#EF553B",
           "#00cc96",
           "#ab63fa",
           "#FFA15A",
           "#19d3f3",
           "#FF6692",
           "#B6E880",
           "#FF97FF",
           "#FECB52"
          ],
          "font": {
           "color": "#2a3f5f"
          },
          "geo": {
           "bgcolor": "white",
           "lakecolor": "white",
           "landcolor": "#E5ECF6",
           "showlakes": true,
           "showland": true,
           "subunitcolor": "white"
          },
          "hoverlabel": {
           "align": "left"
          },
          "hovermode": "closest",
          "mapbox": {
           "style": "light"
          },
          "paper_bgcolor": "white",
          "plot_bgcolor": "#E5ECF6",
          "polar": {
           "angularaxis": {
            "gridcolor": "white",
            "linecolor": "white",
            "ticks": ""
           },
           "bgcolor": "#E5ECF6",
           "radialaxis": {
            "gridcolor": "white",
            "linecolor": "white",
            "ticks": ""
           }
          },
          "scene": {
           "xaxis": {
            "backgroundcolor": "#E5ECF6",
            "gridcolor": "white",
            "gridwidth": 2,
            "linecolor": "white",
            "showbackground": true,
            "ticks": "",
            "zerolinecolor": "white"
           },
           "yaxis": {
            "backgroundcolor": "#E5ECF6",
            "gridcolor": "white",
            "gridwidth": 2,
            "linecolor": "white",
            "showbackground": true,
            "ticks": "",
            "zerolinecolor": "white"
           },
           "zaxis": {
            "backgroundcolor": "#E5ECF6",
            "gridcolor": "white",
            "gridwidth": 2,
            "linecolor": "white",
            "showbackground": true,
            "ticks": "",
            "zerolinecolor": "white"
           }
          },
          "shapedefaults": {
           "line": {
            "color": "#2a3f5f"
           }
          },
          "ternary": {
           "aaxis": {
            "gridcolor": "white",
            "linecolor": "white",
            "ticks": ""
           },
           "baxis": {
            "gridcolor": "white",
            "linecolor": "white",
            "ticks": ""
           },
           "bgcolor": "#E5ECF6",
           "caxis": {
            "gridcolor": "white",
            "linecolor": "white",
            "ticks": ""
           }
          },
          "title": {
           "x": 0.05
          },
          "xaxis": {
           "automargin": true,
           "gridcolor": "white",
           "linecolor": "white",
           "ticks": "",
           "title": {
            "standoff": 15
           },
           "zerolinecolor": "white",
           "zerolinewidth": 2
          },
          "yaxis": {
           "automargin": true,
           "gridcolor": "white",
           "linecolor": "white",
           "ticks": "",
           "title": {
            "standoff": 15
           },
           "zerolinecolor": "white",
           "zerolinewidth": 2
          }
         }
        },
        "title": {
         "text": "Performance of fraction estimation (per cell type)"
        },
        "width": 800,
        "xaxis": {
         "anchor": "y",
         "domain": [
          0,
          1
         ],
         "title": {
          "text": "Data Set (Ncell_Ngene_Nsample_Noise)"
         }
        },
        "yaxis": {
         "anchor": "x",
         "domain": [
          0,
          1
         ],
         "title": {
          "text": "Pearson Correlation"
         }
        }
       }
      },
      "text/html": [
       "<div>\n",
       "        \n",
       "        \n",
       "            <div id=\"e0c79830-c614-4220-8704-826cbb3df0c4\" class=\"plotly-graph-div\" style=\"height:500px; width:800px;\"></div>\n",
       "            <script type=\"text/javascript\">\n",
       "                require([\"plotly\"], function(Plotly) {\n",
       "                    window.PLOTLYENV=window.PLOTLYENV || {};\n",
       "                    \n",
       "                if (document.getElementById(\"e0c79830-c614-4220-8704-826cbb3df0c4\")) {\n",
       "                    Plotly.newPlot(\n",
       "                        'e0c79830-c614-4220-8704-826cbb3df0c4',\n",
       "                        [{\"alignmentgroup\": \"True\", \"boxpoints\": \"all\", \"hovertemplate\": \"method=BLADE<br>Data Set (Ncell_Ngene_Nsample_Noise)=%{x}<br>Pearson Correlation=%{y}<extra></extra>\", \"legendgroup\": \"BLADE\", \"marker\": {\"color\": \"#636efa\"}, \"name\": \"BLADE\", \"notched\": false, \"offsetgroup\": \"BLADE\", \"orientation\": \"v\", \"showlegend\": true, \"type\": \"box\", \"x\": [\"5_500_10_0.5\", \"5_500_10_0.5\", \"5_500_10_0.5\", \"5_500_10_0.5\", \"5_500_10_0.5\", \"5_500_10_1\", \"5_500_10_1\", \"5_500_10_1\", \"5_500_10_1\", \"5_500_10_1\", \"5_500_10_1.5\", \"5_500_10_1.5\", \"5_500_10_1.5\", \"5_500_10_1.5\", \"5_500_10_1.5\", \"5_500_20_0.5\", \"5_500_20_0.5\", \"5_500_20_0.5\", \"5_500_20_0.5\", \"5_500_20_0.5\", \"5_500_20_1\", \"5_500_20_1\", \"5_500_20_1\", \"5_500_20_1\", \"5_500_20_1\", \"5_500_20_1.5\", \"5_500_20_1.5\", \"5_500_20_1.5\", \"5_500_20_1.5\", \"5_500_20_1.5\"], \"x0\": \" \", \"xaxis\": \"x\", \"y\": [0.9760671425208692, 0.9780911010340285, 0.9572141333782359, 0.9737948620644145, 0.994846738867489, 0.9366231324788837, 0.908220263084958, 0.9611083866387872, 0.9126324671023534, 0.945119557517201, 0.9176694118431927, 0.9145757702725452, 0.8981023948196777, 0.9185945702376128, 0.9846041573083993, 0.9601747383720222, 0.9779612235970133, 0.9827591285872155, 0.9891764920680605, 0.9922151122211956, 0.8411799382182162, 0.8663741566183373, 0.8644984693428516, 0.845150079415312, 0.9314335298512336, 0.8779175770585829, 0.8958406567413247, 0.8092282604264628, 0.847241612171784, 0.8392921808180656], \"y0\": \" \", \"yaxis\": \"y\"}, {\"alignmentgroup\": \"True\", \"boxpoints\": \"all\", \"hovertemplate\": \"method=NNLS<br>Data Set (Ncell_Ngene_Nsample_Noise)=%{x}<br>Pearson Correlation=%{y}<extra></extra>\", \"legendgroup\": \"NNLS\", \"marker\": {\"color\": \"#EF553B\"}, \"name\": \"NNLS\", \"notched\": false, \"offsetgroup\": \"NNLS\", \"orientation\": \"v\", \"showlegend\": true, \"type\": \"box\", \"x\": [\"5_500_10_0.5\", \"5_500_10_0.5\", \"5_500_10_0.5\", \"5_500_10_0.5\", \"5_500_10_0.5\", \"5_500_10_1\", \"5_500_10_1\", \"5_500_10_1\", \"5_500_10_1\", \"5_500_10_1\", \"5_500_10_1.5\", \"5_500_10_1.5\", \"5_500_10_1.5\", \"5_500_10_1.5\", \"5_500_10_1.5\", \"5_500_20_0.5\", \"5_500_20_0.5\", \"5_500_20_0.5\", \"5_500_20_0.5\", \"5_500_20_0.5\", \"5_500_20_1\", \"5_500_20_1\", \"5_500_20_1\", \"5_500_20_1\", \"5_500_20_1\", \"5_500_20_1.5\", \"5_500_20_1.5\", \"5_500_20_1.5\", \"5_500_20_1.5\", \"5_500_20_1.5\"], \"x0\": \" \", \"xaxis\": \"x\", \"y\": [0.938876259522834, 0.5413961190793612, 0.8402797190591628, 0.6945305539807007, 0.8193564387292104, 0.90138353042295, 0.020388429196337356, 0.22046184023642934, 0.5325790939338667, 0.774456335998725, 0.8099547039661853, 0.6579633592168184, 0.2011863856897796, 0.6321985132316563, 0.6301473627981813, 0.6479661001251112, 0.8535929110395842, 0.8785176179425237, 0.8650181248321498, 0.8744707968619145, 0.5252790229947057, 0.4993416027011587, 0.6416208539898336, 0.5175991571770197, 0.48796304044415917, -0.02668833269609483, 0.35422183716420746, -0.002382428622161992, 0.4579431623855363, 0.09532225838349444], \"y0\": \" \", \"yaxis\": \"y\"}, {\"alignmentgroup\": \"True\", \"boxpoints\": \"all\", \"hovertemplate\": \"method=SVR_NNLS<br>Data Set (Ncell_Ngene_Nsample_Noise)=%{x}<br>Pearson Correlation=%{y}<extra></extra>\", \"legendgroup\": \"SVR_NNLS\", \"marker\": {\"color\": \"#00cc96\"}, \"name\": \"SVR_NNLS\", \"notched\": false, \"offsetgroup\": \"SVR_NNLS\", \"orientation\": \"v\", \"showlegend\": true, \"type\": \"box\", \"x\": [\"5_500_10_0.5\", \"5_500_10_0.5\", \"5_500_10_0.5\", \"5_500_10_0.5\", \"5_500_10_0.5\", \"5_500_10_1\", \"5_500_10_1\", \"5_500_10_1\", \"5_500_10_1\", \"5_500_10_1\", \"5_500_10_1.5\", \"5_500_10_1.5\", \"5_500_10_1.5\", \"5_500_10_1.5\", \"5_500_10_1.5\", \"5_500_20_0.5\", \"5_500_20_0.5\", \"5_500_20_0.5\", \"5_500_20_0.5\", \"5_500_20_0.5\", \"5_500_20_1\", \"5_500_20_1\", \"5_500_20_1\", \"5_500_20_1\", \"5_500_20_1\", \"5_500_20_1.5\", \"5_500_20_1.5\", \"5_500_20_1.5\", \"5_500_20_1.5\", \"5_500_20_1.5\"], \"x0\": \" \", \"xaxis\": \"x\", \"y\": [0.9391689468197172, 0.6105261008491666, 0.9154983856578339, 0.7764512843750838, 0.8505767136051491, 0.8430615977285859, 0.16401008380972415, 0.17614825780091253, 0.6734376820952853, 0.5696909415919889, 0.583479676792344, 0.8297622107202598, 0.20786327239274136, 0.7993492557025386, 0.7313726824250613, 0.6824026537619645, 0.8735555808974719, 0.9094979312391611, 0.8508124378000261, 0.926529614130782, 0.7713262377978554, 0.6633398624980511, 0.830187420163835, 0.792396049332254, 0.7109127651171134, 0.06344930781771076, 0.36265759502841355, -0.0885577700284403, 0.39221698327866467, 0.2996893433558255], \"y0\": \" \", \"yaxis\": \"y\"}],\n",
       "                        {\"boxmode\": \"group\", \"height\": 500, \"legend\": {\"title\": {\"text\": \"method\"}, \"tracegroupgap\": 0}, \"margin\": {\"t\": 60}, \"template\": {\"data\": {\"bar\": [{\"error_x\": {\"color\": \"#2a3f5f\"}, \"error_y\": {\"color\": \"#2a3f5f\"}, \"marker\": {\"line\": {\"color\": \"#E5ECF6\", \"width\": 0.5}}, \"type\": \"bar\"}], \"barpolar\": [{\"marker\": {\"line\": {\"color\": \"#E5ECF6\", \"width\": 0.5}}, \"type\": \"barpolar\"}], \"carpet\": [{\"aaxis\": {\"endlinecolor\": \"#2a3f5f\", \"gridcolor\": \"white\", \"linecolor\": \"white\", \"minorgridcolor\": \"white\", \"startlinecolor\": \"#2a3f5f\"}, \"baxis\": {\"endlinecolor\": \"#2a3f5f\", \"gridcolor\": \"white\", \"linecolor\": \"white\", \"minorgridcolor\": \"white\", \"startlinecolor\": \"#2a3f5f\"}, \"type\": \"carpet\"}], \"choropleth\": [{\"colorbar\": {\"outlinewidth\": 0, \"ticks\": \"\"}, \"type\": \"choropleth\"}], \"contour\": [{\"colorbar\": {\"outlinewidth\": 0, \"ticks\": \"\"}, \"colorscale\": [[0.0, \"#0d0887\"], [0.1111111111111111, \"#46039f\"], [0.2222222222222222, \"#7201a8\"], [0.3333333333333333, \"#9c179e\"], [0.4444444444444444, \"#bd3786\"], [0.5555555555555556, \"#d8576b\"], [0.6666666666666666, \"#ed7953\"], [0.7777777777777778, \"#fb9f3a\"], [0.8888888888888888, \"#fdca26\"], [1.0, \"#f0f921\"]], \"type\": \"contour\"}], \"contourcarpet\": [{\"colorbar\": {\"outlinewidth\": 0, \"ticks\": \"\"}, \"type\": \"contourcarpet\"}], \"heatmap\": [{\"colorbar\": {\"outlinewidth\": 0, \"ticks\": \"\"}, \"colorscale\": [[0.0, \"#0d0887\"], [0.1111111111111111, \"#46039f\"], [0.2222222222222222, \"#7201a8\"], [0.3333333333333333, \"#9c179e\"], [0.4444444444444444, \"#bd3786\"], [0.5555555555555556, \"#d8576b\"], [0.6666666666666666, \"#ed7953\"], [0.7777777777777778, \"#fb9f3a\"], [0.8888888888888888, \"#fdca26\"], [1.0, \"#f0f921\"]], \"type\": \"heatmap\"}], \"heatmapgl\": [{\"colorbar\": {\"outlinewidth\": 0, \"ticks\": \"\"}, \"colorscale\": [[0.0, \"#0d0887\"], [0.1111111111111111, \"#46039f\"], [0.2222222222222222, \"#7201a8\"], [0.3333333333333333, \"#9c179e\"], [0.4444444444444444, \"#bd3786\"], [0.5555555555555556, \"#d8576b\"], [0.6666666666666666, \"#ed7953\"], [0.7777777777777778, \"#fb9f3a\"], [0.8888888888888888, \"#fdca26\"], [1.0, \"#f0f921\"]], \"type\": \"heatmapgl\"}], \"histogram\": [{\"marker\": {\"colorbar\": {\"outlinewidth\": 0, \"ticks\": \"\"}}, \"type\": \"histogram\"}], \"histogram2d\": [{\"colorbar\": {\"outlinewidth\": 0, \"ticks\": \"\"}, \"colorscale\": [[0.0, \"#0d0887\"], [0.1111111111111111, \"#46039f\"], [0.2222222222222222, \"#7201a8\"], [0.3333333333333333, \"#9c179e\"], [0.4444444444444444, \"#bd3786\"], [0.5555555555555556, \"#d8576b\"], [0.6666666666666666, \"#ed7953\"], [0.7777777777777778, \"#fb9f3a\"], [0.8888888888888888, \"#fdca26\"], [1.0, \"#f0f921\"]], \"type\": \"histogram2d\"}], \"histogram2dcontour\": [{\"colorbar\": {\"outlinewidth\": 0, \"ticks\": \"\"}, \"colorscale\": [[0.0, \"#0d0887\"], [0.1111111111111111, \"#46039f\"], [0.2222222222222222, \"#7201a8\"], [0.3333333333333333, \"#9c179e\"], [0.4444444444444444, \"#bd3786\"], [0.5555555555555556, \"#d8576b\"], [0.6666666666666666, \"#ed7953\"], [0.7777777777777778, \"#fb9f3a\"], [0.8888888888888888, \"#fdca26\"], [1.0, \"#f0f921\"]], \"type\": \"histogram2dcontour\"}], \"mesh3d\": [{\"colorbar\": {\"outlinewidth\": 0, \"ticks\": \"\"}, \"type\": \"mesh3d\"}], \"parcoords\": [{\"line\": {\"colorbar\": {\"outlinewidth\": 0, \"ticks\": \"\"}}, \"type\": \"parcoords\"}], \"pie\": [{\"automargin\": true, \"type\": \"pie\"}], \"scatter\": [{\"marker\": {\"colorbar\": {\"outlinewidth\": 0, \"ticks\": \"\"}}, \"type\": \"scatter\"}], \"scatter3d\": [{\"line\": {\"colorbar\": {\"outlinewidth\": 0, \"ticks\": \"\"}}, \"marker\": {\"colorbar\": {\"outlinewidth\": 0, \"ticks\": \"\"}}, \"type\": \"scatter3d\"}], \"scattercarpet\": [{\"marker\": {\"colorbar\": {\"outlinewidth\": 0, \"ticks\": \"\"}}, \"type\": \"scattercarpet\"}], \"scattergeo\": [{\"marker\": {\"colorbar\": {\"outlinewidth\": 0, \"ticks\": \"\"}}, \"type\": \"scattergeo\"}], \"scattergl\": [{\"marker\": {\"colorbar\": {\"outlinewidth\": 0, \"ticks\": \"\"}}, \"type\": \"scattergl\"}], \"scattermapbox\": [{\"marker\": {\"colorbar\": {\"outlinewidth\": 0, \"ticks\": \"\"}}, \"type\": \"scattermapbox\"}], \"scatterpolar\": [{\"marker\": {\"colorbar\": {\"outlinewidth\": 0, \"ticks\": \"\"}}, \"type\": \"scatterpolar\"}], \"scatterpolargl\": [{\"marker\": {\"colorbar\": {\"outlinewidth\": 0, \"ticks\": \"\"}}, \"type\": \"scatterpolargl\"}], \"scatterternary\": [{\"marker\": {\"colorbar\": {\"outlinewidth\": 0, \"ticks\": \"\"}}, \"type\": \"scatterternary\"}], \"surface\": [{\"colorbar\": {\"outlinewidth\": 0, \"ticks\": \"\"}, \"colorscale\": [[0.0, \"#0d0887\"], [0.1111111111111111, \"#46039f\"], [0.2222222222222222, \"#7201a8\"], [0.3333333333333333, \"#9c179e\"], [0.4444444444444444, \"#bd3786\"], [0.5555555555555556, \"#d8576b\"], [0.6666666666666666, \"#ed7953\"], [0.7777777777777778, \"#fb9f3a\"], [0.8888888888888888, \"#fdca26\"], [1.0, \"#f0f921\"]], \"type\": \"surface\"}], \"table\": [{\"cells\": {\"fill\": {\"color\": \"#EBF0F8\"}, \"line\": {\"color\": \"white\"}}, \"header\": {\"fill\": {\"color\": \"#C8D4E3\"}, \"line\": {\"color\": \"white\"}}, \"type\": \"table\"}]}, \"layout\": {\"annotationdefaults\": {\"arrowcolor\": \"#2a3f5f\", \"arrowhead\": 0, \"arrowwidth\": 1}, \"coloraxis\": {\"colorbar\": {\"outlinewidth\": 0, \"ticks\": \"\"}}, \"colorscale\": {\"diverging\": [[0, \"#8e0152\"], [0.1, \"#c51b7d\"], [0.2, \"#de77ae\"], [0.3, \"#f1b6da\"], [0.4, \"#fde0ef\"], [0.5, \"#f7f7f7\"], [0.6, \"#e6f5d0\"], [0.7, \"#b8e186\"], [0.8, \"#7fbc41\"], [0.9, \"#4d9221\"], [1, \"#276419\"]], \"sequential\": [[0.0, \"#0d0887\"], [0.1111111111111111, \"#46039f\"], [0.2222222222222222, \"#7201a8\"], [0.3333333333333333, \"#9c179e\"], [0.4444444444444444, \"#bd3786\"], [0.5555555555555556, \"#d8576b\"], [0.6666666666666666, \"#ed7953\"], [0.7777777777777778, \"#fb9f3a\"], [0.8888888888888888, \"#fdca26\"], [1.0, \"#f0f921\"]], \"sequentialminus\": [[0.0, \"#0d0887\"], [0.1111111111111111, \"#46039f\"], [0.2222222222222222, \"#7201a8\"], [0.3333333333333333, \"#9c179e\"], [0.4444444444444444, \"#bd3786\"], [0.5555555555555556, \"#d8576b\"], [0.6666666666666666, \"#ed7953\"], [0.7777777777777778, \"#fb9f3a\"], [0.8888888888888888, \"#fdca26\"], [1.0, \"#f0f921\"]]}, \"colorway\": [\"#636efa\", \"#EF553B\", \"#00cc96\", \"#ab63fa\", \"#FFA15A\", \"#19d3f3\", \"#FF6692\", \"#B6E880\", \"#FF97FF\", \"#FECB52\"], \"font\": {\"color\": \"#2a3f5f\"}, \"geo\": {\"bgcolor\": \"white\", \"lakecolor\": \"white\", \"landcolor\": \"#E5ECF6\", \"showlakes\": true, \"showland\": true, \"subunitcolor\": \"white\"}, \"hoverlabel\": {\"align\": \"left\"}, \"hovermode\": \"closest\", \"mapbox\": {\"style\": \"light\"}, \"paper_bgcolor\": \"white\", \"plot_bgcolor\": \"#E5ECF6\", \"polar\": {\"angularaxis\": {\"gridcolor\": \"white\", \"linecolor\": \"white\", \"ticks\": \"\"}, \"bgcolor\": \"#E5ECF6\", \"radialaxis\": {\"gridcolor\": \"white\", \"linecolor\": \"white\", \"ticks\": \"\"}}, \"scene\": {\"xaxis\": {\"backgroundcolor\": \"#E5ECF6\", \"gridcolor\": \"white\", \"gridwidth\": 2, \"linecolor\": \"white\", \"showbackground\": true, \"ticks\": \"\", \"zerolinecolor\": \"white\"}, \"yaxis\": {\"backgroundcolor\": \"#E5ECF6\", \"gridcolor\": \"white\", \"gridwidth\": 2, \"linecolor\": \"white\", \"showbackground\": true, \"ticks\": \"\", \"zerolinecolor\": \"white\"}, \"zaxis\": {\"backgroundcolor\": \"#E5ECF6\", \"gridcolor\": \"white\", \"gridwidth\": 2, \"linecolor\": \"white\", \"showbackground\": true, \"ticks\": \"\", \"zerolinecolor\": \"white\"}}, \"shapedefaults\": {\"line\": {\"color\": \"#2a3f5f\"}}, \"ternary\": {\"aaxis\": {\"gridcolor\": \"white\", \"linecolor\": \"white\", \"ticks\": \"\"}, \"baxis\": {\"gridcolor\": \"white\", \"linecolor\": \"white\", \"ticks\": \"\"}, \"bgcolor\": \"#E5ECF6\", \"caxis\": {\"gridcolor\": \"white\", \"linecolor\": \"white\", \"ticks\": \"\"}}, \"title\": {\"x\": 0.05}, \"xaxis\": {\"automargin\": true, \"gridcolor\": \"white\", \"linecolor\": \"white\", \"ticks\": \"\", \"title\": {\"standoff\": 15}, \"zerolinecolor\": \"white\", \"zerolinewidth\": 2}, \"yaxis\": {\"automargin\": true, \"gridcolor\": \"white\", \"linecolor\": \"white\", \"ticks\": \"\", \"title\": {\"standoff\": 15}, \"zerolinecolor\": \"white\", \"zerolinewidth\": 2}}}, \"title\": {\"text\": \"Performance of fraction estimation (per cell type)\"}, \"width\": 800, \"xaxis\": {\"anchor\": \"y\", \"domain\": [0.0, 1.0], \"title\": {\"text\": \"Data Set (Ncell_Ngene_Nsample_Noise)\"}}, \"yaxis\": {\"anchor\": \"x\", \"domain\": [0.0, 1.0], \"title\": {\"text\": \"Pearson Correlation\"}}},\n",
       "                        {\"responsive\": true}\n",
       "                    ).then(function(){\n",
       "                            \n",
       "var gd = document.getElementById('e0c79830-c614-4220-8704-826cbb3df0c4');\n",
       "var x = new MutationObserver(function (mutations, observer) {{\n",
       "        var display = window.getComputedStyle(gd).display;\n",
       "        if (!display || display === 'none') {{\n",
       "            console.log([gd, 'removed!']);\n",
       "            Plotly.purge(gd);\n",
       "            observer.disconnect();\n",
       "        }}\n",
       "}});\n",
       "\n",
       "// Listen for the removal of the full notebook cells\n",
       "var notebookContainer = gd.closest('#notebook-container');\n",
       "if (notebookContainer) {{\n",
       "    x.observe(notebookContainer, {childList: true});\n",
       "}}\n",
       "\n",
       "// Listen for the clearing of the current output cell\n",
       "var outputEl = gd.closest('.output');\n",
       "if (outputEl) {{\n",
       "    x.observe(outputEl, {childList: true});\n",
       "}}\n",
       "\n",
       "                        })\n",
       "                };\n",
       "                });\n",
       "            </script>\n",
       "        </div>"
      ]
     },
     "metadata": {},
     "output_type": "display_data"
    }
   ],
   "source": [
    "fig = px.box(outcome_PerCell, y='Cor_Fraction', color='method', x='dataset', points=\"all\",\n",
    "            labels=dict(Cor_Fraction = \"Pearson Correlation\",\n",
    "                        dataset = \"Data Set (Ncell_Ngene_Nsample_Noise)\"\n",
    "                       )\n",
    "            )\n",
    "\n",
    "fig.update_layout(height=500, width=800,\n",
    "                  title_text=\"Performance of fraction estimation (per cell type)\")\n",
    "fig.show()"
   ]
  },
  {
   "cell_type": "markdown",
   "metadata": {},
   "source": [
    "Then, performance of each cell type can also be compared across the methods using a scatter plot."
   ]
  },
  {
   "cell_type": "code",
   "execution_count": 178,
   "metadata": {
    "scrolled": false
   },
   "outputs": [
    {
     "data": {
      "application/vnd.plotly.v1+json": {
       "config": {
        "plotlyServerURL": "https://plot.ly"
       },
       "data": [
        {
         "marker": {
          "color": [
           "#7140c0",
           "#f1ba2a",
           "#6dd9fa",
           "#f5864a",
           "#959930",
           "#9c210a",
           "#7140c0",
           "#f1ba2a",
           "#6dd9fa",
           "#f5864a",
           "#959930",
           "#9c210a",
           "#7140c0",
           "#f1ba2a",
           "#6dd9fa",
           "#f5864a",
           "#959930",
           "#9c210a",
           "#7140c0",
           "#f1ba2a",
           "#6dd9fa",
           "#f5864a",
           "#959930",
           "#9c210a",
           "#7140c0",
           "#f1ba2a",
           "#6dd9fa",
           "#f5864a",
           "#959930",
           "#9c210a"
          ],
          "coloraxis": "coloraxis"
         },
         "mode": "markers",
         "text": [
          "5_500_10_0.5",
          "5_500_10_1",
          "5_500_10_1.5",
          "5_500_20_0.5",
          "5_500_20_1",
          "5_500_20_1.5",
          "5_500_10_0.5",
          "5_500_10_1",
          "5_500_10_1.5",
          "5_500_20_0.5",
          "5_500_20_1",
          "5_500_20_1.5",
          "5_500_10_0.5",
          "5_500_10_1",
          "5_500_10_1.5",
          "5_500_20_0.5",
          "5_500_20_1",
          "5_500_20_1.5",
          "5_500_10_0.5",
          "5_500_10_1",
          "5_500_10_1.5",
          "5_500_20_0.5",
          "5_500_20_1",
          "5_500_20_1.5",
          "5_500_10_0.5",
          "5_500_10_1",
          "5_500_10_1.5",
          "5_500_20_0.5",
          "5_500_20_1",
          "5_500_20_1.5"
         ],
         "type": "scatter",
         "x": [
          0.938876259522834,
          0.90138353042295,
          0.8099547039661853,
          0.6479661001251112,
          0.5252790229947057,
          -0.02668833269609483,
          0.5413961190793612,
          0.020388429196337356,
          0.6579633592168184,
          0.8535929110395842,
          0.4993416027011587,
          0.35422183716420746,
          0.8402797190591628,
          0.22046184023642934,
          0.2011863856897796,
          0.8785176179425237,
          0.6416208539898336,
          -0.002382428622161992,
          0.6945305539807007,
          0.5325790939338667,
          0.6321985132316563,
          0.8650181248321498,
          0.5175991571770197,
          0.4579431623855363,
          0.8193564387292104,
          0.774456335998725,
          0.6301473627981813,
          0.8744707968619145,
          0.48796304044415917,
          0.09532225838349444
         ],
         "xaxis": "x",
         "y": [
          0.9760671425208692,
          0.9366231324788837,
          0.9176694118431927,
          0.9601747383720222,
          0.8411799382182162,
          0.8779175770585829,
          0.9780911010340285,
          0.908220263084958,
          0.9145757702725452,
          0.9779612235970133,
          0.8663741566183373,
          0.8958406567413247,
          0.9572141333782359,
          0.9611083866387872,
          0.8981023948196777,
          0.9827591285872155,
          0.8644984693428516,
          0.8092282604264628,
          0.9737948620644145,
          0.9126324671023534,
          0.9185945702376128,
          0.9891764920680605,
          0.845150079415312,
          0.847241612171784,
          0.994846738867489,
          0.945119557517201,
          0.9846041573083993,
          0.9922151122211956,
          0.9314335298512336,
          0.8392921808180656
         ],
         "yaxis": "y"
        },
        {
         "marker": {
          "color": [
           "#7140c0",
           "#f1ba2a",
           "#6dd9fa",
           "#f5864a",
           "#959930",
           "#9c210a",
           "#7140c0",
           "#f1ba2a",
           "#6dd9fa",
           "#f5864a",
           "#959930",
           "#9c210a",
           "#7140c0",
           "#f1ba2a",
           "#6dd9fa",
           "#f5864a",
           "#959930",
           "#9c210a",
           "#7140c0",
           "#f1ba2a",
           "#6dd9fa",
           "#f5864a",
           "#959930",
           "#9c210a",
           "#7140c0",
           "#f1ba2a",
           "#6dd9fa",
           "#f5864a",
           "#959930",
           "#9c210a"
          ],
          "coloraxis": "coloraxis"
         },
         "mode": "markers",
         "text": [
          "5_500_10_0.5",
          "5_500_10_1",
          "5_500_10_1.5",
          "5_500_20_0.5",
          "5_500_20_1",
          "5_500_20_1.5",
          "5_500_10_0.5",
          "5_500_10_1",
          "5_500_10_1.5",
          "5_500_20_0.5",
          "5_500_20_1",
          "5_500_20_1.5",
          "5_500_10_0.5",
          "5_500_10_1",
          "5_500_10_1.5",
          "5_500_20_0.5",
          "5_500_20_1",
          "5_500_20_1.5",
          "5_500_10_0.5",
          "5_500_10_1",
          "5_500_10_1.5",
          "5_500_20_0.5",
          "5_500_20_1",
          "5_500_20_1.5",
          "5_500_10_0.5",
          "5_500_10_1",
          "5_500_10_1.5",
          "5_500_20_0.5",
          "5_500_20_1",
          "5_500_20_1.5"
         ],
         "type": "scatter",
         "x": [
          0.9391689468197172,
          0.8430615977285859,
          0.583479676792344,
          0.6824026537619645,
          0.7713262377978554,
          0.06344930781771076,
          0.6105261008491666,
          0.16401008380972415,
          0.8297622107202598,
          0.8735555808974719,
          0.6633398624980511,
          0.36265759502841355,
          0.9154983856578339,
          0.17614825780091253,
          0.20786327239274136,
          0.9094979312391611,
          0.830187420163835,
          -0.0885577700284403,
          0.7764512843750838,
          0.6734376820952853,
          0.7993492557025386,
          0.8508124378000261,
          0.792396049332254,
          0.39221698327866467,
          0.8505767136051491,
          0.5696909415919889,
          0.7313726824250613,
          0.926529614130782,
          0.7109127651171134,
          0.2996893433558255
         ],
         "xaxis": "x2",
         "y": [
          0.9760671425208692,
          0.9366231324788837,
          0.9176694118431927,
          0.9601747383720222,
          0.8411799382182162,
          0.8779175770585829,
          0.9780911010340285,
          0.908220263084958,
          0.9145757702725452,
          0.9779612235970133,
          0.8663741566183373,
          0.8958406567413247,
          0.9572141333782359,
          0.9611083866387872,
          0.8981023948196777,
          0.9827591285872155,
          0.8644984693428516,
          0.8092282604264628,
          0.9737948620644145,
          0.9126324671023534,
          0.9185945702376128,
          0.9891764920680605,
          0.845150079415312,
          0.847241612171784,
          0.994846738867489,
          0.945119557517201,
          0.9846041573083993,
          0.9922151122211956,
          0.9314335298512336,
          0.8392921808180656
         ],
         "yaxis": "y2"
        }
       ],
       "layout": {
        "coloraxis": {
         "colorscale": [
          [
           0,
           "rgb(255,0,0)"
          ],
          [
           1,
           "rgb(0,0,255)"
          ]
         ]
        },
        "height": 500,
        "showlegend": false,
        "template": {
         "data": {
          "bar": [
           {
            "error_x": {
             "color": "#2a3f5f"
            },
            "error_y": {
             "color": "#2a3f5f"
            },
            "marker": {
             "line": {
              "color": "#E5ECF6",
              "width": 0.5
             }
            },
            "type": "bar"
           }
          ],
          "barpolar": [
           {
            "marker": {
             "line": {
              "color": "#E5ECF6",
              "width": 0.5
             }
            },
            "type": "barpolar"
           }
          ],
          "carpet": [
           {
            "aaxis": {
             "endlinecolor": "#2a3f5f",
             "gridcolor": "white",
             "linecolor": "white",
             "minorgridcolor": "white",
             "startlinecolor": "#2a3f5f"
            },
            "baxis": {
             "endlinecolor": "#2a3f5f",
             "gridcolor": "white",
             "linecolor": "white",
             "minorgridcolor": "white",
             "startlinecolor": "#2a3f5f"
            },
            "type": "carpet"
           }
          ],
          "choropleth": [
           {
            "colorbar": {
             "outlinewidth": 0,
             "ticks": ""
            },
            "type": "choropleth"
           }
          ],
          "contour": [
           {
            "colorbar": {
             "outlinewidth": 0,
             "ticks": ""
            },
            "colorscale": [
             [
              0,
              "#0d0887"
             ],
             [
              0.1111111111111111,
              "#46039f"
             ],
             [
              0.2222222222222222,
              "#7201a8"
             ],
             [
              0.3333333333333333,
              "#9c179e"
             ],
             [
              0.4444444444444444,
              "#bd3786"
             ],
             [
              0.5555555555555556,
              "#d8576b"
             ],
             [
              0.6666666666666666,
              "#ed7953"
             ],
             [
              0.7777777777777778,
              "#fb9f3a"
             ],
             [
              0.8888888888888888,
              "#fdca26"
             ],
             [
              1,
              "#f0f921"
             ]
            ],
            "type": "contour"
           }
          ],
          "contourcarpet": [
           {
            "colorbar": {
             "outlinewidth": 0,
             "ticks": ""
            },
            "type": "contourcarpet"
           }
          ],
          "heatmap": [
           {
            "colorbar": {
             "outlinewidth": 0,
             "ticks": ""
            },
            "colorscale": [
             [
              0,
              "#0d0887"
             ],
             [
              0.1111111111111111,
              "#46039f"
             ],
             [
              0.2222222222222222,
              "#7201a8"
             ],
             [
              0.3333333333333333,
              "#9c179e"
             ],
             [
              0.4444444444444444,
              "#bd3786"
             ],
             [
              0.5555555555555556,
              "#d8576b"
             ],
             [
              0.6666666666666666,
              "#ed7953"
             ],
             [
              0.7777777777777778,
              "#fb9f3a"
             ],
             [
              0.8888888888888888,
              "#fdca26"
             ],
             [
              1,
              "#f0f921"
             ]
            ],
            "type": "heatmap"
           }
          ],
          "heatmapgl": [
           {
            "colorbar": {
             "outlinewidth": 0,
             "ticks": ""
            },
            "colorscale": [
             [
              0,
              "#0d0887"
             ],
             [
              0.1111111111111111,
              "#46039f"
             ],
             [
              0.2222222222222222,
              "#7201a8"
             ],
             [
              0.3333333333333333,
              "#9c179e"
             ],
             [
              0.4444444444444444,
              "#bd3786"
             ],
             [
              0.5555555555555556,
              "#d8576b"
             ],
             [
              0.6666666666666666,
              "#ed7953"
             ],
             [
              0.7777777777777778,
              "#fb9f3a"
             ],
             [
              0.8888888888888888,
              "#fdca26"
             ],
             [
              1,
              "#f0f921"
             ]
            ],
            "type": "heatmapgl"
           }
          ],
          "histogram": [
           {
            "marker": {
             "colorbar": {
              "outlinewidth": 0,
              "ticks": ""
             }
            },
            "type": "histogram"
           }
          ],
          "histogram2d": [
           {
            "colorbar": {
             "outlinewidth": 0,
             "ticks": ""
            },
            "colorscale": [
             [
              0,
              "#0d0887"
             ],
             [
              0.1111111111111111,
              "#46039f"
             ],
             [
              0.2222222222222222,
              "#7201a8"
             ],
             [
              0.3333333333333333,
              "#9c179e"
             ],
             [
              0.4444444444444444,
              "#bd3786"
             ],
             [
              0.5555555555555556,
              "#d8576b"
             ],
             [
              0.6666666666666666,
              "#ed7953"
             ],
             [
              0.7777777777777778,
              "#fb9f3a"
             ],
             [
              0.8888888888888888,
              "#fdca26"
             ],
             [
              1,
              "#f0f921"
             ]
            ],
            "type": "histogram2d"
           }
          ],
          "histogram2dcontour": [
           {
            "colorbar": {
             "outlinewidth": 0,
             "ticks": ""
            },
            "colorscale": [
             [
              0,
              "#0d0887"
             ],
             [
              0.1111111111111111,
              "#46039f"
             ],
             [
              0.2222222222222222,
              "#7201a8"
             ],
             [
              0.3333333333333333,
              "#9c179e"
             ],
             [
              0.4444444444444444,
              "#bd3786"
             ],
             [
              0.5555555555555556,
              "#d8576b"
             ],
             [
              0.6666666666666666,
              "#ed7953"
             ],
             [
              0.7777777777777778,
              "#fb9f3a"
             ],
             [
              0.8888888888888888,
              "#fdca26"
             ],
             [
              1,
              "#f0f921"
             ]
            ],
            "type": "histogram2dcontour"
           }
          ],
          "mesh3d": [
           {
            "colorbar": {
             "outlinewidth": 0,
             "ticks": ""
            },
            "type": "mesh3d"
           }
          ],
          "parcoords": [
           {
            "line": {
             "colorbar": {
              "outlinewidth": 0,
              "ticks": ""
             }
            },
            "type": "parcoords"
           }
          ],
          "pie": [
           {
            "automargin": true,
            "type": "pie"
           }
          ],
          "scatter": [
           {
            "marker": {
             "colorbar": {
              "outlinewidth": 0,
              "ticks": ""
             }
            },
            "type": "scatter"
           }
          ],
          "scatter3d": [
           {
            "line": {
             "colorbar": {
              "outlinewidth": 0,
              "ticks": ""
             }
            },
            "marker": {
             "colorbar": {
              "outlinewidth": 0,
              "ticks": ""
             }
            },
            "type": "scatter3d"
           }
          ],
          "scattercarpet": [
           {
            "marker": {
             "colorbar": {
              "outlinewidth": 0,
              "ticks": ""
             }
            },
            "type": "scattercarpet"
           }
          ],
          "scattergeo": [
           {
            "marker": {
             "colorbar": {
              "outlinewidth": 0,
              "ticks": ""
             }
            },
            "type": "scattergeo"
           }
          ],
          "scattergl": [
           {
            "marker": {
             "colorbar": {
              "outlinewidth": 0,
              "ticks": ""
             }
            },
            "type": "scattergl"
           }
          ],
          "scattermapbox": [
           {
            "marker": {
             "colorbar": {
              "outlinewidth": 0,
              "ticks": ""
             }
            },
            "type": "scattermapbox"
           }
          ],
          "scatterpolar": [
           {
            "marker": {
             "colorbar": {
              "outlinewidth": 0,
              "ticks": ""
             }
            },
            "type": "scatterpolar"
           }
          ],
          "scatterpolargl": [
           {
            "marker": {
             "colorbar": {
              "outlinewidth": 0,
              "ticks": ""
             }
            },
            "type": "scatterpolargl"
           }
          ],
          "scatterternary": [
           {
            "marker": {
             "colorbar": {
              "outlinewidth": 0,
              "ticks": ""
             }
            },
            "type": "scatterternary"
           }
          ],
          "surface": [
           {
            "colorbar": {
             "outlinewidth": 0,
             "ticks": ""
            },
            "colorscale": [
             [
              0,
              "#0d0887"
             ],
             [
              0.1111111111111111,
              "#46039f"
             ],
             [
              0.2222222222222222,
              "#7201a8"
             ],
             [
              0.3333333333333333,
              "#9c179e"
             ],
             [
              0.4444444444444444,
              "#bd3786"
             ],
             [
              0.5555555555555556,
              "#d8576b"
             ],
             [
              0.6666666666666666,
              "#ed7953"
             ],
             [
              0.7777777777777778,
              "#fb9f3a"
             ],
             [
              0.8888888888888888,
              "#fdca26"
             ],
             [
              1,
              "#f0f921"
             ]
            ],
            "type": "surface"
           }
          ],
          "table": [
           {
            "cells": {
             "fill": {
              "color": "#EBF0F8"
             },
             "line": {
              "color": "white"
             }
            },
            "header": {
             "fill": {
              "color": "#C8D4E3"
             },
             "line": {
              "color": "white"
             }
            },
            "type": "table"
           }
          ]
         },
         "layout": {
          "annotationdefaults": {
           "arrowcolor": "#2a3f5f",
           "arrowhead": 0,
           "arrowwidth": 1
          },
          "coloraxis": {
           "colorbar": {
            "outlinewidth": 0,
            "ticks": ""
           }
          },
          "colorscale": {
           "diverging": [
            [
             0,
             "#8e0152"
            ],
            [
             0.1,
             "#c51b7d"
            ],
            [
             0.2,
             "#de77ae"
            ],
            [
             0.3,
             "#f1b6da"
            ],
            [
             0.4,
             "#fde0ef"
            ],
            [
             0.5,
             "#f7f7f7"
            ],
            [
             0.6,
             "#e6f5d0"
            ],
            [
             0.7,
             "#b8e186"
            ],
            [
             0.8,
             "#7fbc41"
            ],
            [
             0.9,
             "#4d9221"
            ],
            [
             1,
             "#276419"
            ]
           ],
           "sequential": [
            [
             0,
             "#0d0887"
            ],
            [
             0.1111111111111111,
             "#46039f"
            ],
            [
             0.2222222222222222,
             "#7201a8"
            ],
            [
             0.3333333333333333,
             "#9c179e"
            ],
            [
             0.4444444444444444,
             "#bd3786"
            ],
            [
             0.5555555555555556,
             "#d8576b"
            ],
            [
             0.6666666666666666,
             "#ed7953"
            ],
            [
             0.7777777777777778,
             "#fb9f3a"
            ],
            [
             0.8888888888888888,
             "#fdca26"
            ],
            [
             1,
             "#f0f921"
            ]
           ],
           "sequentialminus": [
            [
             0,
             "#0d0887"
            ],
            [
             0.1111111111111111,
             "#46039f"
            ],
            [
             0.2222222222222222,
             "#7201a8"
            ],
            [
             0.3333333333333333,
             "#9c179e"
            ],
            [
             0.4444444444444444,
             "#bd3786"
            ],
            [
             0.5555555555555556,
             "#d8576b"
            ],
            [
             0.6666666666666666,
             "#ed7953"
            ],
            [
             0.7777777777777778,
             "#fb9f3a"
            ],
            [
             0.8888888888888888,
             "#fdca26"
            ],
            [
             1,
             "#f0f921"
            ]
           ]
          },
          "colorway": [
           "#636efa",
           "#EF553B",
           "#00cc96",
           "#ab63fa",
           "#FFA15A",
           "#19d3f3",
           "#FF6692",
           "#B6E880",
           "#FF97FF",
           "#FECB52"
          ],
          "font": {
           "color": "#2a3f5f"
          },
          "geo": {
           "bgcolor": "white",
           "lakecolor": "white",
           "landcolor": "#E5ECF6",
           "showlakes": true,
           "showland": true,
           "subunitcolor": "white"
          },
          "hoverlabel": {
           "align": "left"
          },
          "hovermode": "closest",
          "mapbox": {
           "style": "light"
          },
          "paper_bgcolor": "white",
          "plot_bgcolor": "#E5ECF6",
          "polar": {
           "angularaxis": {
            "gridcolor": "white",
            "linecolor": "white",
            "ticks": ""
           },
           "bgcolor": "#E5ECF6",
           "radialaxis": {
            "gridcolor": "white",
            "linecolor": "white",
            "ticks": ""
           }
          },
          "scene": {
           "xaxis": {
            "backgroundcolor": "#E5ECF6",
            "gridcolor": "white",
            "gridwidth": 2,
            "linecolor": "white",
            "showbackground": true,
            "ticks": "",
            "zerolinecolor": "white"
           },
           "yaxis": {
            "backgroundcolor": "#E5ECF6",
            "gridcolor": "white",
            "gridwidth": 2,
            "linecolor": "white",
            "showbackground": true,
            "ticks": "",
            "zerolinecolor": "white"
           },
           "zaxis": {
            "backgroundcolor": "#E5ECF6",
            "gridcolor": "white",
            "gridwidth": 2,
            "linecolor": "white",
            "showbackground": true,
            "ticks": "",
            "zerolinecolor": "white"
           }
          },
          "shapedefaults": {
           "line": {
            "color": "#2a3f5f"
           }
          },
          "ternary": {
           "aaxis": {
            "gridcolor": "white",
            "linecolor": "white",
            "ticks": ""
           },
           "baxis": {
            "gridcolor": "white",
            "linecolor": "white",
            "ticks": ""
           },
           "bgcolor": "#E5ECF6",
           "caxis": {
            "gridcolor": "white",
            "linecolor": "white",
            "ticks": ""
           }
          },
          "title": {
           "x": 0.05
          },
          "xaxis": {
           "automargin": true,
           "gridcolor": "white",
           "linecolor": "white",
           "ticks": "",
           "title": {
            "standoff": 15
           },
           "zerolinecolor": "white",
           "zerolinewidth": 2
          },
          "yaxis": {
           "automargin": true,
           "gridcolor": "white",
           "linecolor": "white",
           "ticks": "",
           "title": {
            "standoff": 15
           },
           "zerolinecolor": "white",
           "zerolinewidth": 2
          }
         }
        },
        "title": {
         "text": "Comparison of performance per cell type"
        },
        "width": 1000,
        "xaxis": {
         "anchor": "y",
         "domain": [
          0,
          0.45
         ],
         "range": [
          0,
          1
         ],
         "title": {
          "text": "NNLS"
         }
        },
        "xaxis2": {
         "anchor": "y2",
         "domain": [
          0.55,
          1
         ],
         "range": [
          0,
          1
         ],
         "title": {
          "text": "SVR_NNLS"
         }
        },
        "yaxis": {
         "anchor": "x",
         "domain": [
          0,
          1
         ],
         "range": [
          0,
          1
         ],
         "title": {
          "text": "BLADE"
         }
        },
        "yaxis2": {
         "anchor": "x2",
         "domain": [
          0,
          1
         ],
         "matches": "y",
         "range": [
          0,
          1
         ],
         "showticklabels": false,
         "title": {
          "text": "BLADE"
         }
        }
       }
      },
      "text/html": [
       "<div>\n",
       "        \n",
       "        \n",
       "            <div id=\"847c6d3f-30fe-4edf-9ca8-013b9a9c4993\" class=\"plotly-graph-div\" style=\"height:500px; width:1000px;\"></div>\n",
       "            <script type=\"text/javascript\">\n",
       "                require([\"plotly\"], function(Plotly) {\n",
       "                    window.PLOTLYENV=window.PLOTLYENV || {};\n",
       "                    \n",
       "                if (document.getElementById(\"847c6d3f-30fe-4edf-9ca8-013b9a9c4993\")) {\n",
       "                    Plotly.newPlot(\n",
       "                        '847c6d3f-30fe-4edf-9ca8-013b9a9c4993',\n",
       "                        [{\"marker\": {\"color\": [\"#7140c0\", \"#f1ba2a\", \"#6dd9fa\", \"#f5864a\", \"#959930\", \"#9c210a\", \"#7140c0\", \"#f1ba2a\", \"#6dd9fa\", \"#f5864a\", \"#959930\", \"#9c210a\", \"#7140c0\", \"#f1ba2a\", \"#6dd9fa\", \"#f5864a\", \"#959930\", \"#9c210a\", \"#7140c0\", \"#f1ba2a\", \"#6dd9fa\", \"#f5864a\", \"#959930\", \"#9c210a\", \"#7140c0\", \"#f1ba2a\", \"#6dd9fa\", \"#f5864a\", \"#959930\", \"#9c210a\"], \"coloraxis\": \"coloraxis\"}, \"mode\": \"markers\", \"text\": [\"5_500_10_0.5\", \"5_500_10_1\", \"5_500_10_1.5\", \"5_500_20_0.5\", \"5_500_20_1\", \"5_500_20_1.5\", \"5_500_10_0.5\", \"5_500_10_1\", \"5_500_10_1.5\", \"5_500_20_0.5\", \"5_500_20_1\", \"5_500_20_1.5\", \"5_500_10_0.5\", \"5_500_10_1\", \"5_500_10_1.5\", \"5_500_20_0.5\", \"5_500_20_1\", \"5_500_20_1.5\", \"5_500_10_0.5\", \"5_500_10_1\", \"5_500_10_1.5\", \"5_500_20_0.5\", \"5_500_20_1\", \"5_500_20_1.5\", \"5_500_10_0.5\", \"5_500_10_1\", \"5_500_10_1.5\", \"5_500_20_0.5\", \"5_500_20_1\", \"5_500_20_1.5\"], \"type\": \"scatter\", \"x\": [0.938876259522834, 0.90138353042295, 0.8099547039661853, 0.6479661001251112, 0.5252790229947057, -0.02668833269609483, 0.5413961190793612, 0.020388429196337356, 0.6579633592168184, 0.8535929110395842, 0.4993416027011587, 0.35422183716420746, 0.8402797190591628, 0.22046184023642934, 0.2011863856897796, 0.8785176179425237, 0.6416208539898336, -0.002382428622161992, 0.6945305539807007, 0.5325790939338667, 0.6321985132316563, 0.8650181248321498, 0.5175991571770197, 0.4579431623855363, 0.8193564387292104, 0.774456335998725, 0.6301473627981813, 0.8744707968619145, 0.48796304044415917, 0.09532225838349444], \"xaxis\": \"x\", \"y\": [0.9760671425208692, 0.9366231324788837, 0.9176694118431927, 0.9601747383720222, 0.8411799382182162, 0.8779175770585829, 0.9780911010340285, 0.908220263084958, 0.9145757702725452, 0.9779612235970133, 0.8663741566183373, 0.8958406567413247, 0.9572141333782359, 0.9611083866387872, 0.8981023948196777, 0.9827591285872155, 0.8644984693428516, 0.8092282604264628, 0.9737948620644145, 0.9126324671023534, 0.9185945702376128, 0.9891764920680605, 0.845150079415312, 0.847241612171784, 0.994846738867489, 0.945119557517201, 0.9846041573083993, 0.9922151122211956, 0.9314335298512336, 0.8392921808180656], \"yaxis\": \"y\"}, {\"marker\": {\"color\": [\"#7140c0\", \"#f1ba2a\", \"#6dd9fa\", \"#f5864a\", \"#959930\", \"#9c210a\", \"#7140c0\", \"#f1ba2a\", \"#6dd9fa\", \"#f5864a\", \"#959930\", \"#9c210a\", \"#7140c0\", \"#f1ba2a\", \"#6dd9fa\", \"#f5864a\", \"#959930\", \"#9c210a\", \"#7140c0\", \"#f1ba2a\", \"#6dd9fa\", \"#f5864a\", \"#959930\", \"#9c210a\", \"#7140c0\", \"#f1ba2a\", \"#6dd9fa\", \"#f5864a\", \"#959930\", \"#9c210a\"], \"coloraxis\": \"coloraxis\"}, \"mode\": \"markers\", \"text\": [\"5_500_10_0.5\", \"5_500_10_1\", \"5_500_10_1.5\", \"5_500_20_0.5\", \"5_500_20_1\", \"5_500_20_1.5\", \"5_500_10_0.5\", \"5_500_10_1\", \"5_500_10_1.5\", \"5_500_20_0.5\", \"5_500_20_1\", \"5_500_20_1.5\", \"5_500_10_0.5\", \"5_500_10_1\", \"5_500_10_1.5\", \"5_500_20_0.5\", \"5_500_20_1\", \"5_500_20_1.5\", \"5_500_10_0.5\", \"5_500_10_1\", \"5_500_10_1.5\", \"5_500_20_0.5\", \"5_500_20_1\", \"5_500_20_1.5\", \"5_500_10_0.5\", \"5_500_10_1\", \"5_500_10_1.5\", \"5_500_20_0.5\", \"5_500_20_1\", \"5_500_20_1.5\"], \"type\": \"scatter\", \"x\": [0.9391689468197172, 0.8430615977285859, 0.583479676792344, 0.6824026537619645, 0.7713262377978554, 0.06344930781771076, 0.6105261008491666, 0.16401008380972415, 0.8297622107202598, 0.8735555808974719, 0.6633398624980511, 0.36265759502841355, 0.9154983856578339, 0.17614825780091253, 0.20786327239274136, 0.9094979312391611, 0.830187420163835, -0.0885577700284403, 0.7764512843750838, 0.6734376820952853, 0.7993492557025386, 0.8508124378000261, 0.792396049332254, 0.39221698327866467, 0.8505767136051491, 0.5696909415919889, 0.7313726824250613, 0.926529614130782, 0.7109127651171134, 0.2996893433558255], \"xaxis\": \"x2\", \"y\": [0.9760671425208692, 0.9366231324788837, 0.9176694118431927, 0.9601747383720222, 0.8411799382182162, 0.8779175770585829, 0.9780911010340285, 0.908220263084958, 0.9145757702725452, 0.9779612235970133, 0.8663741566183373, 0.8958406567413247, 0.9572141333782359, 0.9611083866387872, 0.8981023948196777, 0.9827591285872155, 0.8644984693428516, 0.8092282604264628, 0.9737948620644145, 0.9126324671023534, 0.9185945702376128, 0.9891764920680605, 0.845150079415312, 0.847241612171784, 0.994846738867489, 0.945119557517201, 0.9846041573083993, 0.9922151122211956, 0.9314335298512336, 0.8392921808180656], \"yaxis\": \"y2\"}],\n",
       "                        {\"coloraxis\": {\"colorscale\": [[0.0, \"rgb(255,0,0)\"], [1.0, \"rgb(0,0,255)\"]]}, \"height\": 500, \"showlegend\": false, \"template\": {\"data\": {\"bar\": [{\"error_x\": {\"color\": \"#2a3f5f\"}, \"error_y\": {\"color\": \"#2a3f5f\"}, \"marker\": {\"line\": {\"color\": \"#E5ECF6\", \"width\": 0.5}}, \"type\": \"bar\"}], \"barpolar\": [{\"marker\": {\"line\": {\"color\": \"#E5ECF6\", \"width\": 0.5}}, \"type\": \"barpolar\"}], \"carpet\": [{\"aaxis\": {\"endlinecolor\": \"#2a3f5f\", \"gridcolor\": \"white\", \"linecolor\": \"white\", \"minorgridcolor\": \"white\", \"startlinecolor\": \"#2a3f5f\"}, \"baxis\": {\"endlinecolor\": \"#2a3f5f\", \"gridcolor\": \"white\", \"linecolor\": \"white\", \"minorgridcolor\": \"white\", \"startlinecolor\": \"#2a3f5f\"}, \"type\": \"carpet\"}], \"choropleth\": [{\"colorbar\": {\"outlinewidth\": 0, \"ticks\": \"\"}, \"type\": \"choropleth\"}], \"contour\": [{\"colorbar\": {\"outlinewidth\": 0, \"ticks\": \"\"}, \"colorscale\": [[0.0, \"#0d0887\"], [0.1111111111111111, \"#46039f\"], [0.2222222222222222, \"#7201a8\"], [0.3333333333333333, \"#9c179e\"], [0.4444444444444444, \"#bd3786\"], [0.5555555555555556, \"#d8576b\"], [0.6666666666666666, \"#ed7953\"], [0.7777777777777778, \"#fb9f3a\"], [0.8888888888888888, \"#fdca26\"], [1.0, \"#f0f921\"]], \"type\": \"contour\"}], \"contourcarpet\": [{\"colorbar\": {\"outlinewidth\": 0, \"ticks\": \"\"}, \"type\": \"contourcarpet\"}], \"heatmap\": [{\"colorbar\": {\"outlinewidth\": 0, \"ticks\": \"\"}, \"colorscale\": [[0.0, \"#0d0887\"], [0.1111111111111111, \"#46039f\"], [0.2222222222222222, \"#7201a8\"], [0.3333333333333333, \"#9c179e\"], [0.4444444444444444, \"#bd3786\"], [0.5555555555555556, \"#d8576b\"], [0.6666666666666666, \"#ed7953\"], [0.7777777777777778, \"#fb9f3a\"], [0.8888888888888888, \"#fdca26\"], [1.0, \"#f0f921\"]], \"type\": \"heatmap\"}], \"heatmapgl\": [{\"colorbar\": {\"outlinewidth\": 0, \"ticks\": \"\"}, \"colorscale\": [[0.0, \"#0d0887\"], [0.1111111111111111, \"#46039f\"], [0.2222222222222222, \"#7201a8\"], [0.3333333333333333, \"#9c179e\"], [0.4444444444444444, \"#bd3786\"], [0.5555555555555556, \"#d8576b\"], [0.6666666666666666, \"#ed7953\"], [0.7777777777777778, \"#fb9f3a\"], [0.8888888888888888, \"#fdca26\"], [1.0, \"#f0f921\"]], \"type\": \"heatmapgl\"}], \"histogram\": [{\"marker\": {\"colorbar\": {\"outlinewidth\": 0, \"ticks\": \"\"}}, \"type\": \"histogram\"}], \"histogram2d\": [{\"colorbar\": {\"outlinewidth\": 0, \"ticks\": \"\"}, \"colorscale\": [[0.0, \"#0d0887\"], [0.1111111111111111, \"#46039f\"], [0.2222222222222222, \"#7201a8\"], [0.3333333333333333, \"#9c179e\"], [0.4444444444444444, \"#bd3786\"], [0.5555555555555556, \"#d8576b\"], [0.6666666666666666, \"#ed7953\"], [0.7777777777777778, \"#fb9f3a\"], [0.8888888888888888, \"#fdca26\"], [1.0, \"#f0f921\"]], \"type\": \"histogram2d\"}], \"histogram2dcontour\": [{\"colorbar\": {\"outlinewidth\": 0, \"ticks\": \"\"}, \"colorscale\": [[0.0, \"#0d0887\"], [0.1111111111111111, \"#46039f\"], [0.2222222222222222, \"#7201a8\"], [0.3333333333333333, \"#9c179e\"], [0.4444444444444444, \"#bd3786\"], [0.5555555555555556, \"#d8576b\"], [0.6666666666666666, \"#ed7953\"], [0.7777777777777778, \"#fb9f3a\"], [0.8888888888888888, \"#fdca26\"], [1.0, \"#f0f921\"]], \"type\": \"histogram2dcontour\"}], \"mesh3d\": [{\"colorbar\": {\"outlinewidth\": 0, \"ticks\": \"\"}, \"type\": \"mesh3d\"}], \"parcoords\": [{\"line\": {\"colorbar\": {\"outlinewidth\": 0, \"ticks\": \"\"}}, \"type\": \"parcoords\"}], \"pie\": [{\"automargin\": true, \"type\": \"pie\"}], \"scatter\": [{\"marker\": {\"colorbar\": {\"outlinewidth\": 0, \"ticks\": \"\"}}, \"type\": \"scatter\"}], \"scatter3d\": [{\"line\": {\"colorbar\": {\"outlinewidth\": 0, \"ticks\": \"\"}}, \"marker\": {\"colorbar\": {\"outlinewidth\": 0, \"ticks\": \"\"}}, \"type\": \"scatter3d\"}], \"scattercarpet\": [{\"marker\": {\"colorbar\": {\"outlinewidth\": 0, \"ticks\": \"\"}}, \"type\": \"scattercarpet\"}], \"scattergeo\": [{\"marker\": {\"colorbar\": {\"outlinewidth\": 0, \"ticks\": \"\"}}, \"type\": \"scattergeo\"}], \"scattergl\": [{\"marker\": {\"colorbar\": {\"outlinewidth\": 0, \"ticks\": \"\"}}, \"type\": \"scattergl\"}], \"scattermapbox\": [{\"marker\": {\"colorbar\": {\"outlinewidth\": 0, \"ticks\": \"\"}}, \"type\": \"scattermapbox\"}], \"scatterpolar\": [{\"marker\": {\"colorbar\": {\"outlinewidth\": 0, \"ticks\": \"\"}}, \"type\": \"scatterpolar\"}], \"scatterpolargl\": [{\"marker\": {\"colorbar\": {\"outlinewidth\": 0, \"ticks\": \"\"}}, \"type\": \"scatterpolargl\"}], \"scatterternary\": [{\"marker\": {\"colorbar\": {\"outlinewidth\": 0, \"ticks\": \"\"}}, \"type\": \"scatterternary\"}], \"surface\": [{\"colorbar\": {\"outlinewidth\": 0, \"ticks\": \"\"}, \"colorscale\": [[0.0, \"#0d0887\"], [0.1111111111111111, \"#46039f\"], [0.2222222222222222, \"#7201a8\"], [0.3333333333333333, \"#9c179e\"], [0.4444444444444444, \"#bd3786\"], [0.5555555555555556, \"#d8576b\"], [0.6666666666666666, \"#ed7953\"], [0.7777777777777778, \"#fb9f3a\"], [0.8888888888888888, \"#fdca26\"], [1.0, \"#f0f921\"]], \"type\": \"surface\"}], \"table\": [{\"cells\": {\"fill\": {\"color\": \"#EBF0F8\"}, \"line\": {\"color\": \"white\"}}, \"header\": {\"fill\": {\"color\": \"#C8D4E3\"}, \"line\": {\"color\": \"white\"}}, \"type\": \"table\"}]}, \"layout\": {\"annotationdefaults\": {\"arrowcolor\": \"#2a3f5f\", \"arrowhead\": 0, \"arrowwidth\": 1}, \"coloraxis\": {\"colorbar\": {\"outlinewidth\": 0, \"ticks\": \"\"}}, \"colorscale\": {\"diverging\": [[0, \"#8e0152\"], [0.1, \"#c51b7d\"], [0.2, \"#de77ae\"], [0.3, \"#f1b6da\"], [0.4, \"#fde0ef\"], [0.5, \"#f7f7f7\"], [0.6, \"#e6f5d0\"], [0.7, \"#b8e186\"], [0.8, \"#7fbc41\"], [0.9, \"#4d9221\"], [1, \"#276419\"]], \"sequential\": [[0.0, \"#0d0887\"], [0.1111111111111111, \"#46039f\"], [0.2222222222222222, \"#7201a8\"], [0.3333333333333333, \"#9c179e\"], [0.4444444444444444, \"#bd3786\"], [0.5555555555555556, \"#d8576b\"], [0.6666666666666666, \"#ed7953\"], [0.7777777777777778, \"#fb9f3a\"], [0.8888888888888888, \"#fdca26\"], [1.0, \"#f0f921\"]], \"sequentialminus\": [[0.0, \"#0d0887\"], [0.1111111111111111, \"#46039f\"], [0.2222222222222222, \"#7201a8\"], [0.3333333333333333, \"#9c179e\"], [0.4444444444444444, \"#bd3786\"], [0.5555555555555556, \"#d8576b\"], [0.6666666666666666, \"#ed7953\"], [0.7777777777777778, \"#fb9f3a\"], [0.8888888888888888, \"#fdca26\"], [1.0, \"#f0f921\"]]}, \"colorway\": [\"#636efa\", \"#EF553B\", \"#00cc96\", \"#ab63fa\", \"#FFA15A\", \"#19d3f3\", \"#FF6692\", \"#B6E880\", \"#FF97FF\", \"#FECB52\"], \"font\": {\"color\": \"#2a3f5f\"}, \"geo\": {\"bgcolor\": \"white\", \"lakecolor\": \"white\", \"landcolor\": \"#E5ECF6\", \"showlakes\": true, \"showland\": true, \"subunitcolor\": \"white\"}, \"hoverlabel\": {\"align\": \"left\"}, \"hovermode\": \"closest\", \"mapbox\": {\"style\": \"light\"}, \"paper_bgcolor\": \"white\", \"plot_bgcolor\": \"#E5ECF6\", \"polar\": {\"angularaxis\": {\"gridcolor\": \"white\", \"linecolor\": \"white\", \"ticks\": \"\"}, \"bgcolor\": \"#E5ECF6\", \"radialaxis\": {\"gridcolor\": \"white\", \"linecolor\": \"white\", \"ticks\": \"\"}}, \"scene\": {\"xaxis\": {\"backgroundcolor\": \"#E5ECF6\", \"gridcolor\": \"white\", \"gridwidth\": 2, \"linecolor\": \"white\", \"showbackground\": true, \"ticks\": \"\", \"zerolinecolor\": \"white\"}, \"yaxis\": {\"backgroundcolor\": \"#E5ECF6\", \"gridcolor\": \"white\", \"gridwidth\": 2, \"linecolor\": \"white\", \"showbackground\": true, \"ticks\": \"\", \"zerolinecolor\": \"white\"}, \"zaxis\": {\"backgroundcolor\": \"#E5ECF6\", \"gridcolor\": \"white\", \"gridwidth\": 2, \"linecolor\": \"white\", \"showbackground\": true, \"ticks\": \"\", \"zerolinecolor\": \"white\"}}, \"shapedefaults\": {\"line\": {\"color\": \"#2a3f5f\"}}, \"ternary\": {\"aaxis\": {\"gridcolor\": \"white\", \"linecolor\": \"white\", \"ticks\": \"\"}, \"baxis\": {\"gridcolor\": \"white\", \"linecolor\": \"white\", \"ticks\": \"\"}, \"bgcolor\": \"#E5ECF6\", \"caxis\": {\"gridcolor\": \"white\", \"linecolor\": \"white\", \"ticks\": \"\"}}, \"title\": {\"x\": 0.05}, \"xaxis\": {\"automargin\": true, \"gridcolor\": \"white\", \"linecolor\": \"white\", \"ticks\": \"\", \"title\": {\"standoff\": 15}, \"zerolinecolor\": \"white\", \"zerolinewidth\": 2}, \"yaxis\": {\"automargin\": true, \"gridcolor\": \"white\", \"linecolor\": \"white\", \"ticks\": \"\", \"title\": {\"standoff\": 15}, \"zerolinecolor\": \"white\", \"zerolinewidth\": 2}}}, \"title\": {\"text\": \"Comparison of performance per cell type\"}, \"width\": 1000, \"xaxis\": {\"anchor\": \"y\", \"domain\": [0.0, 0.45], \"range\": [0, 1], \"title\": {\"text\": \"NNLS\"}}, \"xaxis2\": {\"anchor\": \"y2\", \"domain\": [0.55, 1.0], \"range\": [0, 1], \"title\": {\"text\": \"SVR_NNLS\"}}, \"yaxis\": {\"anchor\": \"x\", \"domain\": [0.0, 1.0], \"range\": [0, 1], \"title\": {\"text\": \"BLADE\"}}, \"yaxis2\": {\"anchor\": \"x2\", \"domain\": [0.0, 1.0], \"matches\": \"y\", \"range\": [0, 1], \"showticklabels\": false, \"title\": {\"text\": \"BLADE\"}}},\n",
       "                        {\"responsive\": true}\n",
       "                    ).then(function(){\n",
       "                            \n",
       "var gd = document.getElementById('847c6d3f-30fe-4edf-9ca8-013b9a9c4993');\n",
       "var x = new MutationObserver(function (mutations, observer) {{\n",
       "        var display = window.getComputedStyle(gd).display;\n",
       "        if (!display || display === 'none') {{\n",
       "            console.log([gd, 'removed!']);\n",
       "            Plotly.purge(gd);\n",
       "            observer.disconnect();\n",
       "        }}\n",
       "}});\n",
       "\n",
       "// Listen for the removal of the full notebook cells\n",
       "var notebookContainer = gd.closest('#notebook-container');\n",
       "if (notebookContainer) {{\n",
       "    x.observe(notebookContainer, {childList: true});\n",
       "}}\n",
       "\n",
       "// Listen for the clearing of the current output cell\n",
       "var outputEl = gd.closest('.output');\n",
       "if (outputEl) {{\n",
       "    x.observe(outputEl, {childList: true});\n",
       "}}\n",
       "\n",
       "                        })\n",
       "                };\n",
       "                });\n",
       "            </script>\n",
       "        </div>"
      ]
     },
     "metadata": {},
     "output_type": "display_data"
    }
   ],
   "source": [
    "PerfMat = outcome_PerCell.pivot_table(values='Cor_Fraction', columns='method', index=['CellType','dataset'])\n",
    "PerfMat.reset_index(inplace=True)\n",
    "PerfMat.dataset = PerfMat.dataset.astype('category')\n",
    "\n",
    "colorsIdx = dict()\n",
    "for name in set(PerfMat.dataset):\n",
    "    # random RGB color generation for each dataset, then convert to hex\n",
    "    colorsIdx[name] = '#%02x%02x%02x' % tuple(np.random.choice(range(256), size=3))\n",
    "cols = PerfMat.dataset.map(colorsIdx)\n",
    "\n",
    "fig = make_subplots(rows=1, cols=2, shared_yaxes=True)\n",
    "fig.add_trace(\n",
    "    go.Scatter(y=PerfMat.BLADE, x=PerfMat.NNLS, mode=\"markers\", text=PerfMat.dataset,\n",
    "               marker=dict(color=cols, coloraxis=\"coloraxis\")\n",
    "            ),\n",
    "    row=1,col=1\n",
    ")\n",
    "\n",
    "fig.add_trace(\n",
    "    go.Scatter(y=PerfMat.BLADE, x=PerfMat.SVR_NNLS, mode=\"markers\", text=PerfMat.dataset,\n",
    "               marker=dict(color=cols, coloraxis=\"coloraxis\")\n",
    "            ),\n",
    "    row=1,col=2\n",
    ")\n",
    "\n",
    "fig.update_layout(height=500, width=1000,\n",
    "                  title_text=\"Comparison of performance per cell type\")\n",
    "fig.update_layout(coloraxis=dict(colorscale='Bluered_r'), showlegend=False)\n",
    "\n",
    "fig.update_yaxes(range=[0, 1], title_text=\"BLADE\")\n",
    "fig.update_xaxes(range=[0, 1], title_text=\"NNLS\", row=1,col=1)\n",
    "fig.update_xaxes(range=[0, 1], title_text=\"SVR_NNLS\", row=1,col=2)\n",
    "fig.show()"
   ]
  },
  {
   "cell_type": "markdown",
   "metadata": {},
   "source": [
    "Performance of fraction estimation can be also measured per sample."
   ]
  },
  {
   "cell_type": "code",
   "execution_count": 180,
   "metadata": {
    "scrolled": false
   },
   "outputs": [
    {
     "data": {
      "application/vnd.plotly.v1+json": {
       "config": {
        "plotlyServerURL": "https://plot.ly"
       },
       "data": [
        {
         "alignmentgroup": "True",
         "boxpoints": "all",
         "hovertemplate": "method=BLADE<br>Data Set (Ncell_Ngene_Nsample_Noise)=%{x}<br>Pearson Correlation (fraction estimation performance)=%{y}<extra></extra>",
         "legendgroup": "BLADE",
         "marker": {
          "color": "#636efa"
         },
         "name": "BLADE",
         "notched": false,
         "offsetgroup": "BLADE",
         "orientation": "v",
         "showlegend": true,
         "type": "box",
         "x": [
          "5_500_10_0.5",
          "5_500_10_0.5",
          "5_500_10_0.5",
          "5_500_10_0.5",
          "5_500_10_0.5",
          "5_500_10_0.5",
          "5_500_10_0.5",
          "5_500_10_0.5",
          "5_500_10_0.5",
          "5_500_10_0.5",
          "5_500_10_1",
          "5_500_10_1",
          "5_500_10_1",
          "5_500_10_1",
          "5_500_10_1",
          "5_500_10_1",
          "5_500_10_1",
          "5_500_10_1",
          "5_500_10_1",
          "5_500_10_1",
          "5_500_10_1.5",
          "5_500_10_1.5",
          "5_500_10_1.5",
          "5_500_10_1.5",
          "5_500_10_1.5",
          "5_500_10_1.5",
          "5_500_10_1.5",
          "5_500_10_1.5",
          "5_500_10_1.5",
          "5_500_10_1.5",
          "5_500_20_0.5",
          "5_500_20_0.5",
          "5_500_20_0.5",
          "5_500_20_0.5",
          "5_500_20_0.5",
          "5_500_20_0.5",
          "5_500_20_0.5",
          "5_500_20_0.5",
          "5_500_20_0.5",
          "5_500_20_0.5",
          "5_500_20_0.5",
          "5_500_20_0.5",
          "5_500_20_0.5",
          "5_500_20_0.5",
          "5_500_20_0.5",
          "5_500_20_0.5",
          "5_500_20_0.5",
          "5_500_20_0.5",
          "5_500_20_0.5",
          "5_500_20_0.5",
          "5_500_20_1",
          "5_500_20_1",
          "5_500_20_1",
          "5_500_20_1",
          "5_500_20_1",
          "5_500_20_1",
          "5_500_20_1",
          "5_500_20_1",
          "5_500_20_1",
          "5_500_20_1",
          "5_500_20_1",
          "5_500_20_1",
          "5_500_20_1",
          "5_500_20_1",
          "5_500_20_1",
          "5_500_20_1",
          "5_500_20_1",
          "5_500_20_1",
          "5_500_20_1",
          "5_500_20_1",
          "5_500_20_1.5",
          "5_500_20_1.5",
          "5_500_20_1.5",
          "5_500_20_1.5",
          "5_500_20_1.5",
          "5_500_20_1.5",
          "5_500_20_1.5",
          "5_500_20_1.5",
          "5_500_20_1.5",
          "5_500_20_1.5",
          "5_500_20_1.5",
          "5_500_20_1.5",
          "5_500_20_1.5",
          "5_500_20_1.5",
          "5_500_20_1.5",
          "5_500_20_1.5",
          "5_500_20_1.5",
          "5_500_20_1.5",
          "5_500_20_1.5",
          "5_500_20_1.5"
         ],
         "x0": " ",
         "xaxis": "x",
         "y": [
          0.8743923481766686,
          0.6108754084077126,
          0.9650342706290308,
          0.9624228871488572,
          0.839025728583948,
          0.9840990138992741,
          0.8865862683693935,
          0.8770935074818065,
          0.9146033270561019,
          0.9483101779836135,
          0.9715962619525148,
          0.9218530170019621,
          0.907837617065805,
          0.6885432244249172,
          0.9910691478660091,
          0.7599225549997028,
          0.9544666069387756,
          0.9053973262290503,
          0.8989999599871801,
          0.9232833264881936,
          0.9755695204038747,
          0.723107431579272,
          0.909949131143145,
          0.9177249755304965,
          0.969729458439735,
          0.9029912289299844,
          0.8543342774444773,
          0.7363502260760496,
          0.37455633129203364,
          0.7258720752993595,
          0.987232013618999,
          0.9731386485055317,
          0.9764449446723301,
          0.7728012536620175,
          0.9891525646041159,
          0.9826407277576896,
          0.919823474839489,
          0.9439079997709487,
          0.7702277496981382,
          0.9972719286865842,
          0.9473571129776449,
          0.9876083358783883,
          0.989932271698379,
          0.9866854270661749,
          0.9279591547940071,
          0.9345491947765378,
          0.9592806156765811,
          0.9750024799989466,
          0.9613222919406423,
          0.8380679817480903,
          0.6133965153576281,
          0.8813781489975072,
          0.8750001997688802,
          0.9055387942685782,
          0.7996115746403183,
          0.883745666399486,
          0.6050588511052153,
          0.9074356968331906,
          0.9966238307266244,
          0.6299034799931511,
          0.3813342281980043,
          -0.9293419638884752,
          0.9786802852281561,
          0.6948770760097196,
          0.8458953687566725,
          0.8932449440318834,
          0.7510270644991441,
          0.9684910631120189,
          0.8391789812414865,
          0.9179374459795151,
          0.2692125941301635,
          0.8725971654361319,
          0.8856202463999998,
          0.6485213693147808,
          0.9028686451839726,
          0.9013166153854073,
          0.9526262770780533,
          0.8118943508422065,
          0.8331897636941085,
          0.7805174341283687,
          0.8919151633203822,
          0.8432816895496003,
          0.9113914837105638,
          0.9293945320363207,
          0.9737500726684235,
          0.9467568485606885,
          0.9937277792850192,
          0.7675852565742851,
          0.8437738217526181,
          0.8108791778651062
         ],
         "y0": " ",
         "yaxis": "y"
        },
        {
         "alignmentgroup": "True",
         "boxpoints": "all",
         "hovertemplate": "method=NNLS<br>Data Set (Ncell_Ngene_Nsample_Noise)=%{x}<br>Pearson Correlation (fraction estimation performance)=%{y}<extra></extra>",
         "legendgroup": "NNLS",
         "marker": {
          "color": "#EF553B"
         },
         "name": "NNLS",
         "notched": false,
         "offsetgroup": "NNLS",
         "orientation": "v",
         "showlegend": true,
         "type": "box",
         "x": [
          "5_500_10_0.5",
          "5_500_10_0.5",
          "5_500_10_0.5",
          "5_500_10_0.5",
          "5_500_10_0.5",
          "5_500_10_0.5",
          "5_500_10_0.5",
          "5_500_10_0.5",
          "5_500_10_0.5",
          "5_500_10_0.5",
          "5_500_10_1",
          "5_500_10_1",
          "5_500_10_1",
          "5_500_10_1",
          "5_500_10_1",
          "5_500_10_1",
          "5_500_10_1",
          "5_500_10_1",
          "5_500_10_1",
          "5_500_10_1",
          "5_500_10_1.5",
          "5_500_10_1.5",
          "5_500_10_1.5",
          "5_500_10_1.5",
          "5_500_10_1.5",
          "5_500_10_1.5",
          "5_500_10_1.5",
          "5_500_10_1.5",
          "5_500_10_1.5",
          "5_500_10_1.5",
          "5_500_20_0.5",
          "5_500_20_0.5",
          "5_500_20_0.5",
          "5_500_20_0.5",
          "5_500_20_0.5",
          "5_500_20_0.5",
          "5_500_20_0.5",
          "5_500_20_0.5",
          "5_500_20_0.5",
          "5_500_20_0.5",
          "5_500_20_0.5",
          "5_500_20_0.5",
          "5_500_20_0.5",
          "5_500_20_0.5",
          "5_500_20_0.5",
          "5_500_20_0.5",
          "5_500_20_0.5",
          "5_500_20_0.5",
          "5_500_20_0.5",
          "5_500_20_0.5",
          "5_500_20_1",
          "5_500_20_1",
          "5_500_20_1",
          "5_500_20_1",
          "5_500_20_1",
          "5_500_20_1",
          "5_500_20_1",
          "5_500_20_1",
          "5_500_20_1",
          "5_500_20_1",
          "5_500_20_1",
          "5_500_20_1",
          "5_500_20_1",
          "5_500_20_1",
          "5_500_20_1",
          "5_500_20_1",
          "5_500_20_1",
          "5_500_20_1",
          "5_500_20_1",
          "5_500_20_1",
          "5_500_20_1.5",
          "5_500_20_1.5",
          "5_500_20_1.5",
          "5_500_20_1.5",
          "5_500_20_1.5",
          "5_500_20_1.5",
          "5_500_20_1.5",
          "5_500_20_1.5",
          "5_500_20_1.5",
          "5_500_20_1.5",
          "5_500_20_1.5",
          "5_500_20_1.5",
          "5_500_20_1.5",
          "5_500_20_1.5",
          "5_500_20_1.5",
          "5_500_20_1.5",
          "5_500_20_1.5",
          "5_500_20_1.5",
          "5_500_20_1.5",
          "5_500_20_1.5"
         ],
         "x0": " ",
         "xaxis": "x",
         "y": [
          0.8802505367218248,
          -0.4579051039679527,
          0.933762922199627,
          0.9537470776228859,
          0.5232632717213812,
          0.9632642068165991,
          0.5480193417341096,
          0.7989662155449183,
          0.7477898208433483,
          0.9736960507070411,
          0.5183019292991956,
          0.772772827409939,
          0.6304002152434324,
          0.7254622694676666,
          0.03901135699370722,
          0.8341982314549619,
          0.4468922053592843,
          0.6098998925931569,
          -0.5705496367223851,
          0.9202331316019495,
          0.6832942417165271,
          0.6260594235786865,
          0.24138090353111435,
          0.27664347474630124,
          0.9709010240489175,
          0.7403142734958967,
          0.05493746220511953,
          0.7179079076737996,
          0.8425463621095661,
          0.4761622750212606,
          0.823856597692388,
          0.9502380107010044,
          0.9157827664130964,
          0.16737181717738295,
          0.986389024083077,
          0.976493514938884,
          0.9609433170605256,
          0.6629968466908126,
          0.7171693960333761,
          0.9954310293277345,
          0.8618847859521266,
          0.6837617245856289,
          0.941335025936771,
          0.9254406230142127,
          0.774076523648023,
          0.9391502683491615,
          0.8543937639866045,
          0.9515084684994277,
          0.8996252452436498,
          -0.9132447142023141,
          0.10373956518711117,
          0.33899195616906946,
          0.5023120945405467,
          0.4691598384157568,
          0.856614472202004,
          0.3851857309987565,
          0.9179540870618348,
          0.07694582559864813,
          0.7414552157024902,
          0.20392145678283427,
          0.4223085401460866,
          0.1377878634646276,
          -0.08187118472598208,
          0.9948002228815354,
          0.9253891299539657,
          0.6789285684458843,
          0.15964100062222397,
          0.960716501307096,
          0.5607604379470307,
          0.9694550688492752,
          -0.602465493581877,
          0.48663910599832566,
          0.5787665221056636,
          -0.4841687427405669,
          0.794775210739773,
          0.022290358525198423,
          0.15491130360499492,
          -0.3381345470567017,
          -0.044207329156574424,
          0.327763923293384,
          0.25647495315559365,
          -0.1602357016032723,
          0.7867334423423283,
          0.6328117737697208,
          0.5594553078566711,
          0.6441338717147298,
          0.9310026086683818,
          -0.41118267765532057,
          -0.36433869367506616,
          0.10662753430345256
         ],
         "y0": " ",
         "yaxis": "y"
        },
        {
         "alignmentgroup": "True",
         "boxpoints": "all",
         "hovertemplate": "method=SVR_NNLS<br>Data Set (Ncell_Ngene_Nsample_Noise)=%{x}<br>Pearson Correlation (fraction estimation performance)=%{y}<extra></extra>",
         "legendgroup": "SVR_NNLS",
         "marker": {
          "color": "#00cc96"
         },
         "name": "SVR_NNLS",
         "notched": false,
         "offsetgroup": "SVR_NNLS",
         "orientation": "v",
         "showlegend": true,
         "type": "box",
         "x": [
          "5_500_10_0.5",
          "5_500_10_0.5",
          "5_500_10_0.5",
          "5_500_10_0.5",
          "5_500_10_0.5",
          "5_500_10_0.5",
          "5_500_10_0.5",
          "5_500_10_0.5",
          "5_500_10_0.5",
          "5_500_10_0.5",
          "5_500_10_1",
          "5_500_10_1",
          "5_500_10_1",
          "5_500_10_1",
          "5_500_10_1",
          "5_500_10_1",
          "5_500_10_1",
          "5_500_10_1",
          "5_500_10_1",
          "5_500_10_1",
          "5_500_10_1.5",
          "5_500_10_1.5",
          "5_500_10_1.5",
          "5_500_10_1.5",
          "5_500_10_1.5",
          "5_500_10_1.5",
          "5_500_10_1.5",
          "5_500_10_1.5",
          "5_500_10_1.5",
          "5_500_10_1.5",
          "5_500_20_0.5",
          "5_500_20_0.5",
          "5_500_20_0.5",
          "5_500_20_0.5",
          "5_500_20_0.5",
          "5_500_20_0.5",
          "5_500_20_0.5",
          "5_500_20_0.5",
          "5_500_20_0.5",
          "5_500_20_0.5",
          "5_500_20_0.5",
          "5_500_20_0.5",
          "5_500_20_0.5",
          "5_500_20_0.5",
          "5_500_20_0.5",
          "5_500_20_0.5",
          "5_500_20_0.5",
          "5_500_20_0.5",
          "5_500_20_0.5",
          "5_500_20_0.5",
          "5_500_20_1",
          "5_500_20_1",
          "5_500_20_1",
          "5_500_20_1",
          "5_500_20_1",
          "5_500_20_1",
          "5_500_20_1",
          "5_500_20_1",
          "5_500_20_1",
          "5_500_20_1",
          "5_500_20_1",
          "5_500_20_1",
          "5_500_20_1",
          "5_500_20_1",
          "5_500_20_1",
          "5_500_20_1",
          "5_500_20_1",
          "5_500_20_1",
          "5_500_20_1",
          "5_500_20_1",
          "5_500_20_1.5",
          "5_500_20_1.5",
          "5_500_20_1.5",
          "5_500_20_1.5",
          "5_500_20_1.5",
          "5_500_20_1.5",
          "5_500_20_1.5",
          "5_500_20_1.5",
          "5_500_20_1.5",
          "5_500_20_1.5",
          "5_500_20_1.5",
          "5_500_20_1.5",
          "5_500_20_1.5",
          "5_500_20_1.5",
          "5_500_20_1.5",
          "5_500_20_1.5",
          "5_500_20_1.5",
          "5_500_20_1.5",
          "5_500_20_1.5",
          "5_500_20_1.5"
         ],
         "x0": " ",
         "xaxis": "x",
         "y": [
          0.9111057234706151,
          -0.35381557555622634,
          0.9379679204198667,
          0.9686031985273907,
          0.5655031973272963,
          0.9979660719394418,
          0.6507287119041016,
          0.8272036642637762,
          0.8649812098482332,
          0.9970233021561336,
          0.723851008963543,
          0.8309695693821498,
          0.5425851738781409,
          0.9481594741362931,
          -0.1475514963906875,
          0.08489481940549182,
          0.4255818306484123,
          0.8154765428984088,
          -0.3814257876033307,
          0.34066155566487594,
          0.9475341500159948,
          0.8794682424605114,
          -0.13957116349806614,
          0.9773188603710967,
          0.9387526067485353,
          0.6883622594221009,
          0.20271732112189927,
          0.5148429424880681,
          -0.24976125121859372,
          0.7257141588301941,
          0.7940878009394833,
          0.9548729395597302,
          0.8804050176712486,
          0.37247167521421576,
          0.9917881345702297,
          0.9768118622233418,
          0.9912151555760843,
          0.7005022262953969,
          0.5930745386159249,
          0.991943795315162,
          0.9583566319654022,
          0.6819822227770089,
          0.9698606841840179,
          0.9864820696581578,
          0.8815382438759931,
          0.9254142550701759,
          0.8576822472586053,
          0.9312041221245102,
          0.9388510069496029,
          -0.8069052415229527,
          0.6199823557150809,
          0.683656272394086,
          0.7300630884342877,
          0.4842792702736092,
          0.6892654313956246,
          0.8665582352895358,
          0.9147961492031473,
          0.272853675997718,
          0.9177838433916894,
          0.5243500617137399,
          0.3818799515952116,
          0.25118833083073455,
          0.8940730181577325,
          0.9954288015963566,
          0.9717357651971023,
          0.8872622350500807,
          0.42901750970770175,
          0.9053239896491156,
          0.8315551173648577,
          0.9611339067154844,
          -0.5750019140433309,
          0.2611664458405141,
          0.8840379674079053,
          -0.3318941118613856,
          0.686506291720734,
          -0.1645775626836939,
          0.5559014678906792,
          -0.23777046061142942,
          -0.12199682729783151,
          0.29215934276083527,
          0.044991721848822726,
          0.44151807236218354,
          0.7685582651197005,
          0.38673379674750774,
          0.4027152860067334,
          0.7925567690199643,
          0.7011423840163497,
          -0.03184505072597634,
          -0.36955002975830226,
          0.6494307384703679
         ],
         "y0": " ",
         "yaxis": "y"
        }
       ],
       "layout": {
        "boxmode": "group",
        "height": 500,
        "legend": {
         "title": {
          "text": "method"
         },
         "tracegroupgap": 0
        },
        "margin": {
         "t": 60
        },
        "template": {
         "data": {
          "bar": [
           {
            "error_x": {
             "color": "#2a3f5f"
            },
            "error_y": {
             "color": "#2a3f5f"
            },
            "marker": {
             "line": {
              "color": "#E5ECF6",
              "width": 0.5
             }
            },
            "type": "bar"
           }
          ],
          "barpolar": [
           {
            "marker": {
             "line": {
              "color": "#E5ECF6",
              "width": 0.5
             }
            },
            "type": "barpolar"
           }
          ],
          "carpet": [
           {
            "aaxis": {
             "endlinecolor": "#2a3f5f",
             "gridcolor": "white",
             "linecolor": "white",
             "minorgridcolor": "white",
             "startlinecolor": "#2a3f5f"
            },
            "baxis": {
             "endlinecolor": "#2a3f5f",
             "gridcolor": "white",
             "linecolor": "white",
             "minorgridcolor": "white",
             "startlinecolor": "#2a3f5f"
            },
            "type": "carpet"
           }
          ],
          "choropleth": [
           {
            "colorbar": {
             "outlinewidth": 0,
             "ticks": ""
            },
            "type": "choropleth"
           }
          ],
          "contour": [
           {
            "colorbar": {
             "outlinewidth": 0,
             "ticks": ""
            },
            "colorscale": [
             [
              0,
              "#0d0887"
             ],
             [
              0.1111111111111111,
              "#46039f"
             ],
             [
              0.2222222222222222,
              "#7201a8"
             ],
             [
              0.3333333333333333,
              "#9c179e"
             ],
             [
              0.4444444444444444,
              "#bd3786"
             ],
             [
              0.5555555555555556,
              "#d8576b"
             ],
             [
              0.6666666666666666,
              "#ed7953"
             ],
             [
              0.7777777777777778,
              "#fb9f3a"
             ],
             [
              0.8888888888888888,
              "#fdca26"
             ],
             [
              1,
              "#f0f921"
             ]
            ],
            "type": "contour"
           }
          ],
          "contourcarpet": [
           {
            "colorbar": {
             "outlinewidth": 0,
             "ticks": ""
            },
            "type": "contourcarpet"
           }
          ],
          "heatmap": [
           {
            "colorbar": {
             "outlinewidth": 0,
             "ticks": ""
            },
            "colorscale": [
             [
              0,
              "#0d0887"
             ],
             [
              0.1111111111111111,
              "#46039f"
             ],
             [
              0.2222222222222222,
              "#7201a8"
             ],
             [
              0.3333333333333333,
              "#9c179e"
             ],
             [
              0.4444444444444444,
              "#bd3786"
             ],
             [
              0.5555555555555556,
              "#d8576b"
             ],
             [
              0.6666666666666666,
              "#ed7953"
             ],
             [
              0.7777777777777778,
              "#fb9f3a"
             ],
             [
              0.8888888888888888,
              "#fdca26"
             ],
             [
              1,
              "#f0f921"
             ]
            ],
            "type": "heatmap"
           }
          ],
          "heatmapgl": [
           {
            "colorbar": {
             "outlinewidth": 0,
             "ticks": ""
            },
            "colorscale": [
             [
              0,
              "#0d0887"
             ],
             [
              0.1111111111111111,
              "#46039f"
             ],
             [
              0.2222222222222222,
              "#7201a8"
             ],
             [
              0.3333333333333333,
              "#9c179e"
             ],
             [
              0.4444444444444444,
              "#bd3786"
             ],
             [
              0.5555555555555556,
              "#d8576b"
             ],
             [
              0.6666666666666666,
              "#ed7953"
             ],
             [
              0.7777777777777778,
              "#fb9f3a"
             ],
             [
              0.8888888888888888,
              "#fdca26"
             ],
             [
              1,
              "#f0f921"
             ]
            ],
            "type": "heatmapgl"
           }
          ],
          "histogram": [
           {
            "marker": {
             "colorbar": {
              "outlinewidth": 0,
              "ticks": ""
             }
            },
            "type": "histogram"
           }
          ],
          "histogram2d": [
           {
            "colorbar": {
             "outlinewidth": 0,
             "ticks": ""
            },
            "colorscale": [
             [
              0,
              "#0d0887"
             ],
             [
              0.1111111111111111,
              "#46039f"
             ],
             [
              0.2222222222222222,
              "#7201a8"
             ],
             [
              0.3333333333333333,
              "#9c179e"
             ],
             [
              0.4444444444444444,
              "#bd3786"
             ],
             [
              0.5555555555555556,
              "#d8576b"
             ],
             [
              0.6666666666666666,
              "#ed7953"
             ],
             [
              0.7777777777777778,
              "#fb9f3a"
             ],
             [
              0.8888888888888888,
              "#fdca26"
             ],
             [
              1,
              "#f0f921"
             ]
            ],
            "type": "histogram2d"
           }
          ],
          "histogram2dcontour": [
           {
            "colorbar": {
             "outlinewidth": 0,
             "ticks": ""
            },
            "colorscale": [
             [
              0,
              "#0d0887"
             ],
             [
              0.1111111111111111,
              "#46039f"
             ],
             [
              0.2222222222222222,
              "#7201a8"
             ],
             [
              0.3333333333333333,
              "#9c179e"
             ],
             [
              0.4444444444444444,
              "#bd3786"
             ],
             [
              0.5555555555555556,
              "#d8576b"
             ],
             [
              0.6666666666666666,
              "#ed7953"
             ],
             [
              0.7777777777777778,
              "#fb9f3a"
             ],
             [
              0.8888888888888888,
              "#fdca26"
             ],
             [
              1,
              "#f0f921"
             ]
            ],
            "type": "histogram2dcontour"
           }
          ],
          "mesh3d": [
           {
            "colorbar": {
             "outlinewidth": 0,
             "ticks": ""
            },
            "type": "mesh3d"
           }
          ],
          "parcoords": [
           {
            "line": {
             "colorbar": {
              "outlinewidth": 0,
              "ticks": ""
             }
            },
            "type": "parcoords"
           }
          ],
          "pie": [
           {
            "automargin": true,
            "type": "pie"
           }
          ],
          "scatter": [
           {
            "marker": {
             "colorbar": {
              "outlinewidth": 0,
              "ticks": ""
             }
            },
            "type": "scatter"
           }
          ],
          "scatter3d": [
           {
            "line": {
             "colorbar": {
              "outlinewidth": 0,
              "ticks": ""
             }
            },
            "marker": {
             "colorbar": {
              "outlinewidth": 0,
              "ticks": ""
             }
            },
            "type": "scatter3d"
           }
          ],
          "scattercarpet": [
           {
            "marker": {
             "colorbar": {
              "outlinewidth": 0,
              "ticks": ""
             }
            },
            "type": "scattercarpet"
           }
          ],
          "scattergeo": [
           {
            "marker": {
             "colorbar": {
              "outlinewidth": 0,
              "ticks": ""
             }
            },
            "type": "scattergeo"
           }
          ],
          "scattergl": [
           {
            "marker": {
             "colorbar": {
              "outlinewidth": 0,
              "ticks": ""
             }
            },
            "type": "scattergl"
           }
          ],
          "scattermapbox": [
           {
            "marker": {
             "colorbar": {
              "outlinewidth": 0,
              "ticks": ""
             }
            },
            "type": "scattermapbox"
           }
          ],
          "scatterpolar": [
           {
            "marker": {
             "colorbar": {
              "outlinewidth": 0,
              "ticks": ""
             }
            },
            "type": "scatterpolar"
           }
          ],
          "scatterpolargl": [
           {
            "marker": {
             "colorbar": {
              "outlinewidth": 0,
              "ticks": ""
             }
            },
            "type": "scatterpolargl"
           }
          ],
          "scatterternary": [
           {
            "marker": {
             "colorbar": {
              "outlinewidth": 0,
              "ticks": ""
             }
            },
            "type": "scatterternary"
           }
          ],
          "surface": [
           {
            "colorbar": {
             "outlinewidth": 0,
             "ticks": ""
            },
            "colorscale": [
             [
              0,
              "#0d0887"
             ],
             [
              0.1111111111111111,
              "#46039f"
             ],
             [
              0.2222222222222222,
              "#7201a8"
             ],
             [
              0.3333333333333333,
              "#9c179e"
             ],
             [
              0.4444444444444444,
              "#bd3786"
             ],
             [
              0.5555555555555556,
              "#d8576b"
             ],
             [
              0.6666666666666666,
              "#ed7953"
             ],
             [
              0.7777777777777778,
              "#fb9f3a"
             ],
             [
              0.8888888888888888,
              "#fdca26"
             ],
             [
              1,
              "#f0f921"
             ]
            ],
            "type": "surface"
           }
          ],
          "table": [
           {
            "cells": {
             "fill": {
              "color": "#EBF0F8"
             },
             "line": {
              "color": "white"
             }
            },
            "header": {
             "fill": {
              "color": "#C8D4E3"
             },
             "line": {
              "color": "white"
             }
            },
            "type": "table"
           }
          ]
         },
         "layout": {
          "annotationdefaults": {
           "arrowcolor": "#2a3f5f",
           "arrowhead": 0,
           "arrowwidth": 1
          },
          "coloraxis": {
           "colorbar": {
            "outlinewidth": 0,
            "ticks": ""
           }
          },
          "colorscale": {
           "diverging": [
            [
             0,
             "#8e0152"
            ],
            [
             0.1,
             "#c51b7d"
            ],
            [
             0.2,
             "#de77ae"
            ],
            [
             0.3,
             "#f1b6da"
            ],
            [
             0.4,
             "#fde0ef"
            ],
            [
             0.5,
             "#f7f7f7"
            ],
            [
             0.6,
             "#e6f5d0"
            ],
            [
             0.7,
             "#b8e186"
            ],
            [
             0.8,
             "#7fbc41"
            ],
            [
             0.9,
             "#4d9221"
            ],
            [
             1,
             "#276419"
            ]
           ],
           "sequential": [
            [
             0,
             "#0d0887"
            ],
            [
             0.1111111111111111,
             "#46039f"
            ],
            [
             0.2222222222222222,
             "#7201a8"
            ],
            [
             0.3333333333333333,
             "#9c179e"
            ],
            [
             0.4444444444444444,
             "#bd3786"
            ],
            [
             0.5555555555555556,
             "#d8576b"
            ],
            [
             0.6666666666666666,
             "#ed7953"
            ],
            [
             0.7777777777777778,
             "#fb9f3a"
            ],
            [
             0.8888888888888888,
             "#fdca26"
            ],
            [
             1,
             "#f0f921"
            ]
           ],
           "sequentialminus": [
            [
             0,
             "#0d0887"
            ],
            [
             0.1111111111111111,
             "#46039f"
            ],
            [
             0.2222222222222222,
             "#7201a8"
            ],
            [
             0.3333333333333333,
             "#9c179e"
            ],
            [
             0.4444444444444444,
             "#bd3786"
            ],
            [
             0.5555555555555556,
             "#d8576b"
            ],
            [
             0.6666666666666666,
             "#ed7953"
            ],
            [
             0.7777777777777778,
             "#fb9f3a"
            ],
            [
             0.8888888888888888,
             "#fdca26"
            ],
            [
             1,
             "#f0f921"
            ]
           ]
          },
          "colorway": [
           "#636efa",
           "#EF553B",
           "#00cc96",
           "#ab63fa",
           "#FFA15A",
           "#19d3f3",
           "#FF6692",
           "#B6E880",
           "#FF97FF",
           "#FECB52"
          ],
          "font": {
           "color": "#2a3f5f"
          },
          "geo": {
           "bgcolor": "white",
           "lakecolor": "white",
           "landcolor": "#E5ECF6",
           "showlakes": true,
           "showland": true,
           "subunitcolor": "white"
          },
          "hoverlabel": {
           "align": "left"
          },
          "hovermode": "closest",
          "mapbox": {
           "style": "light"
          },
          "paper_bgcolor": "white",
          "plot_bgcolor": "#E5ECF6",
          "polar": {
           "angularaxis": {
            "gridcolor": "white",
            "linecolor": "white",
            "ticks": ""
           },
           "bgcolor": "#E5ECF6",
           "radialaxis": {
            "gridcolor": "white",
            "linecolor": "white",
            "ticks": ""
           }
          },
          "scene": {
           "xaxis": {
            "backgroundcolor": "#E5ECF6",
            "gridcolor": "white",
            "gridwidth": 2,
            "linecolor": "white",
            "showbackground": true,
            "ticks": "",
            "zerolinecolor": "white"
           },
           "yaxis": {
            "backgroundcolor": "#E5ECF6",
            "gridcolor": "white",
            "gridwidth": 2,
            "linecolor": "white",
            "showbackground": true,
            "ticks": "",
            "zerolinecolor": "white"
           },
           "zaxis": {
            "backgroundcolor": "#E5ECF6",
            "gridcolor": "white",
            "gridwidth": 2,
            "linecolor": "white",
            "showbackground": true,
            "ticks": "",
            "zerolinecolor": "white"
           }
          },
          "shapedefaults": {
           "line": {
            "color": "#2a3f5f"
           }
          },
          "ternary": {
           "aaxis": {
            "gridcolor": "white",
            "linecolor": "white",
            "ticks": ""
           },
           "baxis": {
            "gridcolor": "white",
            "linecolor": "white",
            "ticks": ""
           },
           "bgcolor": "#E5ECF6",
           "caxis": {
            "gridcolor": "white",
            "linecolor": "white",
            "ticks": ""
           }
          },
          "title": {
           "x": 0.05
          },
          "xaxis": {
           "automargin": true,
           "gridcolor": "white",
           "linecolor": "white",
           "ticks": "",
           "title": {
            "standoff": 15
           },
           "zerolinecolor": "white",
           "zerolinewidth": 2
          },
          "yaxis": {
           "automargin": true,
           "gridcolor": "white",
           "linecolor": "white",
           "ticks": "",
           "title": {
            "standoff": 15
           },
           "zerolinecolor": "white",
           "zerolinewidth": 2
          }
         }
        },
        "title": {
         "text": "Performance of fraction estimation (per sample)"
        },
        "width": 800,
        "xaxis": {
         "anchor": "y",
         "domain": [
          0,
          1
         ],
         "title": {
          "text": "Data Set (Ncell_Ngene_Nsample_Noise)"
         }
        },
        "yaxis": {
         "anchor": "x",
         "domain": [
          0,
          1
         ],
         "title": {
          "text": "Pearson Correlation (fraction estimation performance)"
         }
        }
       }
      },
      "text/html": [
       "<div>\n",
       "        \n",
       "        \n",
       "            <div id=\"9f702b56-c977-4656-bd17-61d69e3f8cfd\" class=\"plotly-graph-div\" style=\"height:500px; width:800px;\"></div>\n",
       "            <script type=\"text/javascript\">\n",
       "                require([\"plotly\"], function(Plotly) {\n",
       "                    window.PLOTLYENV=window.PLOTLYENV || {};\n",
       "                    \n",
       "                if (document.getElementById(\"9f702b56-c977-4656-bd17-61d69e3f8cfd\")) {\n",
       "                    Plotly.newPlot(\n",
       "                        '9f702b56-c977-4656-bd17-61d69e3f8cfd',\n",
       "                        [{\"alignmentgroup\": \"True\", \"boxpoints\": \"all\", \"hovertemplate\": \"method=BLADE<br>Data Set (Ncell_Ngene_Nsample_Noise)=%{x}<br>Pearson Correlation (fraction estimation performance)=%{y}<extra></extra>\", \"legendgroup\": \"BLADE\", \"marker\": {\"color\": \"#636efa\"}, \"name\": \"BLADE\", \"notched\": false, \"offsetgroup\": \"BLADE\", \"orientation\": \"v\", \"showlegend\": true, \"type\": \"box\", \"x\": [\"5_500_10_0.5\", \"5_500_10_0.5\", \"5_500_10_0.5\", \"5_500_10_0.5\", \"5_500_10_0.5\", \"5_500_10_0.5\", \"5_500_10_0.5\", \"5_500_10_0.5\", \"5_500_10_0.5\", \"5_500_10_0.5\", \"5_500_10_1\", \"5_500_10_1\", \"5_500_10_1\", \"5_500_10_1\", \"5_500_10_1\", \"5_500_10_1\", \"5_500_10_1\", \"5_500_10_1\", \"5_500_10_1\", \"5_500_10_1\", \"5_500_10_1.5\", \"5_500_10_1.5\", \"5_500_10_1.5\", \"5_500_10_1.5\", \"5_500_10_1.5\", \"5_500_10_1.5\", \"5_500_10_1.5\", \"5_500_10_1.5\", \"5_500_10_1.5\", \"5_500_10_1.5\", \"5_500_20_0.5\", \"5_500_20_0.5\", \"5_500_20_0.5\", \"5_500_20_0.5\", \"5_500_20_0.5\", \"5_500_20_0.5\", \"5_500_20_0.5\", \"5_500_20_0.5\", \"5_500_20_0.5\", \"5_500_20_0.5\", \"5_500_20_0.5\", \"5_500_20_0.5\", \"5_500_20_0.5\", \"5_500_20_0.5\", \"5_500_20_0.5\", \"5_500_20_0.5\", \"5_500_20_0.5\", \"5_500_20_0.5\", \"5_500_20_0.5\", \"5_500_20_0.5\", \"5_500_20_1\", \"5_500_20_1\", \"5_500_20_1\", \"5_500_20_1\", \"5_500_20_1\", \"5_500_20_1\", \"5_500_20_1\", \"5_500_20_1\", \"5_500_20_1\", \"5_500_20_1\", \"5_500_20_1\", \"5_500_20_1\", \"5_500_20_1\", \"5_500_20_1\", \"5_500_20_1\", \"5_500_20_1\", \"5_500_20_1\", \"5_500_20_1\", \"5_500_20_1\", \"5_500_20_1\", \"5_500_20_1.5\", \"5_500_20_1.5\", \"5_500_20_1.5\", \"5_500_20_1.5\", \"5_500_20_1.5\", \"5_500_20_1.5\", \"5_500_20_1.5\", \"5_500_20_1.5\", \"5_500_20_1.5\", \"5_500_20_1.5\", \"5_500_20_1.5\", \"5_500_20_1.5\", \"5_500_20_1.5\", \"5_500_20_1.5\", \"5_500_20_1.5\", \"5_500_20_1.5\", \"5_500_20_1.5\", \"5_500_20_1.5\", \"5_500_20_1.5\", \"5_500_20_1.5\"], \"x0\": \" \", \"xaxis\": \"x\", \"y\": [0.8743923481766686, 0.6108754084077126, 0.9650342706290308, 0.9624228871488572, 0.839025728583948, 0.9840990138992741, 0.8865862683693935, 0.8770935074818065, 0.9146033270561019, 0.9483101779836135, 0.9715962619525148, 0.9218530170019621, 0.907837617065805, 0.6885432244249172, 0.9910691478660091, 0.7599225549997028, 0.9544666069387756, 0.9053973262290503, 0.8989999599871801, 0.9232833264881936, 0.9755695204038747, 0.723107431579272, 0.909949131143145, 0.9177249755304965, 0.969729458439735, 0.9029912289299844, 0.8543342774444773, 0.7363502260760496, 0.37455633129203364, 0.7258720752993595, 0.987232013618999, 0.9731386485055317, 0.9764449446723301, 0.7728012536620175, 0.9891525646041159, 0.9826407277576896, 0.919823474839489, 0.9439079997709487, 0.7702277496981382, 0.9972719286865842, 0.9473571129776449, 0.9876083358783883, 0.989932271698379, 0.9866854270661749, 0.9279591547940071, 0.9345491947765378, 0.9592806156765811, 0.9750024799989466, 0.9613222919406423, 0.8380679817480903, 0.6133965153576281, 0.8813781489975072, 0.8750001997688802, 0.9055387942685782, 0.7996115746403183, 0.883745666399486, 0.6050588511052153, 0.9074356968331906, 0.9966238307266244, 0.6299034799931511, 0.3813342281980043, -0.9293419638884752, 0.9786802852281561, 0.6948770760097196, 0.8458953687566725, 0.8932449440318834, 0.7510270644991441, 0.9684910631120189, 0.8391789812414865, 0.9179374459795151, 0.2692125941301635, 0.8725971654361319, 0.8856202463999998, 0.6485213693147808, 0.9028686451839726, 0.9013166153854073, 0.9526262770780533, 0.8118943508422065, 0.8331897636941085, 0.7805174341283687, 0.8919151633203822, 0.8432816895496003, 0.9113914837105638, 0.9293945320363207, 0.9737500726684235, 0.9467568485606885, 0.9937277792850192, 0.7675852565742851, 0.8437738217526181, 0.8108791778651062], \"y0\": \" \", \"yaxis\": \"y\"}, {\"alignmentgroup\": \"True\", \"boxpoints\": \"all\", \"hovertemplate\": \"method=NNLS<br>Data Set (Ncell_Ngene_Nsample_Noise)=%{x}<br>Pearson Correlation (fraction estimation performance)=%{y}<extra></extra>\", \"legendgroup\": \"NNLS\", \"marker\": {\"color\": \"#EF553B\"}, \"name\": \"NNLS\", \"notched\": false, \"offsetgroup\": \"NNLS\", \"orientation\": \"v\", \"showlegend\": true, \"type\": \"box\", \"x\": [\"5_500_10_0.5\", \"5_500_10_0.5\", \"5_500_10_0.5\", \"5_500_10_0.5\", \"5_500_10_0.5\", \"5_500_10_0.5\", \"5_500_10_0.5\", \"5_500_10_0.5\", \"5_500_10_0.5\", \"5_500_10_0.5\", \"5_500_10_1\", \"5_500_10_1\", \"5_500_10_1\", \"5_500_10_1\", \"5_500_10_1\", \"5_500_10_1\", \"5_500_10_1\", \"5_500_10_1\", \"5_500_10_1\", \"5_500_10_1\", \"5_500_10_1.5\", \"5_500_10_1.5\", \"5_500_10_1.5\", \"5_500_10_1.5\", \"5_500_10_1.5\", \"5_500_10_1.5\", \"5_500_10_1.5\", \"5_500_10_1.5\", \"5_500_10_1.5\", \"5_500_10_1.5\", \"5_500_20_0.5\", \"5_500_20_0.5\", \"5_500_20_0.5\", \"5_500_20_0.5\", \"5_500_20_0.5\", \"5_500_20_0.5\", \"5_500_20_0.5\", \"5_500_20_0.5\", \"5_500_20_0.5\", \"5_500_20_0.5\", \"5_500_20_0.5\", \"5_500_20_0.5\", \"5_500_20_0.5\", \"5_500_20_0.5\", \"5_500_20_0.5\", \"5_500_20_0.5\", \"5_500_20_0.5\", \"5_500_20_0.5\", \"5_500_20_0.5\", \"5_500_20_0.5\", \"5_500_20_1\", \"5_500_20_1\", \"5_500_20_1\", \"5_500_20_1\", \"5_500_20_1\", \"5_500_20_1\", \"5_500_20_1\", \"5_500_20_1\", \"5_500_20_1\", \"5_500_20_1\", \"5_500_20_1\", \"5_500_20_1\", \"5_500_20_1\", \"5_500_20_1\", \"5_500_20_1\", \"5_500_20_1\", \"5_500_20_1\", \"5_500_20_1\", \"5_500_20_1\", \"5_500_20_1\", \"5_500_20_1.5\", \"5_500_20_1.5\", \"5_500_20_1.5\", \"5_500_20_1.5\", \"5_500_20_1.5\", \"5_500_20_1.5\", \"5_500_20_1.5\", \"5_500_20_1.5\", \"5_500_20_1.5\", \"5_500_20_1.5\", \"5_500_20_1.5\", \"5_500_20_1.5\", \"5_500_20_1.5\", \"5_500_20_1.5\", \"5_500_20_1.5\", \"5_500_20_1.5\", \"5_500_20_1.5\", \"5_500_20_1.5\", \"5_500_20_1.5\", \"5_500_20_1.5\"], \"x0\": \" \", \"xaxis\": \"x\", \"y\": [0.8802505367218248, -0.4579051039679527, 0.933762922199627, 0.9537470776228859, 0.5232632717213812, 0.9632642068165991, 0.5480193417341096, 0.7989662155449183, 0.7477898208433483, 0.9736960507070411, 0.5183019292991956, 0.772772827409939, 0.6304002152434324, 0.7254622694676666, 0.03901135699370722, 0.8341982314549619, 0.4468922053592843, 0.6098998925931569, -0.5705496367223851, 0.9202331316019495, 0.6832942417165271, 0.6260594235786865, 0.24138090353111435, 0.27664347474630124, 0.9709010240489175, 0.7403142734958967, 0.05493746220511953, 0.7179079076737996, 0.8425463621095661, 0.4761622750212606, 0.823856597692388, 0.9502380107010044, 0.9157827664130964, 0.16737181717738295, 0.986389024083077, 0.976493514938884, 0.9609433170605256, 0.6629968466908126, 0.7171693960333761, 0.9954310293277345, 0.8618847859521266, 0.6837617245856289, 0.941335025936771, 0.9254406230142127, 0.774076523648023, 0.9391502683491615, 0.8543937639866045, 0.9515084684994277, 0.8996252452436498, -0.9132447142023141, 0.10373956518711117, 0.33899195616906946, 0.5023120945405467, 0.4691598384157568, 0.856614472202004, 0.3851857309987565, 0.9179540870618348, 0.07694582559864813, 0.7414552157024902, 0.20392145678283427, 0.4223085401460866, 0.1377878634646276, -0.08187118472598208, 0.9948002228815354, 0.9253891299539657, 0.6789285684458843, 0.15964100062222397, 0.960716501307096, 0.5607604379470307, 0.9694550688492752, -0.602465493581877, 0.48663910599832566, 0.5787665221056636, -0.4841687427405669, 0.794775210739773, 0.022290358525198423, 0.15491130360499492, -0.3381345470567017, -0.044207329156574424, 0.327763923293384, 0.25647495315559365, -0.1602357016032723, 0.7867334423423283, 0.6328117737697208, 0.5594553078566711, 0.6441338717147298, 0.9310026086683818, -0.41118267765532057, -0.36433869367506616, 0.10662753430345256], \"y0\": \" \", \"yaxis\": \"y\"}, {\"alignmentgroup\": \"True\", \"boxpoints\": \"all\", \"hovertemplate\": \"method=SVR_NNLS<br>Data Set (Ncell_Ngene_Nsample_Noise)=%{x}<br>Pearson Correlation (fraction estimation performance)=%{y}<extra></extra>\", \"legendgroup\": \"SVR_NNLS\", \"marker\": {\"color\": \"#00cc96\"}, \"name\": \"SVR_NNLS\", \"notched\": false, \"offsetgroup\": \"SVR_NNLS\", \"orientation\": \"v\", \"showlegend\": true, \"type\": \"box\", \"x\": [\"5_500_10_0.5\", \"5_500_10_0.5\", \"5_500_10_0.5\", \"5_500_10_0.5\", \"5_500_10_0.5\", \"5_500_10_0.5\", \"5_500_10_0.5\", \"5_500_10_0.5\", \"5_500_10_0.5\", \"5_500_10_0.5\", \"5_500_10_1\", \"5_500_10_1\", \"5_500_10_1\", \"5_500_10_1\", \"5_500_10_1\", \"5_500_10_1\", \"5_500_10_1\", \"5_500_10_1\", \"5_500_10_1\", \"5_500_10_1\", \"5_500_10_1.5\", \"5_500_10_1.5\", \"5_500_10_1.5\", \"5_500_10_1.5\", \"5_500_10_1.5\", \"5_500_10_1.5\", \"5_500_10_1.5\", \"5_500_10_1.5\", \"5_500_10_1.5\", \"5_500_10_1.5\", \"5_500_20_0.5\", \"5_500_20_0.5\", \"5_500_20_0.5\", \"5_500_20_0.5\", \"5_500_20_0.5\", \"5_500_20_0.5\", \"5_500_20_0.5\", \"5_500_20_0.5\", \"5_500_20_0.5\", \"5_500_20_0.5\", \"5_500_20_0.5\", \"5_500_20_0.5\", \"5_500_20_0.5\", \"5_500_20_0.5\", \"5_500_20_0.5\", \"5_500_20_0.5\", \"5_500_20_0.5\", \"5_500_20_0.5\", \"5_500_20_0.5\", \"5_500_20_0.5\", \"5_500_20_1\", \"5_500_20_1\", \"5_500_20_1\", \"5_500_20_1\", \"5_500_20_1\", \"5_500_20_1\", \"5_500_20_1\", \"5_500_20_1\", \"5_500_20_1\", \"5_500_20_1\", \"5_500_20_1\", \"5_500_20_1\", \"5_500_20_1\", \"5_500_20_1\", \"5_500_20_1\", \"5_500_20_1\", \"5_500_20_1\", \"5_500_20_1\", \"5_500_20_1\", \"5_500_20_1\", \"5_500_20_1.5\", \"5_500_20_1.5\", \"5_500_20_1.5\", \"5_500_20_1.5\", \"5_500_20_1.5\", \"5_500_20_1.5\", \"5_500_20_1.5\", \"5_500_20_1.5\", \"5_500_20_1.5\", \"5_500_20_1.5\", \"5_500_20_1.5\", \"5_500_20_1.5\", \"5_500_20_1.5\", \"5_500_20_1.5\", \"5_500_20_1.5\", \"5_500_20_1.5\", \"5_500_20_1.5\", \"5_500_20_1.5\", \"5_500_20_1.5\", \"5_500_20_1.5\"], \"x0\": \" \", \"xaxis\": \"x\", \"y\": [0.9111057234706151, -0.35381557555622634, 0.9379679204198667, 0.9686031985273907, 0.5655031973272963, 0.9979660719394418, 0.6507287119041016, 0.8272036642637762, 0.8649812098482332, 0.9970233021561336, 0.723851008963543, 0.8309695693821498, 0.5425851738781409, 0.9481594741362931, -0.1475514963906875, 0.08489481940549182, 0.4255818306484123, 0.8154765428984088, -0.3814257876033307, 0.34066155566487594, 0.9475341500159948, 0.8794682424605114, -0.13957116349806614, 0.9773188603710967, 0.9387526067485353, 0.6883622594221009, 0.20271732112189927, 0.5148429424880681, -0.24976125121859372, 0.7257141588301941, 0.7940878009394833, 0.9548729395597302, 0.8804050176712486, 0.37247167521421576, 0.9917881345702297, 0.9768118622233418, 0.9912151555760843, 0.7005022262953969, 0.5930745386159249, 0.991943795315162, 0.9583566319654022, 0.6819822227770089, 0.9698606841840179, 0.9864820696581578, 0.8815382438759931, 0.9254142550701759, 0.8576822472586053, 0.9312041221245102, 0.9388510069496029, -0.8069052415229527, 0.6199823557150809, 0.683656272394086, 0.7300630884342877, 0.4842792702736092, 0.6892654313956246, 0.8665582352895358, 0.9147961492031473, 0.272853675997718, 0.9177838433916894, 0.5243500617137399, 0.3818799515952116, 0.25118833083073455, 0.8940730181577325, 0.9954288015963566, 0.9717357651971023, 0.8872622350500807, 0.42901750970770175, 0.9053239896491156, 0.8315551173648577, 0.9611339067154844, -0.5750019140433309, 0.2611664458405141, 0.8840379674079053, -0.3318941118613856, 0.686506291720734, -0.1645775626836939, 0.5559014678906792, -0.23777046061142942, -0.12199682729783151, 0.29215934276083527, 0.044991721848822726, 0.44151807236218354, 0.7685582651197005, 0.38673379674750774, 0.4027152860067334, 0.7925567690199643, 0.7011423840163497, -0.03184505072597634, -0.36955002975830226, 0.6494307384703679], \"y0\": \" \", \"yaxis\": \"y\"}],\n",
       "                        {\"boxmode\": \"group\", \"height\": 500, \"legend\": {\"title\": {\"text\": \"method\"}, \"tracegroupgap\": 0}, \"margin\": {\"t\": 60}, \"template\": {\"data\": {\"bar\": [{\"error_x\": {\"color\": \"#2a3f5f\"}, \"error_y\": {\"color\": \"#2a3f5f\"}, \"marker\": {\"line\": {\"color\": \"#E5ECF6\", \"width\": 0.5}}, \"type\": \"bar\"}], \"barpolar\": [{\"marker\": {\"line\": {\"color\": \"#E5ECF6\", \"width\": 0.5}}, \"type\": \"barpolar\"}], \"carpet\": [{\"aaxis\": {\"endlinecolor\": \"#2a3f5f\", \"gridcolor\": \"white\", \"linecolor\": \"white\", \"minorgridcolor\": \"white\", \"startlinecolor\": \"#2a3f5f\"}, \"baxis\": {\"endlinecolor\": \"#2a3f5f\", \"gridcolor\": \"white\", \"linecolor\": \"white\", \"minorgridcolor\": \"white\", \"startlinecolor\": \"#2a3f5f\"}, \"type\": \"carpet\"}], \"choropleth\": [{\"colorbar\": {\"outlinewidth\": 0, \"ticks\": \"\"}, \"type\": \"choropleth\"}], \"contour\": [{\"colorbar\": {\"outlinewidth\": 0, \"ticks\": \"\"}, \"colorscale\": [[0.0, \"#0d0887\"], [0.1111111111111111, \"#46039f\"], [0.2222222222222222, \"#7201a8\"], [0.3333333333333333, \"#9c179e\"], [0.4444444444444444, \"#bd3786\"], [0.5555555555555556, \"#d8576b\"], [0.6666666666666666, \"#ed7953\"], [0.7777777777777778, \"#fb9f3a\"], [0.8888888888888888, \"#fdca26\"], [1.0, \"#f0f921\"]], \"type\": \"contour\"}], \"contourcarpet\": [{\"colorbar\": {\"outlinewidth\": 0, \"ticks\": \"\"}, \"type\": \"contourcarpet\"}], \"heatmap\": [{\"colorbar\": {\"outlinewidth\": 0, \"ticks\": \"\"}, \"colorscale\": [[0.0, \"#0d0887\"], [0.1111111111111111, \"#46039f\"], [0.2222222222222222, \"#7201a8\"], [0.3333333333333333, \"#9c179e\"], [0.4444444444444444, \"#bd3786\"], [0.5555555555555556, \"#d8576b\"], [0.6666666666666666, \"#ed7953\"], [0.7777777777777778, \"#fb9f3a\"], [0.8888888888888888, \"#fdca26\"], [1.0, \"#f0f921\"]], \"type\": \"heatmap\"}], \"heatmapgl\": [{\"colorbar\": {\"outlinewidth\": 0, \"ticks\": \"\"}, \"colorscale\": [[0.0, \"#0d0887\"], [0.1111111111111111, \"#46039f\"], [0.2222222222222222, \"#7201a8\"], [0.3333333333333333, \"#9c179e\"], [0.4444444444444444, \"#bd3786\"], [0.5555555555555556, \"#d8576b\"], [0.6666666666666666, \"#ed7953\"], [0.7777777777777778, \"#fb9f3a\"], [0.8888888888888888, \"#fdca26\"], [1.0, \"#f0f921\"]], \"type\": \"heatmapgl\"}], \"histogram\": [{\"marker\": {\"colorbar\": {\"outlinewidth\": 0, \"ticks\": \"\"}}, \"type\": \"histogram\"}], \"histogram2d\": [{\"colorbar\": {\"outlinewidth\": 0, \"ticks\": \"\"}, \"colorscale\": [[0.0, \"#0d0887\"], [0.1111111111111111, \"#46039f\"], [0.2222222222222222, \"#7201a8\"], [0.3333333333333333, \"#9c179e\"], [0.4444444444444444, \"#bd3786\"], [0.5555555555555556, \"#d8576b\"], [0.6666666666666666, \"#ed7953\"], [0.7777777777777778, \"#fb9f3a\"], [0.8888888888888888, \"#fdca26\"], [1.0, \"#f0f921\"]], \"type\": \"histogram2d\"}], \"histogram2dcontour\": [{\"colorbar\": {\"outlinewidth\": 0, \"ticks\": \"\"}, \"colorscale\": [[0.0, \"#0d0887\"], [0.1111111111111111, \"#46039f\"], [0.2222222222222222, \"#7201a8\"], [0.3333333333333333, \"#9c179e\"], [0.4444444444444444, \"#bd3786\"], [0.5555555555555556, \"#d8576b\"], [0.6666666666666666, \"#ed7953\"], [0.7777777777777778, \"#fb9f3a\"], [0.8888888888888888, \"#fdca26\"], [1.0, \"#f0f921\"]], \"type\": \"histogram2dcontour\"}], \"mesh3d\": [{\"colorbar\": {\"outlinewidth\": 0, \"ticks\": \"\"}, \"type\": \"mesh3d\"}], \"parcoords\": [{\"line\": {\"colorbar\": {\"outlinewidth\": 0, \"ticks\": \"\"}}, \"type\": \"parcoords\"}], \"pie\": [{\"automargin\": true, \"type\": \"pie\"}], \"scatter\": [{\"marker\": {\"colorbar\": {\"outlinewidth\": 0, \"ticks\": \"\"}}, \"type\": \"scatter\"}], \"scatter3d\": [{\"line\": {\"colorbar\": {\"outlinewidth\": 0, \"ticks\": \"\"}}, \"marker\": {\"colorbar\": {\"outlinewidth\": 0, \"ticks\": \"\"}}, \"type\": \"scatter3d\"}], \"scattercarpet\": [{\"marker\": {\"colorbar\": {\"outlinewidth\": 0, \"ticks\": \"\"}}, \"type\": \"scattercarpet\"}], \"scattergeo\": [{\"marker\": {\"colorbar\": {\"outlinewidth\": 0, \"ticks\": \"\"}}, \"type\": \"scattergeo\"}], \"scattergl\": [{\"marker\": {\"colorbar\": {\"outlinewidth\": 0, \"ticks\": \"\"}}, \"type\": \"scattergl\"}], \"scattermapbox\": [{\"marker\": {\"colorbar\": {\"outlinewidth\": 0, \"ticks\": \"\"}}, \"type\": \"scattermapbox\"}], \"scatterpolar\": [{\"marker\": {\"colorbar\": {\"outlinewidth\": 0, \"ticks\": \"\"}}, \"type\": \"scatterpolar\"}], \"scatterpolargl\": [{\"marker\": {\"colorbar\": {\"outlinewidth\": 0, \"ticks\": \"\"}}, \"type\": \"scatterpolargl\"}], \"scatterternary\": [{\"marker\": {\"colorbar\": {\"outlinewidth\": 0, \"ticks\": \"\"}}, \"type\": \"scatterternary\"}], \"surface\": [{\"colorbar\": {\"outlinewidth\": 0, \"ticks\": \"\"}, \"colorscale\": [[0.0, \"#0d0887\"], [0.1111111111111111, \"#46039f\"], [0.2222222222222222, \"#7201a8\"], [0.3333333333333333, \"#9c179e\"], [0.4444444444444444, \"#bd3786\"], [0.5555555555555556, \"#d8576b\"], [0.6666666666666666, \"#ed7953\"], [0.7777777777777778, \"#fb9f3a\"], [0.8888888888888888, \"#fdca26\"], [1.0, \"#f0f921\"]], \"type\": \"surface\"}], \"table\": [{\"cells\": {\"fill\": {\"color\": \"#EBF0F8\"}, \"line\": {\"color\": \"white\"}}, \"header\": {\"fill\": {\"color\": \"#C8D4E3\"}, \"line\": {\"color\": \"white\"}}, \"type\": \"table\"}]}, \"layout\": {\"annotationdefaults\": {\"arrowcolor\": \"#2a3f5f\", \"arrowhead\": 0, \"arrowwidth\": 1}, \"coloraxis\": {\"colorbar\": {\"outlinewidth\": 0, \"ticks\": \"\"}}, \"colorscale\": {\"diverging\": [[0, \"#8e0152\"], [0.1, \"#c51b7d\"], [0.2, \"#de77ae\"], [0.3, \"#f1b6da\"], [0.4, \"#fde0ef\"], [0.5, \"#f7f7f7\"], [0.6, \"#e6f5d0\"], [0.7, \"#b8e186\"], [0.8, \"#7fbc41\"], [0.9, \"#4d9221\"], [1, \"#276419\"]], \"sequential\": [[0.0, \"#0d0887\"], [0.1111111111111111, \"#46039f\"], [0.2222222222222222, \"#7201a8\"], [0.3333333333333333, \"#9c179e\"], [0.4444444444444444, \"#bd3786\"], [0.5555555555555556, \"#d8576b\"], [0.6666666666666666, \"#ed7953\"], [0.7777777777777778, \"#fb9f3a\"], [0.8888888888888888, \"#fdca26\"], [1.0, \"#f0f921\"]], \"sequentialminus\": [[0.0, \"#0d0887\"], [0.1111111111111111, \"#46039f\"], [0.2222222222222222, \"#7201a8\"], [0.3333333333333333, \"#9c179e\"], [0.4444444444444444, \"#bd3786\"], [0.5555555555555556, \"#d8576b\"], [0.6666666666666666, \"#ed7953\"], [0.7777777777777778, \"#fb9f3a\"], [0.8888888888888888, \"#fdca26\"], [1.0, \"#f0f921\"]]}, \"colorway\": [\"#636efa\", \"#EF553B\", \"#00cc96\", \"#ab63fa\", \"#FFA15A\", \"#19d3f3\", \"#FF6692\", \"#B6E880\", \"#FF97FF\", \"#FECB52\"], \"font\": {\"color\": \"#2a3f5f\"}, \"geo\": {\"bgcolor\": \"white\", \"lakecolor\": \"white\", \"landcolor\": \"#E5ECF6\", \"showlakes\": true, \"showland\": true, \"subunitcolor\": \"white\"}, \"hoverlabel\": {\"align\": \"left\"}, \"hovermode\": \"closest\", \"mapbox\": {\"style\": \"light\"}, \"paper_bgcolor\": \"white\", \"plot_bgcolor\": \"#E5ECF6\", \"polar\": {\"angularaxis\": {\"gridcolor\": \"white\", \"linecolor\": \"white\", \"ticks\": \"\"}, \"bgcolor\": \"#E5ECF6\", \"radialaxis\": {\"gridcolor\": \"white\", \"linecolor\": \"white\", \"ticks\": \"\"}}, \"scene\": {\"xaxis\": {\"backgroundcolor\": \"#E5ECF6\", \"gridcolor\": \"white\", \"gridwidth\": 2, \"linecolor\": \"white\", \"showbackground\": true, \"ticks\": \"\", \"zerolinecolor\": \"white\"}, \"yaxis\": {\"backgroundcolor\": \"#E5ECF6\", \"gridcolor\": \"white\", \"gridwidth\": 2, \"linecolor\": \"white\", \"showbackground\": true, \"ticks\": \"\", \"zerolinecolor\": \"white\"}, \"zaxis\": {\"backgroundcolor\": \"#E5ECF6\", \"gridcolor\": \"white\", \"gridwidth\": 2, \"linecolor\": \"white\", \"showbackground\": true, \"ticks\": \"\", \"zerolinecolor\": \"white\"}}, \"shapedefaults\": {\"line\": {\"color\": \"#2a3f5f\"}}, \"ternary\": {\"aaxis\": {\"gridcolor\": \"white\", \"linecolor\": \"white\", \"ticks\": \"\"}, \"baxis\": {\"gridcolor\": \"white\", \"linecolor\": \"white\", \"ticks\": \"\"}, \"bgcolor\": \"#E5ECF6\", \"caxis\": {\"gridcolor\": \"white\", \"linecolor\": \"white\", \"ticks\": \"\"}}, \"title\": {\"x\": 0.05}, \"xaxis\": {\"automargin\": true, \"gridcolor\": \"white\", \"linecolor\": \"white\", \"ticks\": \"\", \"title\": {\"standoff\": 15}, \"zerolinecolor\": \"white\", \"zerolinewidth\": 2}, \"yaxis\": {\"automargin\": true, \"gridcolor\": \"white\", \"linecolor\": \"white\", \"ticks\": \"\", \"title\": {\"standoff\": 15}, \"zerolinecolor\": \"white\", \"zerolinewidth\": 2}}}, \"title\": {\"text\": \"Performance of fraction estimation (per sample)\"}, \"width\": 800, \"xaxis\": {\"anchor\": \"y\", \"domain\": [0.0, 1.0], \"title\": {\"text\": \"Data Set (Ncell_Ngene_Nsample_Noise)\"}}, \"yaxis\": {\"anchor\": \"x\", \"domain\": [0.0, 1.0], \"title\": {\"text\": \"Pearson Correlation (fraction estimation performance)\"}}},\n",
       "                        {\"responsive\": true}\n",
       "                    ).then(function(){\n",
       "                            \n",
       "var gd = document.getElementById('9f702b56-c977-4656-bd17-61d69e3f8cfd');\n",
       "var x = new MutationObserver(function (mutations, observer) {{\n",
       "        var display = window.getComputedStyle(gd).display;\n",
       "        if (!display || display === 'none') {{\n",
       "            console.log([gd, 'removed!']);\n",
       "            Plotly.purge(gd);\n",
       "            observer.disconnect();\n",
       "        }}\n",
       "}});\n",
       "\n",
       "// Listen for the removal of the full notebook cells\n",
       "var notebookContainer = gd.closest('#notebook-container');\n",
       "if (notebookContainer) {{\n",
       "    x.observe(notebookContainer, {childList: true});\n",
       "}}\n",
       "\n",
       "// Listen for the clearing of the current output cell\n",
       "var outputEl = gd.closest('.output');\n",
       "if (outputEl) {{\n",
       "    x.observe(outputEl, {childList: true});\n",
       "}}\n",
       "\n",
       "                        })\n",
       "                };\n",
       "                });\n",
       "            </script>\n",
       "        </div>"
      ]
     },
     "metadata": {},
     "output_type": "display_data"
    }
   ],
   "source": [
    "fig = px.box(outcome_PerSample, y='Cor_Fraction', color='method', x='dataset', points=\"all\",\n",
    "            labels=dict(Cor_Fraction = \"Pearson Correlation (fraction estimation performance)\",\n",
    "                        dataset = \"Data Set (Ncell_Ngene_Nsample_Noise)\"\n",
    "                       )\n",
    "            )\n",
    "fig.update_layout(height=500, width=800,\n",
    "                  title_text=\"Performance of fraction estimation (per sample)\")\n",
    "fig.show()"
   ]
  },
  {
   "cell_type": "code",
   "execution_count": 155,
   "metadata": {},
   "outputs": [
    {
     "data": {
      "application/vnd.plotly.v1+json": {
       "config": {
        "plotlyServerURL": "https://plot.ly"
       },
       "data": [
        {
         "marker": {
          "color": [
           "#9f8cdd",
           "#bac2bf",
           "#d2e9a7",
           "#148c43",
           "#509024",
           "#bdf258",
           "#9f8cdd",
           "#bac2bf",
           "#d2e9a7",
           "#148c43",
           "#509024",
           "#bdf258",
           "#9f8cdd",
           "#bac2bf",
           "#d2e9a7",
           "#148c43",
           "#509024",
           "#bdf258",
           "#9f8cdd",
           "#bac2bf",
           "#d2e9a7",
           "#148c43",
           "#509024",
           "#bdf258",
           "#9f8cdd",
           "#bac2bf",
           "#d2e9a7",
           "#148c43",
           "#509024",
           "#bdf258",
           "#9f8cdd",
           "#bac2bf",
           "#d2e9a7",
           "#148c43",
           "#509024",
           "#bdf258",
           "#9f8cdd",
           "#bac2bf",
           "#d2e9a7",
           "#148c43",
           "#509024",
           "#bdf258",
           "#9f8cdd",
           "#bac2bf",
           "#d2e9a7",
           "#148c43",
           "#509024",
           "#bdf258",
           "#9f8cdd",
           "#bac2bf",
           "#d2e9a7",
           "#148c43",
           "#509024",
           "#bdf258",
           "#9f8cdd",
           "#bac2bf",
           "#d2e9a7",
           "#148c43",
           "#509024",
           "#bdf258",
           "#148c43",
           "#509024",
           "#bdf258",
           "#148c43",
           "#509024",
           "#bdf258",
           "#148c43",
           "#509024",
           "#bdf258",
           "#148c43",
           "#509024",
           "#bdf258",
           "#148c43",
           "#509024",
           "#bdf258",
           "#148c43",
           "#509024",
           "#bdf258",
           "#148c43",
           "#509024",
           "#bdf258",
           "#148c43",
           "#509024",
           "#bdf258",
           "#148c43",
           "#509024",
           "#bdf258",
           "#148c43",
           "#509024",
           "#bdf258"
          ],
          "coloraxis": "coloraxis"
         },
         "mode": "markers",
         "text": [
          "5_500_10_0.5",
          "5_500_10_1",
          "5_500_10_1.5",
          "5_500_20_0.5",
          "5_500_20_1",
          "5_500_20_1.5",
          "5_500_10_0.5",
          "5_500_10_1",
          "5_500_10_1.5",
          "5_500_20_0.5",
          "5_500_20_1",
          "5_500_20_1.5",
          "5_500_10_0.5",
          "5_500_10_1",
          "5_500_10_1.5",
          "5_500_20_0.5",
          "5_500_20_1",
          "5_500_20_1.5",
          "5_500_10_0.5",
          "5_500_10_1",
          "5_500_10_1.5",
          "5_500_20_0.5",
          "5_500_20_1",
          "5_500_20_1.5",
          "5_500_10_0.5",
          "5_500_10_1",
          "5_500_10_1.5",
          "5_500_20_0.5",
          "5_500_20_1",
          "5_500_20_1.5",
          "5_500_10_0.5",
          "5_500_10_1",
          "5_500_10_1.5",
          "5_500_20_0.5",
          "5_500_20_1",
          "5_500_20_1.5",
          "5_500_10_0.5",
          "5_500_10_1",
          "5_500_10_1.5",
          "5_500_20_0.5",
          "5_500_20_1",
          "5_500_20_1.5",
          "5_500_10_0.5",
          "5_500_10_1",
          "5_500_10_1.5",
          "5_500_20_0.5",
          "5_500_20_1",
          "5_500_20_1.5",
          "5_500_10_0.5",
          "5_500_10_1",
          "5_500_10_1.5",
          "5_500_20_0.5",
          "5_500_20_1",
          "5_500_20_1.5",
          "5_500_10_0.5",
          "5_500_10_1",
          "5_500_10_1.5",
          "5_500_20_0.5",
          "5_500_20_1",
          "5_500_20_1.5",
          "5_500_20_0.5",
          "5_500_20_1",
          "5_500_20_1.5",
          "5_500_20_0.5",
          "5_500_20_1",
          "5_500_20_1.5",
          "5_500_20_0.5",
          "5_500_20_1",
          "5_500_20_1.5",
          "5_500_20_0.5",
          "5_500_20_1",
          "5_500_20_1.5",
          "5_500_20_0.5",
          "5_500_20_1",
          "5_500_20_1.5",
          "5_500_20_0.5",
          "5_500_20_1",
          "5_500_20_1.5",
          "5_500_20_0.5",
          "5_500_20_1",
          "5_500_20_1.5",
          "5_500_20_0.5",
          "5_500_20_1",
          "5_500_20_1.5",
          "5_500_20_0.5",
          "5_500_20_1",
          "5_500_20_1.5",
          "5_500_20_0.5",
          "5_500_20_1",
          "5_500_20_1.5"
         ],
         "type": "scatter",
         "x": [
          0.8802505367218248,
          0.5183019292991956,
          0.6832942417165271,
          0.823856597692388,
          0.10373956518711117,
          -0.602465493581877,
          -0.4579051039679527,
          0.772772827409939,
          0.6260594235786865,
          0.9502380107010044,
          0.33899195616906946,
          0.48663910599832566,
          0.933762922199627,
          0.6304002152434324,
          0.24138090353111435,
          0.9157827664130964,
          0.5023120945405467,
          0.5787665221056636,
          0.9537470776228859,
          0.7254622694676666,
          0.27664347474630124,
          0.16737181717738295,
          0.4691598384157568,
          -0.4841687427405669,
          0.5232632717213812,
          0.03901135699370722,
          0.9709010240489175,
          0.986389024083077,
          0.856614472202004,
          0.794775210739773,
          0.9632642068165991,
          0.8341982314549619,
          0.7403142734958967,
          0.976493514938884,
          0.3851857309987565,
          0.022290358525198423,
          0.5480193417341096,
          0.4468922053592843,
          0.05493746220511953,
          0.9609433170605256,
          0.9179540870618348,
          0.15491130360499492,
          0.7989662155449183,
          0.6098998925931569,
          0.7179079076737996,
          0.6629968466908126,
          0.07694582559864813,
          -0.3381345470567017,
          0.7477898208433483,
          -0.5705496367223851,
          0.8425463621095661,
          0.7171693960333761,
          0.7414552157024902,
          -0.044207329156574424,
          0.9736960507070411,
          0.9202331316019495,
          0.4761622750212606,
          0.9954310293277345,
          0.20392145678283427,
          0.327763923293384,
          0.8618847859521266,
          0.4223085401460866,
          0.25647495315559365,
          0.6837617245856289,
          0.1377878634646276,
          -0.1602357016032723,
          0.941335025936771,
          -0.08187118472598208,
          0.7867334423423283,
          0.9254406230142127,
          0.9948002228815354,
          0.6328117737697208,
          0.774076523648023,
          0.9253891299539657,
          0.5594553078566711,
          0.9391502683491615,
          0.6789285684458843,
          0.6441338717147298,
          0.8543937639866045,
          0.15964100062222397,
          0.9310026086683818,
          0.9515084684994277,
          0.960716501307096,
          -0.41118267765532057,
          0.8996252452436498,
          0.5607604379470307,
          -0.36433869367506616,
          -0.9132447142023141,
          0.9694550688492752,
          0.10662753430345256
         ],
         "xaxis": "x",
         "y": [
          0.8743923481766686,
          0.9715962619525148,
          0.9755695204038747,
          0.987232013618999,
          0.6133965153576281,
          0.2692125941301635,
          0.6108754084077126,
          0.9218530170019621,
          0.723107431579272,
          0.9731386485055317,
          0.8813781489975072,
          0.8725971654361319,
          0.9650342706290308,
          0.907837617065805,
          0.909949131143145,
          0.9764449446723301,
          0.8750001997688802,
          0.8856202463999998,
          0.9624228871488572,
          0.6885432244249172,
          0.9177249755304965,
          0.7728012536620175,
          0.9055387942685782,
          0.6485213693147808,
          0.839025728583948,
          0.9910691478660091,
          0.969729458439735,
          0.9891525646041159,
          0.7996115746403183,
          0.9028686451839726,
          0.9840990138992741,
          0.7599225549997028,
          0.9029912289299844,
          0.9826407277576896,
          0.883745666399486,
          0.9013166153854073,
          0.8865862683693935,
          0.9544666069387756,
          0.8543342774444773,
          0.919823474839489,
          0.6050588511052153,
          0.9526262770780533,
          0.8770935074818065,
          0.9053973262290503,
          0.7363502260760496,
          0.9439079997709487,
          0.9074356968331906,
          0.8118943508422065,
          0.9146033270561019,
          0.8989999599871801,
          0.37455633129203364,
          0.7702277496981382,
          0.9966238307266244,
          0.8331897636941085,
          0.9483101779836135,
          0.9232833264881936,
          0.7258720752993595,
          0.9972719286865842,
          0.6299034799931511,
          0.7805174341283687,
          0.9473571129776449,
          0.3813342281980043,
          0.8919151633203822,
          0.9876083358783883,
          -0.9293419638884752,
          0.8432816895496003,
          0.989932271698379,
          0.9786802852281561,
          0.9113914837105638,
          0.9866854270661749,
          0.6948770760097196,
          0.9293945320363207,
          0.9279591547940071,
          0.8458953687566725,
          0.9737500726684235,
          0.9345491947765378,
          0.8932449440318834,
          0.9467568485606885,
          0.9592806156765811,
          0.7510270644991441,
          0.9937277792850192,
          0.9750024799989466,
          0.9684910631120189,
          0.7675852565742851,
          0.9613222919406423,
          0.8391789812414865,
          0.8437738217526181,
          0.8380679817480903,
          0.9179374459795151,
          0.8108791778651062
         ],
         "yaxis": "y"
        },
        {
         "marker": {
          "color": [
           "#9f8cdd",
           "#bac2bf",
           "#d2e9a7",
           "#148c43",
           "#509024",
           "#bdf258",
           "#9f8cdd",
           "#bac2bf",
           "#d2e9a7",
           "#148c43",
           "#509024",
           "#bdf258",
           "#9f8cdd",
           "#bac2bf",
           "#d2e9a7",
           "#148c43",
           "#509024",
           "#bdf258",
           "#9f8cdd",
           "#bac2bf",
           "#d2e9a7",
           "#148c43",
           "#509024",
           "#bdf258",
           "#9f8cdd",
           "#bac2bf",
           "#d2e9a7",
           "#148c43",
           "#509024",
           "#bdf258",
           "#9f8cdd",
           "#bac2bf",
           "#d2e9a7",
           "#148c43",
           "#509024",
           "#bdf258",
           "#9f8cdd",
           "#bac2bf",
           "#d2e9a7",
           "#148c43",
           "#509024",
           "#bdf258",
           "#9f8cdd",
           "#bac2bf",
           "#d2e9a7",
           "#148c43",
           "#509024",
           "#bdf258",
           "#9f8cdd",
           "#bac2bf",
           "#d2e9a7",
           "#148c43",
           "#509024",
           "#bdf258",
           "#9f8cdd",
           "#bac2bf",
           "#d2e9a7",
           "#148c43",
           "#509024",
           "#bdf258",
           "#148c43",
           "#509024",
           "#bdf258",
           "#148c43",
           "#509024",
           "#bdf258",
           "#148c43",
           "#509024",
           "#bdf258",
           "#148c43",
           "#509024",
           "#bdf258",
           "#148c43",
           "#509024",
           "#bdf258",
           "#148c43",
           "#509024",
           "#bdf258",
           "#148c43",
           "#509024",
           "#bdf258",
           "#148c43",
           "#509024",
           "#bdf258",
           "#148c43",
           "#509024",
           "#bdf258",
           "#148c43",
           "#509024",
           "#bdf258"
          ],
          "coloraxis": "coloraxis"
         },
         "mode": "markers",
         "text": [
          "5_500_10_0.5",
          "5_500_10_1",
          "5_500_10_1.5",
          "5_500_20_0.5",
          "5_500_20_1",
          "5_500_20_1.5",
          "5_500_10_0.5",
          "5_500_10_1",
          "5_500_10_1.5",
          "5_500_20_0.5",
          "5_500_20_1",
          "5_500_20_1.5",
          "5_500_10_0.5",
          "5_500_10_1",
          "5_500_10_1.5",
          "5_500_20_0.5",
          "5_500_20_1",
          "5_500_20_1.5",
          "5_500_10_0.5",
          "5_500_10_1",
          "5_500_10_1.5",
          "5_500_20_0.5",
          "5_500_20_1",
          "5_500_20_1.5",
          "5_500_10_0.5",
          "5_500_10_1",
          "5_500_10_1.5",
          "5_500_20_0.5",
          "5_500_20_1",
          "5_500_20_1.5",
          "5_500_10_0.5",
          "5_500_10_1",
          "5_500_10_1.5",
          "5_500_20_0.5",
          "5_500_20_1",
          "5_500_20_1.5",
          "5_500_10_0.5",
          "5_500_10_1",
          "5_500_10_1.5",
          "5_500_20_0.5",
          "5_500_20_1",
          "5_500_20_1.5",
          "5_500_10_0.5",
          "5_500_10_1",
          "5_500_10_1.5",
          "5_500_20_0.5",
          "5_500_20_1",
          "5_500_20_1.5",
          "5_500_10_0.5",
          "5_500_10_1",
          "5_500_10_1.5",
          "5_500_20_0.5",
          "5_500_20_1",
          "5_500_20_1.5",
          "5_500_10_0.5",
          "5_500_10_1",
          "5_500_10_1.5",
          "5_500_20_0.5",
          "5_500_20_1",
          "5_500_20_1.5",
          "5_500_20_0.5",
          "5_500_20_1",
          "5_500_20_1.5",
          "5_500_20_0.5",
          "5_500_20_1",
          "5_500_20_1.5",
          "5_500_20_0.5",
          "5_500_20_1",
          "5_500_20_1.5",
          "5_500_20_0.5",
          "5_500_20_1",
          "5_500_20_1.5",
          "5_500_20_0.5",
          "5_500_20_1",
          "5_500_20_1.5",
          "5_500_20_0.5",
          "5_500_20_1",
          "5_500_20_1.5",
          "5_500_20_0.5",
          "5_500_20_1",
          "5_500_20_1.5",
          "5_500_20_0.5",
          "5_500_20_1",
          "5_500_20_1.5",
          "5_500_20_0.5",
          "5_500_20_1",
          "5_500_20_1.5",
          "5_500_20_0.5",
          "5_500_20_1",
          "5_500_20_1.5"
         ],
         "type": "scatter",
         "x": [
          0.9111057234706151,
          0.723851008963543,
          0.9475341500159948,
          0.7940878009394833,
          0.6199823557150809,
          -0.5750019140433309,
          -0.35381557555622634,
          0.8309695693821498,
          0.8794682424605114,
          0.9548729395597302,
          0.683656272394086,
          0.2611664458405141,
          0.9379679204198667,
          0.5425851738781409,
          -0.13957116349806614,
          0.8804050176712486,
          0.7300630884342877,
          0.8840379674079053,
          0.9686031985273907,
          0.9481594741362931,
          0.9773188603710967,
          0.37247167521421576,
          0.4842792702736092,
          -0.3318941118613856,
          0.5655031973272963,
          -0.1475514963906875,
          0.9387526067485353,
          0.9917881345702297,
          0.6892654313956246,
          0.686506291720734,
          0.9979660719394418,
          0.08489481940549182,
          0.6883622594221009,
          0.9768118622233418,
          0.8665582352895358,
          -0.1645775626836939,
          0.6507287119041016,
          0.4255818306484123,
          0.20271732112189927,
          0.9912151555760843,
          0.9147961492031473,
          0.5559014678906792,
          0.8272036642637762,
          0.8154765428984088,
          0.5148429424880681,
          0.7005022262953969,
          0.272853675997718,
          -0.23777046061142942,
          0.8649812098482332,
          -0.3814257876033307,
          -0.24976125121859372,
          0.5930745386159249,
          0.9177838433916894,
          -0.12199682729783151,
          0.9970233021561336,
          0.34066155566487594,
          0.7257141588301941,
          0.991943795315162,
          0.5243500617137399,
          0.29215934276083527,
          0.9583566319654022,
          0.3818799515952116,
          0.044991721848822726,
          0.6819822227770089,
          0.25118833083073455,
          0.44151807236218354,
          0.9698606841840179,
          0.8940730181577325,
          0.7685582651197005,
          0.9864820696581578,
          0.9954288015963566,
          0.38673379674750774,
          0.8815382438759931,
          0.9717357651971023,
          0.4027152860067334,
          0.9254142550701759,
          0.8872622350500807,
          0.7925567690199643,
          0.8576822472586053,
          0.42901750970770175,
          0.7011423840163497,
          0.9312041221245102,
          0.9053239896491156,
          -0.03184505072597634,
          0.9388510069496029,
          0.8315551173648577,
          -0.36955002975830226,
          -0.8069052415229527,
          0.9611339067154844,
          0.6494307384703679
         ],
         "xaxis": "x2",
         "y": [
          0.8743923481766686,
          0.9715962619525148,
          0.9755695204038747,
          0.987232013618999,
          0.6133965153576281,
          0.2692125941301635,
          0.6108754084077126,
          0.9218530170019621,
          0.723107431579272,
          0.9731386485055317,
          0.8813781489975072,
          0.8725971654361319,
          0.9650342706290308,
          0.907837617065805,
          0.909949131143145,
          0.9764449446723301,
          0.8750001997688802,
          0.8856202463999998,
          0.9624228871488572,
          0.6885432244249172,
          0.9177249755304965,
          0.7728012536620175,
          0.9055387942685782,
          0.6485213693147808,
          0.839025728583948,
          0.9910691478660091,
          0.969729458439735,
          0.9891525646041159,
          0.7996115746403183,
          0.9028686451839726,
          0.9840990138992741,
          0.7599225549997028,
          0.9029912289299844,
          0.9826407277576896,
          0.883745666399486,
          0.9013166153854073,
          0.8865862683693935,
          0.9544666069387756,
          0.8543342774444773,
          0.919823474839489,
          0.6050588511052153,
          0.9526262770780533,
          0.8770935074818065,
          0.9053973262290503,
          0.7363502260760496,
          0.9439079997709487,
          0.9074356968331906,
          0.8118943508422065,
          0.9146033270561019,
          0.8989999599871801,
          0.37455633129203364,
          0.7702277496981382,
          0.9966238307266244,
          0.8331897636941085,
          0.9483101779836135,
          0.9232833264881936,
          0.7258720752993595,
          0.9972719286865842,
          0.6299034799931511,
          0.7805174341283687,
          0.9473571129776449,
          0.3813342281980043,
          0.8919151633203822,
          0.9876083358783883,
          -0.9293419638884752,
          0.8432816895496003,
          0.989932271698379,
          0.9786802852281561,
          0.9113914837105638,
          0.9866854270661749,
          0.6948770760097196,
          0.9293945320363207,
          0.9279591547940071,
          0.8458953687566725,
          0.9737500726684235,
          0.9345491947765378,
          0.8932449440318834,
          0.9467568485606885,
          0.9592806156765811,
          0.7510270644991441,
          0.9937277792850192,
          0.9750024799989466,
          0.9684910631120189,
          0.7675852565742851,
          0.9613222919406423,
          0.8391789812414865,
          0.8437738217526181,
          0.8380679817480903,
          0.9179374459795151,
          0.8108791778651062
         ],
         "yaxis": "y2"
        }
       ],
       "layout": {
        "coloraxis": {
         "colorscale": [
          [
           0,
           "rgb(255,0,0)"
          ],
          [
           1,
           "rgb(0,0,255)"
          ]
         ]
        },
        "height": 500,
        "showlegend": false,
        "template": {
         "data": {
          "bar": [
           {
            "error_x": {
             "color": "#2a3f5f"
            },
            "error_y": {
             "color": "#2a3f5f"
            },
            "marker": {
             "line": {
              "color": "#E5ECF6",
              "width": 0.5
             }
            },
            "type": "bar"
           }
          ],
          "barpolar": [
           {
            "marker": {
             "line": {
              "color": "#E5ECF6",
              "width": 0.5
             }
            },
            "type": "barpolar"
           }
          ],
          "carpet": [
           {
            "aaxis": {
             "endlinecolor": "#2a3f5f",
             "gridcolor": "white",
             "linecolor": "white",
             "minorgridcolor": "white",
             "startlinecolor": "#2a3f5f"
            },
            "baxis": {
             "endlinecolor": "#2a3f5f",
             "gridcolor": "white",
             "linecolor": "white",
             "minorgridcolor": "white",
             "startlinecolor": "#2a3f5f"
            },
            "type": "carpet"
           }
          ],
          "choropleth": [
           {
            "colorbar": {
             "outlinewidth": 0,
             "ticks": ""
            },
            "type": "choropleth"
           }
          ],
          "contour": [
           {
            "colorbar": {
             "outlinewidth": 0,
             "ticks": ""
            },
            "colorscale": [
             [
              0,
              "#0d0887"
             ],
             [
              0.1111111111111111,
              "#46039f"
             ],
             [
              0.2222222222222222,
              "#7201a8"
             ],
             [
              0.3333333333333333,
              "#9c179e"
             ],
             [
              0.4444444444444444,
              "#bd3786"
             ],
             [
              0.5555555555555556,
              "#d8576b"
             ],
             [
              0.6666666666666666,
              "#ed7953"
             ],
             [
              0.7777777777777778,
              "#fb9f3a"
             ],
             [
              0.8888888888888888,
              "#fdca26"
             ],
             [
              1,
              "#f0f921"
             ]
            ],
            "type": "contour"
           }
          ],
          "contourcarpet": [
           {
            "colorbar": {
             "outlinewidth": 0,
             "ticks": ""
            },
            "type": "contourcarpet"
           }
          ],
          "heatmap": [
           {
            "colorbar": {
             "outlinewidth": 0,
             "ticks": ""
            },
            "colorscale": [
             [
              0,
              "#0d0887"
             ],
             [
              0.1111111111111111,
              "#46039f"
             ],
             [
              0.2222222222222222,
              "#7201a8"
             ],
             [
              0.3333333333333333,
              "#9c179e"
             ],
             [
              0.4444444444444444,
              "#bd3786"
             ],
             [
              0.5555555555555556,
              "#d8576b"
             ],
             [
              0.6666666666666666,
              "#ed7953"
             ],
             [
              0.7777777777777778,
              "#fb9f3a"
             ],
             [
              0.8888888888888888,
              "#fdca26"
             ],
             [
              1,
              "#f0f921"
             ]
            ],
            "type": "heatmap"
           }
          ],
          "heatmapgl": [
           {
            "colorbar": {
             "outlinewidth": 0,
             "ticks": ""
            },
            "colorscale": [
             [
              0,
              "#0d0887"
             ],
             [
              0.1111111111111111,
              "#46039f"
             ],
             [
              0.2222222222222222,
              "#7201a8"
             ],
             [
              0.3333333333333333,
              "#9c179e"
             ],
             [
              0.4444444444444444,
              "#bd3786"
             ],
             [
              0.5555555555555556,
              "#d8576b"
             ],
             [
              0.6666666666666666,
              "#ed7953"
             ],
             [
              0.7777777777777778,
              "#fb9f3a"
             ],
             [
              0.8888888888888888,
              "#fdca26"
             ],
             [
              1,
              "#f0f921"
             ]
            ],
            "type": "heatmapgl"
           }
          ],
          "histogram": [
           {
            "marker": {
             "colorbar": {
              "outlinewidth": 0,
              "ticks": ""
             }
            },
            "type": "histogram"
           }
          ],
          "histogram2d": [
           {
            "colorbar": {
             "outlinewidth": 0,
             "ticks": ""
            },
            "colorscale": [
             [
              0,
              "#0d0887"
             ],
             [
              0.1111111111111111,
              "#46039f"
             ],
             [
              0.2222222222222222,
              "#7201a8"
             ],
             [
              0.3333333333333333,
              "#9c179e"
             ],
             [
              0.4444444444444444,
              "#bd3786"
             ],
             [
              0.5555555555555556,
              "#d8576b"
             ],
             [
              0.6666666666666666,
              "#ed7953"
             ],
             [
              0.7777777777777778,
              "#fb9f3a"
             ],
             [
              0.8888888888888888,
              "#fdca26"
             ],
             [
              1,
              "#f0f921"
             ]
            ],
            "type": "histogram2d"
           }
          ],
          "histogram2dcontour": [
           {
            "colorbar": {
             "outlinewidth": 0,
             "ticks": ""
            },
            "colorscale": [
             [
              0,
              "#0d0887"
             ],
             [
              0.1111111111111111,
              "#46039f"
             ],
             [
              0.2222222222222222,
              "#7201a8"
             ],
             [
              0.3333333333333333,
              "#9c179e"
             ],
             [
              0.4444444444444444,
              "#bd3786"
             ],
             [
              0.5555555555555556,
              "#d8576b"
             ],
             [
              0.6666666666666666,
              "#ed7953"
             ],
             [
              0.7777777777777778,
              "#fb9f3a"
             ],
             [
              0.8888888888888888,
              "#fdca26"
             ],
             [
              1,
              "#f0f921"
             ]
            ],
            "type": "histogram2dcontour"
           }
          ],
          "mesh3d": [
           {
            "colorbar": {
             "outlinewidth": 0,
             "ticks": ""
            },
            "type": "mesh3d"
           }
          ],
          "parcoords": [
           {
            "line": {
             "colorbar": {
              "outlinewidth": 0,
              "ticks": ""
             }
            },
            "type": "parcoords"
           }
          ],
          "pie": [
           {
            "automargin": true,
            "type": "pie"
           }
          ],
          "scatter": [
           {
            "marker": {
             "colorbar": {
              "outlinewidth": 0,
              "ticks": ""
             }
            },
            "type": "scatter"
           }
          ],
          "scatter3d": [
           {
            "line": {
             "colorbar": {
              "outlinewidth": 0,
              "ticks": ""
             }
            },
            "marker": {
             "colorbar": {
              "outlinewidth": 0,
              "ticks": ""
             }
            },
            "type": "scatter3d"
           }
          ],
          "scattercarpet": [
           {
            "marker": {
             "colorbar": {
              "outlinewidth": 0,
              "ticks": ""
             }
            },
            "type": "scattercarpet"
           }
          ],
          "scattergeo": [
           {
            "marker": {
             "colorbar": {
              "outlinewidth": 0,
              "ticks": ""
             }
            },
            "type": "scattergeo"
           }
          ],
          "scattergl": [
           {
            "marker": {
             "colorbar": {
              "outlinewidth": 0,
              "ticks": ""
             }
            },
            "type": "scattergl"
           }
          ],
          "scattermapbox": [
           {
            "marker": {
             "colorbar": {
              "outlinewidth": 0,
              "ticks": ""
             }
            },
            "type": "scattermapbox"
           }
          ],
          "scatterpolar": [
           {
            "marker": {
             "colorbar": {
              "outlinewidth": 0,
              "ticks": ""
             }
            },
            "type": "scatterpolar"
           }
          ],
          "scatterpolargl": [
           {
            "marker": {
             "colorbar": {
              "outlinewidth": 0,
              "ticks": ""
             }
            },
            "type": "scatterpolargl"
           }
          ],
          "scatterternary": [
           {
            "marker": {
             "colorbar": {
              "outlinewidth": 0,
              "ticks": ""
             }
            },
            "type": "scatterternary"
           }
          ],
          "surface": [
           {
            "colorbar": {
             "outlinewidth": 0,
             "ticks": ""
            },
            "colorscale": [
             [
              0,
              "#0d0887"
             ],
             [
              0.1111111111111111,
              "#46039f"
             ],
             [
              0.2222222222222222,
              "#7201a8"
             ],
             [
              0.3333333333333333,
              "#9c179e"
             ],
             [
              0.4444444444444444,
              "#bd3786"
             ],
             [
              0.5555555555555556,
              "#d8576b"
             ],
             [
              0.6666666666666666,
              "#ed7953"
             ],
             [
              0.7777777777777778,
              "#fb9f3a"
             ],
             [
              0.8888888888888888,
              "#fdca26"
             ],
             [
              1,
              "#f0f921"
             ]
            ],
            "type": "surface"
           }
          ],
          "table": [
           {
            "cells": {
             "fill": {
              "color": "#EBF0F8"
             },
             "line": {
              "color": "white"
             }
            },
            "header": {
             "fill": {
              "color": "#C8D4E3"
             },
             "line": {
              "color": "white"
             }
            },
            "type": "table"
           }
          ]
         },
         "layout": {
          "annotationdefaults": {
           "arrowcolor": "#2a3f5f",
           "arrowhead": 0,
           "arrowwidth": 1
          },
          "coloraxis": {
           "colorbar": {
            "outlinewidth": 0,
            "ticks": ""
           }
          },
          "colorscale": {
           "diverging": [
            [
             0,
             "#8e0152"
            ],
            [
             0.1,
             "#c51b7d"
            ],
            [
             0.2,
             "#de77ae"
            ],
            [
             0.3,
             "#f1b6da"
            ],
            [
             0.4,
             "#fde0ef"
            ],
            [
             0.5,
             "#f7f7f7"
            ],
            [
             0.6,
             "#e6f5d0"
            ],
            [
             0.7,
             "#b8e186"
            ],
            [
             0.8,
             "#7fbc41"
            ],
            [
             0.9,
             "#4d9221"
            ],
            [
             1,
             "#276419"
            ]
           ],
           "sequential": [
            [
             0,
             "#0d0887"
            ],
            [
             0.1111111111111111,
             "#46039f"
            ],
            [
             0.2222222222222222,
             "#7201a8"
            ],
            [
             0.3333333333333333,
             "#9c179e"
            ],
            [
             0.4444444444444444,
             "#bd3786"
            ],
            [
             0.5555555555555556,
             "#d8576b"
            ],
            [
             0.6666666666666666,
             "#ed7953"
            ],
            [
             0.7777777777777778,
             "#fb9f3a"
            ],
            [
             0.8888888888888888,
             "#fdca26"
            ],
            [
             1,
             "#f0f921"
            ]
           ],
           "sequentialminus": [
            [
             0,
             "#0d0887"
            ],
            [
             0.1111111111111111,
             "#46039f"
            ],
            [
             0.2222222222222222,
             "#7201a8"
            ],
            [
             0.3333333333333333,
             "#9c179e"
            ],
            [
             0.4444444444444444,
             "#bd3786"
            ],
            [
             0.5555555555555556,
             "#d8576b"
            ],
            [
             0.6666666666666666,
             "#ed7953"
            ],
            [
             0.7777777777777778,
             "#fb9f3a"
            ],
            [
             0.8888888888888888,
             "#fdca26"
            ],
            [
             1,
             "#f0f921"
            ]
           ]
          },
          "colorway": [
           "#636efa",
           "#EF553B",
           "#00cc96",
           "#ab63fa",
           "#FFA15A",
           "#19d3f3",
           "#FF6692",
           "#B6E880",
           "#FF97FF",
           "#FECB52"
          ],
          "font": {
           "color": "#2a3f5f"
          },
          "geo": {
           "bgcolor": "white",
           "lakecolor": "white",
           "landcolor": "#E5ECF6",
           "showlakes": true,
           "showland": true,
           "subunitcolor": "white"
          },
          "hoverlabel": {
           "align": "left"
          },
          "hovermode": "closest",
          "mapbox": {
           "style": "light"
          },
          "paper_bgcolor": "white",
          "plot_bgcolor": "#E5ECF6",
          "polar": {
           "angularaxis": {
            "gridcolor": "white",
            "linecolor": "white",
            "ticks": ""
           },
           "bgcolor": "#E5ECF6",
           "radialaxis": {
            "gridcolor": "white",
            "linecolor": "white",
            "ticks": ""
           }
          },
          "scene": {
           "xaxis": {
            "backgroundcolor": "#E5ECF6",
            "gridcolor": "white",
            "gridwidth": 2,
            "linecolor": "white",
            "showbackground": true,
            "ticks": "",
            "zerolinecolor": "white"
           },
           "yaxis": {
            "backgroundcolor": "#E5ECF6",
            "gridcolor": "white",
            "gridwidth": 2,
            "linecolor": "white",
            "showbackground": true,
            "ticks": "",
            "zerolinecolor": "white"
           },
           "zaxis": {
            "backgroundcolor": "#E5ECF6",
            "gridcolor": "white",
            "gridwidth": 2,
            "linecolor": "white",
            "showbackground": true,
            "ticks": "",
            "zerolinecolor": "white"
           }
          },
          "shapedefaults": {
           "line": {
            "color": "#2a3f5f"
           }
          },
          "ternary": {
           "aaxis": {
            "gridcolor": "white",
            "linecolor": "white",
            "ticks": ""
           },
           "baxis": {
            "gridcolor": "white",
            "linecolor": "white",
            "ticks": ""
           },
           "bgcolor": "#E5ECF6",
           "caxis": {
            "gridcolor": "white",
            "linecolor": "white",
            "ticks": ""
           }
          },
          "title": {
           "x": 0.05
          },
          "xaxis": {
           "automargin": true,
           "gridcolor": "white",
           "linecolor": "white",
           "ticks": "",
           "title": {
            "standoff": 15
           },
           "zerolinecolor": "white",
           "zerolinewidth": 2
          },
          "yaxis": {
           "automargin": true,
           "gridcolor": "white",
           "linecolor": "white",
           "ticks": "",
           "title": {
            "standoff": 15
           },
           "zerolinecolor": "white",
           "zerolinewidth": 2
          }
         }
        },
        "title": {
         "text": "Comparison of performance per sample"
        },
        "width": 1000,
        "xaxis": {
         "anchor": "y",
         "domain": [
          0,
          0.45
         ],
         "range": [
          0,
          1
         ],
         "title": {
          "text": "NNLS"
         }
        },
        "xaxis2": {
         "anchor": "y2",
         "domain": [
          0.55,
          1
         ],
         "range": [
          0,
          1
         ],
         "title": {
          "text": "SVR_NNLS"
         }
        },
        "yaxis": {
         "anchor": "x",
         "domain": [
          0,
          1
         ],
         "range": [
          0,
          1
         ],
         "title": {
          "text": "BLADE"
         }
        },
        "yaxis2": {
         "anchor": "x2",
         "domain": [
          0,
          1
         ],
         "matches": "y",
         "range": [
          0,
          1
         ],
         "showticklabels": false,
         "title": {
          "text": "BLADE"
         }
        }
       }
      },
      "text/html": [
       "<div>\n",
       "        \n",
       "        \n",
       "            <div id=\"f635b246-e577-408a-98ee-220615222757\" class=\"plotly-graph-div\" style=\"height:500px; width:1000px;\"></div>\n",
       "            <script type=\"text/javascript\">\n",
       "                require([\"plotly\"], function(Plotly) {\n",
       "                    window.PLOTLYENV=window.PLOTLYENV || {};\n",
       "                    \n",
       "                if (document.getElementById(\"f635b246-e577-408a-98ee-220615222757\")) {\n",
       "                    Plotly.newPlot(\n",
       "                        'f635b246-e577-408a-98ee-220615222757',\n",
       "                        [{\"marker\": {\"color\": [\"#9f8cdd\", \"#bac2bf\", \"#d2e9a7\", \"#148c43\", \"#509024\", \"#bdf258\", \"#9f8cdd\", \"#bac2bf\", \"#d2e9a7\", \"#148c43\", \"#509024\", \"#bdf258\", \"#9f8cdd\", \"#bac2bf\", \"#d2e9a7\", \"#148c43\", \"#509024\", \"#bdf258\", \"#9f8cdd\", \"#bac2bf\", \"#d2e9a7\", \"#148c43\", \"#509024\", \"#bdf258\", \"#9f8cdd\", \"#bac2bf\", \"#d2e9a7\", \"#148c43\", \"#509024\", \"#bdf258\", \"#9f8cdd\", \"#bac2bf\", \"#d2e9a7\", \"#148c43\", \"#509024\", \"#bdf258\", \"#9f8cdd\", \"#bac2bf\", \"#d2e9a7\", \"#148c43\", \"#509024\", \"#bdf258\", \"#9f8cdd\", \"#bac2bf\", \"#d2e9a7\", \"#148c43\", \"#509024\", \"#bdf258\", \"#9f8cdd\", \"#bac2bf\", \"#d2e9a7\", \"#148c43\", \"#509024\", \"#bdf258\", \"#9f8cdd\", \"#bac2bf\", \"#d2e9a7\", \"#148c43\", \"#509024\", \"#bdf258\", \"#148c43\", \"#509024\", \"#bdf258\", \"#148c43\", \"#509024\", \"#bdf258\", \"#148c43\", \"#509024\", \"#bdf258\", \"#148c43\", \"#509024\", \"#bdf258\", \"#148c43\", \"#509024\", \"#bdf258\", \"#148c43\", \"#509024\", \"#bdf258\", \"#148c43\", \"#509024\", \"#bdf258\", \"#148c43\", \"#509024\", \"#bdf258\", \"#148c43\", \"#509024\", \"#bdf258\", \"#148c43\", \"#509024\", \"#bdf258\"], \"coloraxis\": \"coloraxis\"}, \"mode\": \"markers\", \"text\": [\"5_500_10_0.5\", \"5_500_10_1\", \"5_500_10_1.5\", \"5_500_20_0.5\", \"5_500_20_1\", \"5_500_20_1.5\", \"5_500_10_0.5\", \"5_500_10_1\", \"5_500_10_1.5\", \"5_500_20_0.5\", \"5_500_20_1\", \"5_500_20_1.5\", \"5_500_10_0.5\", \"5_500_10_1\", \"5_500_10_1.5\", \"5_500_20_0.5\", \"5_500_20_1\", \"5_500_20_1.5\", \"5_500_10_0.5\", \"5_500_10_1\", \"5_500_10_1.5\", \"5_500_20_0.5\", \"5_500_20_1\", \"5_500_20_1.5\", \"5_500_10_0.5\", \"5_500_10_1\", \"5_500_10_1.5\", \"5_500_20_0.5\", \"5_500_20_1\", \"5_500_20_1.5\", \"5_500_10_0.5\", \"5_500_10_1\", \"5_500_10_1.5\", \"5_500_20_0.5\", \"5_500_20_1\", \"5_500_20_1.5\", \"5_500_10_0.5\", \"5_500_10_1\", \"5_500_10_1.5\", \"5_500_20_0.5\", \"5_500_20_1\", \"5_500_20_1.5\", \"5_500_10_0.5\", \"5_500_10_1\", \"5_500_10_1.5\", \"5_500_20_0.5\", \"5_500_20_1\", \"5_500_20_1.5\", \"5_500_10_0.5\", \"5_500_10_1\", \"5_500_10_1.5\", \"5_500_20_0.5\", \"5_500_20_1\", \"5_500_20_1.5\", \"5_500_10_0.5\", \"5_500_10_1\", \"5_500_10_1.5\", \"5_500_20_0.5\", \"5_500_20_1\", \"5_500_20_1.5\", \"5_500_20_0.5\", \"5_500_20_1\", \"5_500_20_1.5\", \"5_500_20_0.5\", \"5_500_20_1\", \"5_500_20_1.5\", \"5_500_20_0.5\", \"5_500_20_1\", \"5_500_20_1.5\", \"5_500_20_0.5\", \"5_500_20_1\", \"5_500_20_1.5\", \"5_500_20_0.5\", \"5_500_20_1\", \"5_500_20_1.5\", \"5_500_20_0.5\", \"5_500_20_1\", \"5_500_20_1.5\", \"5_500_20_0.5\", \"5_500_20_1\", \"5_500_20_1.5\", \"5_500_20_0.5\", \"5_500_20_1\", \"5_500_20_1.5\", \"5_500_20_0.5\", \"5_500_20_1\", \"5_500_20_1.5\", \"5_500_20_0.5\", \"5_500_20_1\", \"5_500_20_1.5\"], \"type\": \"scatter\", \"x\": [0.8802505367218248, 0.5183019292991956, 0.6832942417165271, 0.823856597692388, 0.10373956518711117, -0.602465493581877, -0.4579051039679527, 0.772772827409939, 0.6260594235786865, 0.9502380107010044, 0.33899195616906946, 0.48663910599832566, 0.933762922199627, 0.6304002152434324, 0.24138090353111435, 0.9157827664130964, 0.5023120945405467, 0.5787665221056636, 0.9537470776228859, 0.7254622694676666, 0.27664347474630124, 0.16737181717738295, 0.4691598384157568, -0.4841687427405669, 0.5232632717213812, 0.03901135699370722, 0.9709010240489175, 0.986389024083077, 0.856614472202004, 0.794775210739773, 0.9632642068165991, 0.8341982314549619, 0.7403142734958967, 0.976493514938884, 0.3851857309987565, 0.022290358525198423, 0.5480193417341096, 0.4468922053592843, 0.05493746220511953, 0.9609433170605256, 0.9179540870618348, 0.15491130360499492, 0.7989662155449183, 0.6098998925931569, 0.7179079076737996, 0.6629968466908126, 0.07694582559864813, -0.3381345470567017, 0.7477898208433483, -0.5705496367223851, 0.8425463621095661, 0.7171693960333761, 0.7414552157024902, -0.044207329156574424, 0.9736960507070411, 0.9202331316019495, 0.4761622750212606, 0.9954310293277345, 0.20392145678283427, 0.327763923293384, 0.8618847859521266, 0.4223085401460866, 0.25647495315559365, 0.6837617245856289, 0.1377878634646276, -0.1602357016032723, 0.941335025936771, -0.08187118472598208, 0.7867334423423283, 0.9254406230142127, 0.9948002228815354, 0.6328117737697208, 0.774076523648023, 0.9253891299539657, 0.5594553078566711, 0.9391502683491615, 0.6789285684458843, 0.6441338717147298, 0.8543937639866045, 0.15964100062222397, 0.9310026086683818, 0.9515084684994277, 0.960716501307096, -0.41118267765532057, 0.8996252452436498, 0.5607604379470307, -0.36433869367506616, -0.9132447142023141, 0.9694550688492752, 0.10662753430345256], \"xaxis\": \"x\", \"y\": [0.8743923481766686, 0.9715962619525148, 0.9755695204038747, 0.987232013618999, 0.6133965153576281, 0.2692125941301635, 0.6108754084077126, 0.9218530170019621, 0.723107431579272, 0.9731386485055317, 0.8813781489975072, 0.8725971654361319, 0.9650342706290308, 0.907837617065805, 0.909949131143145, 0.9764449446723301, 0.8750001997688802, 0.8856202463999998, 0.9624228871488572, 0.6885432244249172, 0.9177249755304965, 0.7728012536620175, 0.9055387942685782, 0.6485213693147808, 0.839025728583948, 0.9910691478660091, 0.969729458439735, 0.9891525646041159, 0.7996115746403183, 0.9028686451839726, 0.9840990138992741, 0.7599225549997028, 0.9029912289299844, 0.9826407277576896, 0.883745666399486, 0.9013166153854073, 0.8865862683693935, 0.9544666069387756, 0.8543342774444773, 0.919823474839489, 0.6050588511052153, 0.9526262770780533, 0.8770935074818065, 0.9053973262290503, 0.7363502260760496, 0.9439079997709487, 0.9074356968331906, 0.8118943508422065, 0.9146033270561019, 0.8989999599871801, 0.37455633129203364, 0.7702277496981382, 0.9966238307266244, 0.8331897636941085, 0.9483101779836135, 0.9232833264881936, 0.7258720752993595, 0.9972719286865842, 0.6299034799931511, 0.7805174341283687, 0.9473571129776449, 0.3813342281980043, 0.8919151633203822, 0.9876083358783883, -0.9293419638884752, 0.8432816895496003, 0.989932271698379, 0.9786802852281561, 0.9113914837105638, 0.9866854270661749, 0.6948770760097196, 0.9293945320363207, 0.9279591547940071, 0.8458953687566725, 0.9737500726684235, 0.9345491947765378, 0.8932449440318834, 0.9467568485606885, 0.9592806156765811, 0.7510270644991441, 0.9937277792850192, 0.9750024799989466, 0.9684910631120189, 0.7675852565742851, 0.9613222919406423, 0.8391789812414865, 0.8437738217526181, 0.8380679817480903, 0.9179374459795151, 0.8108791778651062], \"yaxis\": \"y\"}, {\"marker\": {\"color\": [\"#9f8cdd\", \"#bac2bf\", \"#d2e9a7\", \"#148c43\", \"#509024\", \"#bdf258\", \"#9f8cdd\", \"#bac2bf\", \"#d2e9a7\", \"#148c43\", \"#509024\", \"#bdf258\", \"#9f8cdd\", \"#bac2bf\", \"#d2e9a7\", \"#148c43\", \"#509024\", \"#bdf258\", \"#9f8cdd\", \"#bac2bf\", \"#d2e9a7\", \"#148c43\", \"#509024\", \"#bdf258\", \"#9f8cdd\", \"#bac2bf\", \"#d2e9a7\", \"#148c43\", \"#509024\", \"#bdf258\", \"#9f8cdd\", \"#bac2bf\", \"#d2e9a7\", \"#148c43\", \"#509024\", \"#bdf258\", \"#9f8cdd\", \"#bac2bf\", \"#d2e9a7\", \"#148c43\", \"#509024\", \"#bdf258\", \"#9f8cdd\", \"#bac2bf\", \"#d2e9a7\", \"#148c43\", \"#509024\", \"#bdf258\", \"#9f8cdd\", \"#bac2bf\", \"#d2e9a7\", \"#148c43\", \"#509024\", \"#bdf258\", \"#9f8cdd\", \"#bac2bf\", \"#d2e9a7\", \"#148c43\", \"#509024\", \"#bdf258\", \"#148c43\", \"#509024\", \"#bdf258\", \"#148c43\", \"#509024\", \"#bdf258\", \"#148c43\", \"#509024\", \"#bdf258\", \"#148c43\", \"#509024\", \"#bdf258\", \"#148c43\", \"#509024\", \"#bdf258\", \"#148c43\", \"#509024\", \"#bdf258\", \"#148c43\", \"#509024\", \"#bdf258\", \"#148c43\", \"#509024\", \"#bdf258\", \"#148c43\", \"#509024\", \"#bdf258\", \"#148c43\", \"#509024\", \"#bdf258\"], \"coloraxis\": \"coloraxis\"}, \"mode\": \"markers\", \"text\": [\"5_500_10_0.5\", \"5_500_10_1\", \"5_500_10_1.5\", \"5_500_20_0.5\", \"5_500_20_1\", \"5_500_20_1.5\", \"5_500_10_0.5\", \"5_500_10_1\", \"5_500_10_1.5\", \"5_500_20_0.5\", \"5_500_20_1\", \"5_500_20_1.5\", \"5_500_10_0.5\", \"5_500_10_1\", \"5_500_10_1.5\", \"5_500_20_0.5\", \"5_500_20_1\", \"5_500_20_1.5\", \"5_500_10_0.5\", \"5_500_10_1\", \"5_500_10_1.5\", \"5_500_20_0.5\", \"5_500_20_1\", \"5_500_20_1.5\", \"5_500_10_0.5\", \"5_500_10_1\", \"5_500_10_1.5\", \"5_500_20_0.5\", \"5_500_20_1\", \"5_500_20_1.5\", \"5_500_10_0.5\", \"5_500_10_1\", \"5_500_10_1.5\", \"5_500_20_0.5\", \"5_500_20_1\", \"5_500_20_1.5\", \"5_500_10_0.5\", \"5_500_10_1\", \"5_500_10_1.5\", \"5_500_20_0.5\", \"5_500_20_1\", \"5_500_20_1.5\", \"5_500_10_0.5\", \"5_500_10_1\", \"5_500_10_1.5\", \"5_500_20_0.5\", \"5_500_20_1\", \"5_500_20_1.5\", \"5_500_10_0.5\", \"5_500_10_1\", \"5_500_10_1.5\", \"5_500_20_0.5\", \"5_500_20_1\", \"5_500_20_1.5\", \"5_500_10_0.5\", \"5_500_10_1\", \"5_500_10_1.5\", \"5_500_20_0.5\", \"5_500_20_1\", \"5_500_20_1.5\", \"5_500_20_0.5\", \"5_500_20_1\", \"5_500_20_1.5\", \"5_500_20_0.5\", \"5_500_20_1\", \"5_500_20_1.5\", \"5_500_20_0.5\", \"5_500_20_1\", \"5_500_20_1.5\", \"5_500_20_0.5\", \"5_500_20_1\", \"5_500_20_1.5\", \"5_500_20_0.5\", \"5_500_20_1\", \"5_500_20_1.5\", \"5_500_20_0.5\", \"5_500_20_1\", \"5_500_20_1.5\", \"5_500_20_0.5\", \"5_500_20_1\", \"5_500_20_1.5\", \"5_500_20_0.5\", \"5_500_20_1\", \"5_500_20_1.5\", \"5_500_20_0.5\", \"5_500_20_1\", \"5_500_20_1.5\", \"5_500_20_0.5\", \"5_500_20_1\", \"5_500_20_1.5\"], \"type\": \"scatter\", \"x\": [0.9111057234706151, 0.723851008963543, 0.9475341500159948, 0.7940878009394833, 0.6199823557150809, -0.5750019140433309, -0.35381557555622634, 0.8309695693821498, 0.8794682424605114, 0.9548729395597302, 0.683656272394086, 0.2611664458405141, 0.9379679204198667, 0.5425851738781409, -0.13957116349806614, 0.8804050176712486, 0.7300630884342877, 0.8840379674079053, 0.9686031985273907, 0.9481594741362931, 0.9773188603710967, 0.37247167521421576, 0.4842792702736092, -0.3318941118613856, 0.5655031973272963, -0.1475514963906875, 0.9387526067485353, 0.9917881345702297, 0.6892654313956246, 0.686506291720734, 0.9979660719394418, 0.08489481940549182, 0.6883622594221009, 0.9768118622233418, 0.8665582352895358, -0.1645775626836939, 0.6507287119041016, 0.4255818306484123, 0.20271732112189927, 0.9912151555760843, 0.9147961492031473, 0.5559014678906792, 0.8272036642637762, 0.8154765428984088, 0.5148429424880681, 0.7005022262953969, 0.272853675997718, -0.23777046061142942, 0.8649812098482332, -0.3814257876033307, -0.24976125121859372, 0.5930745386159249, 0.9177838433916894, -0.12199682729783151, 0.9970233021561336, 0.34066155566487594, 0.7257141588301941, 0.991943795315162, 0.5243500617137399, 0.29215934276083527, 0.9583566319654022, 0.3818799515952116, 0.044991721848822726, 0.6819822227770089, 0.25118833083073455, 0.44151807236218354, 0.9698606841840179, 0.8940730181577325, 0.7685582651197005, 0.9864820696581578, 0.9954288015963566, 0.38673379674750774, 0.8815382438759931, 0.9717357651971023, 0.4027152860067334, 0.9254142550701759, 0.8872622350500807, 0.7925567690199643, 0.8576822472586053, 0.42901750970770175, 0.7011423840163497, 0.9312041221245102, 0.9053239896491156, -0.03184505072597634, 0.9388510069496029, 0.8315551173648577, -0.36955002975830226, -0.8069052415229527, 0.9611339067154844, 0.6494307384703679], \"xaxis\": \"x2\", \"y\": [0.8743923481766686, 0.9715962619525148, 0.9755695204038747, 0.987232013618999, 0.6133965153576281, 0.2692125941301635, 0.6108754084077126, 0.9218530170019621, 0.723107431579272, 0.9731386485055317, 0.8813781489975072, 0.8725971654361319, 0.9650342706290308, 0.907837617065805, 0.909949131143145, 0.9764449446723301, 0.8750001997688802, 0.8856202463999998, 0.9624228871488572, 0.6885432244249172, 0.9177249755304965, 0.7728012536620175, 0.9055387942685782, 0.6485213693147808, 0.839025728583948, 0.9910691478660091, 0.969729458439735, 0.9891525646041159, 0.7996115746403183, 0.9028686451839726, 0.9840990138992741, 0.7599225549997028, 0.9029912289299844, 0.9826407277576896, 0.883745666399486, 0.9013166153854073, 0.8865862683693935, 0.9544666069387756, 0.8543342774444773, 0.919823474839489, 0.6050588511052153, 0.9526262770780533, 0.8770935074818065, 0.9053973262290503, 0.7363502260760496, 0.9439079997709487, 0.9074356968331906, 0.8118943508422065, 0.9146033270561019, 0.8989999599871801, 0.37455633129203364, 0.7702277496981382, 0.9966238307266244, 0.8331897636941085, 0.9483101779836135, 0.9232833264881936, 0.7258720752993595, 0.9972719286865842, 0.6299034799931511, 0.7805174341283687, 0.9473571129776449, 0.3813342281980043, 0.8919151633203822, 0.9876083358783883, -0.9293419638884752, 0.8432816895496003, 0.989932271698379, 0.9786802852281561, 0.9113914837105638, 0.9866854270661749, 0.6948770760097196, 0.9293945320363207, 0.9279591547940071, 0.8458953687566725, 0.9737500726684235, 0.9345491947765378, 0.8932449440318834, 0.9467568485606885, 0.9592806156765811, 0.7510270644991441, 0.9937277792850192, 0.9750024799989466, 0.9684910631120189, 0.7675852565742851, 0.9613222919406423, 0.8391789812414865, 0.8437738217526181, 0.8380679817480903, 0.9179374459795151, 0.8108791778651062], \"yaxis\": \"y2\"}],\n",
       "                        {\"coloraxis\": {\"colorscale\": [[0.0, \"rgb(255,0,0)\"], [1.0, \"rgb(0,0,255)\"]]}, \"height\": 500, \"showlegend\": false, \"template\": {\"data\": {\"bar\": [{\"error_x\": {\"color\": \"#2a3f5f\"}, \"error_y\": {\"color\": \"#2a3f5f\"}, \"marker\": {\"line\": {\"color\": \"#E5ECF6\", \"width\": 0.5}}, \"type\": \"bar\"}], \"barpolar\": [{\"marker\": {\"line\": {\"color\": \"#E5ECF6\", \"width\": 0.5}}, \"type\": \"barpolar\"}], \"carpet\": [{\"aaxis\": {\"endlinecolor\": \"#2a3f5f\", \"gridcolor\": \"white\", \"linecolor\": \"white\", \"minorgridcolor\": \"white\", \"startlinecolor\": \"#2a3f5f\"}, \"baxis\": {\"endlinecolor\": \"#2a3f5f\", \"gridcolor\": \"white\", \"linecolor\": \"white\", \"minorgridcolor\": \"white\", \"startlinecolor\": \"#2a3f5f\"}, \"type\": \"carpet\"}], \"choropleth\": [{\"colorbar\": {\"outlinewidth\": 0, \"ticks\": \"\"}, \"type\": \"choropleth\"}], \"contour\": [{\"colorbar\": {\"outlinewidth\": 0, \"ticks\": \"\"}, \"colorscale\": [[0.0, \"#0d0887\"], [0.1111111111111111, \"#46039f\"], [0.2222222222222222, \"#7201a8\"], [0.3333333333333333, \"#9c179e\"], [0.4444444444444444, \"#bd3786\"], [0.5555555555555556, \"#d8576b\"], [0.6666666666666666, \"#ed7953\"], [0.7777777777777778, \"#fb9f3a\"], [0.8888888888888888, \"#fdca26\"], [1.0, \"#f0f921\"]], \"type\": \"contour\"}], \"contourcarpet\": [{\"colorbar\": {\"outlinewidth\": 0, \"ticks\": \"\"}, \"type\": \"contourcarpet\"}], \"heatmap\": [{\"colorbar\": {\"outlinewidth\": 0, \"ticks\": \"\"}, \"colorscale\": [[0.0, \"#0d0887\"], [0.1111111111111111, \"#46039f\"], [0.2222222222222222, \"#7201a8\"], [0.3333333333333333, \"#9c179e\"], [0.4444444444444444, \"#bd3786\"], [0.5555555555555556, \"#d8576b\"], [0.6666666666666666, \"#ed7953\"], [0.7777777777777778, \"#fb9f3a\"], [0.8888888888888888, \"#fdca26\"], [1.0, \"#f0f921\"]], \"type\": \"heatmap\"}], \"heatmapgl\": [{\"colorbar\": {\"outlinewidth\": 0, \"ticks\": \"\"}, \"colorscale\": [[0.0, \"#0d0887\"], [0.1111111111111111, \"#46039f\"], [0.2222222222222222, \"#7201a8\"], [0.3333333333333333, \"#9c179e\"], [0.4444444444444444, \"#bd3786\"], [0.5555555555555556, \"#d8576b\"], [0.6666666666666666, \"#ed7953\"], [0.7777777777777778, \"#fb9f3a\"], [0.8888888888888888, \"#fdca26\"], [1.0, \"#f0f921\"]], \"type\": \"heatmapgl\"}], \"histogram\": [{\"marker\": {\"colorbar\": {\"outlinewidth\": 0, \"ticks\": \"\"}}, \"type\": \"histogram\"}], \"histogram2d\": [{\"colorbar\": {\"outlinewidth\": 0, \"ticks\": \"\"}, \"colorscale\": [[0.0, \"#0d0887\"], [0.1111111111111111, \"#46039f\"], [0.2222222222222222, \"#7201a8\"], [0.3333333333333333, \"#9c179e\"], [0.4444444444444444, \"#bd3786\"], [0.5555555555555556, \"#d8576b\"], [0.6666666666666666, \"#ed7953\"], [0.7777777777777778, \"#fb9f3a\"], [0.8888888888888888, \"#fdca26\"], [1.0, \"#f0f921\"]], \"type\": \"histogram2d\"}], \"histogram2dcontour\": [{\"colorbar\": {\"outlinewidth\": 0, \"ticks\": \"\"}, \"colorscale\": [[0.0, \"#0d0887\"], [0.1111111111111111, \"#46039f\"], [0.2222222222222222, \"#7201a8\"], [0.3333333333333333, \"#9c179e\"], [0.4444444444444444, \"#bd3786\"], [0.5555555555555556, \"#d8576b\"], [0.6666666666666666, \"#ed7953\"], [0.7777777777777778, \"#fb9f3a\"], [0.8888888888888888, \"#fdca26\"], [1.0, \"#f0f921\"]], \"type\": \"histogram2dcontour\"}], \"mesh3d\": [{\"colorbar\": {\"outlinewidth\": 0, \"ticks\": \"\"}, \"type\": \"mesh3d\"}], \"parcoords\": [{\"line\": {\"colorbar\": {\"outlinewidth\": 0, \"ticks\": \"\"}}, \"type\": \"parcoords\"}], \"pie\": [{\"automargin\": true, \"type\": \"pie\"}], \"scatter\": [{\"marker\": {\"colorbar\": {\"outlinewidth\": 0, \"ticks\": \"\"}}, \"type\": \"scatter\"}], \"scatter3d\": [{\"line\": {\"colorbar\": {\"outlinewidth\": 0, \"ticks\": \"\"}}, \"marker\": {\"colorbar\": {\"outlinewidth\": 0, \"ticks\": \"\"}}, \"type\": \"scatter3d\"}], \"scattercarpet\": [{\"marker\": {\"colorbar\": {\"outlinewidth\": 0, \"ticks\": \"\"}}, \"type\": \"scattercarpet\"}], \"scattergeo\": [{\"marker\": {\"colorbar\": {\"outlinewidth\": 0, \"ticks\": \"\"}}, \"type\": \"scattergeo\"}], \"scattergl\": [{\"marker\": {\"colorbar\": {\"outlinewidth\": 0, \"ticks\": \"\"}}, \"type\": \"scattergl\"}], \"scattermapbox\": [{\"marker\": {\"colorbar\": {\"outlinewidth\": 0, \"ticks\": \"\"}}, \"type\": \"scattermapbox\"}], \"scatterpolar\": [{\"marker\": {\"colorbar\": {\"outlinewidth\": 0, \"ticks\": \"\"}}, \"type\": \"scatterpolar\"}], \"scatterpolargl\": [{\"marker\": {\"colorbar\": {\"outlinewidth\": 0, \"ticks\": \"\"}}, \"type\": \"scatterpolargl\"}], \"scatterternary\": [{\"marker\": {\"colorbar\": {\"outlinewidth\": 0, \"ticks\": \"\"}}, \"type\": \"scatterternary\"}], \"surface\": [{\"colorbar\": {\"outlinewidth\": 0, \"ticks\": \"\"}, \"colorscale\": [[0.0, \"#0d0887\"], [0.1111111111111111, \"#46039f\"], [0.2222222222222222, \"#7201a8\"], [0.3333333333333333, \"#9c179e\"], [0.4444444444444444, \"#bd3786\"], [0.5555555555555556, \"#d8576b\"], [0.6666666666666666, \"#ed7953\"], [0.7777777777777778, \"#fb9f3a\"], [0.8888888888888888, \"#fdca26\"], [1.0, \"#f0f921\"]], \"type\": \"surface\"}], \"table\": [{\"cells\": {\"fill\": {\"color\": \"#EBF0F8\"}, \"line\": {\"color\": \"white\"}}, \"header\": {\"fill\": {\"color\": \"#C8D4E3\"}, \"line\": {\"color\": \"white\"}}, \"type\": \"table\"}]}, \"layout\": {\"annotationdefaults\": {\"arrowcolor\": \"#2a3f5f\", \"arrowhead\": 0, \"arrowwidth\": 1}, \"coloraxis\": {\"colorbar\": {\"outlinewidth\": 0, \"ticks\": \"\"}}, \"colorscale\": {\"diverging\": [[0, \"#8e0152\"], [0.1, \"#c51b7d\"], [0.2, \"#de77ae\"], [0.3, \"#f1b6da\"], [0.4, \"#fde0ef\"], [0.5, \"#f7f7f7\"], [0.6, \"#e6f5d0\"], [0.7, \"#b8e186\"], [0.8, \"#7fbc41\"], [0.9, \"#4d9221\"], [1, \"#276419\"]], \"sequential\": [[0.0, \"#0d0887\"], [0.1111111111111111, \"#46039f\"], [0.2222222222222222, \"#7201a8\"], [0.3333333333333333, \"#9c179e\"], [0.4444444444444444, \"#bd3786\"], [0.5555555555555556, \"#d8576b\"], [0.6666666666666666, \"#ed7953\"], [0.7777777777777778, \"#fb9f3a\"], [0.8888888888888888, \"#fdca26\"], [1.0, \"#f0f921\"]], \"sequentialminus\": [[0.0, \"#0d0887\"], [0.1111111111111111, \"#46039f\"], [0.2222222222222222, \"#7201a8\"], [0.3333333333333333, \"#9c179e\"], [0.4444444444444444, \"#bd3786\"], [0.5555555555555556, \"#d8576b\"], [0.6666666666666666, \"#ed7953\"], [0.7777777777777778, \"#fb9f3a\"], [0.8888888888888888, \"#fdca26\"], [1.0, \"#f0f921\"]]}, \"colorway\": [\"#636efa\", \"#EF553B\", \"#00cc96\", \"#ab63fa\", \"#FFA15A\", \"#19d3f3\", \"#FF6692\", \"#B6E880\", \"#FF97FF\", \"#FECB52\"], \"font\": {\"color\": \"#2a3f5f\"}, \"geo\": {\"bgcolor\": \"white\", \"lakecolor\": \"white\", \"landcolor\": \"#E5ECF6\", \"showlakes\": true, \"showland\": true, \"subunitcolor\": \"white\"}, \"hoverlabel\": {\"align\": \"left\"}, \"hovermode\": \"closest\", \"mapbox\": {\"style\": \"light\"}, \"paper_bgcolor\": \"white\", \"plot_bgcolor\": \"#E5ECF6\", \"polar\": {\"angularaxis\": {\"gridcolor\": \"white\", \"linecolor\": \"white\", \"ticks\": \"\"}, \"bgcolor\": \"#E5ECF6\", \"radialaxis\": {\"gridcolor\": \"white\", \"linecolor\": \"white\", \"ticks\": \"\"}}, \"scene\": {\"xaxis\": {\"backgroundcolor\": \"#E5ECF6\", \"gridcolor\": \"white\", \"gridwidth\": 2, \"linecolor\": \"white\", \"showbackground\": true, \"ticks\": \"\", \"zerolinecolor\": \"white\"}, \"yaxis\": {\"backgroundcolor\": \"#E5ECF6\", \"gridcolor\": \"white\", \"gridwidth\": 2, \"linecolor\": \"white\", \"showbackground\": true, \"ticks\": \"\", \"zerolinecolor\": \"white\"}, \"zaxis\": {\"backgroundcolor\": \"#E5ECF6\", \"gridcolor\": \"white\", \"gridwidth\": 2, \"linecolor\": \"white\", \"showbackground\": true, \"ticks\": \"\", \"zerolinecolor\": \"white\"}}, \"shapedefaults\": {\"line\": {\"color\": \"#2a3f5f\"}}, \"ternary\": {\"aaxis\": {\"gridcolor\": \"white\", \"linecolor\": \"white\", \"ticks\": \"\"}, \"baxis\": {\"gridcolor\": \"white\", \"linecolor\": \"white\", \"ticks\": \"\"}, \"bgcolor\": \"#E5ECF6\", \"caxis\": {\"gridcolor\": \"white\", \"linecolor\": \"white\", \"ticks\": \"\"}}, \"title\": {\"x\": 0.05}, \"xaxis\": {\"automargin\": true, \"gridcolor\": \"white\", \"linecolor\": \"white\", \"ticks\": \"\", \"title\": {\"standoff\": 15}, \"zerolinecolor\": \"white\", \"zerolinewidth\": 2}, \"yaxis\": {\"automargin\": true, \"gridcolor\": \"white\", \"linecolor\": \"white\", \"ticks\": \"\", \"title\": {\"standoff\": 15}, \"zerolinecolor\": \"white\", \"zerolinewidth\": 2}}}, \"title\": {\"text\": \"Comparison of performance per sample\"}, \"width\": 1000, \"xaxis\": {\"anchor\": \"y\", \"domain\": [0.0, 0.45], \"range\": [0, 1], \"title\": {\"text\": \"NNLS\"}}, \"xaxis2\": {\"anchor\": \"y2\", \"domain\": [0.55, 1.0], \"range\": [0, 1], \"title\": {\"text\": \"SVR_NNLS\"}}, \"yaxis\": {\"anchor\": \"x\", \"domain\": [0.0, 1.0], \"range\": [0, 1], \"title\": {\"text\": \"BLADE\"}}, \"yaxis2\": {\"anchor\": \"x2\", \"domain\": [0.0, 1.0], \"matches\": \"y\", \"range\": [0, 1], \"showticklabels\": false, \"title\": {\"text\": \"BLADE\"}}},\n",
       "                        {\"responsive\": true}\n",
       "                    ).then(function(){\n",
       "                            \n",
       "var gd = document.getElementById('f635b246-e577-408a-98ee-220615222757');\n",
       "var x = new MutationObserver(function (mutations, observer) {{\n",
       "        var display = window.getComputedStyle(gd).display;\n",
       "        if (!display || display === 'none') {{\n",
       "            console.log([gd, 'removed!']);\n",
       "            Plotly.purge(gd);\n",
       "            observer.disconnect();\n",
       "        }}\n",
       "}});\n",
       "\n",
       "// Listen for the removal of the full notebook cells\n",
       "var notebookContainer = gd.closest('#notebook-container');\n",
       "if (notebookContainer) {{\n",
       "    x.observe(notebookContainer, {childList: true});\n",
       "}}\n",
       "\n",
       "// Listen for the clearing of the current output cell\n",
       "var outputEl = gd.closest('.output');\n",
       "if (outputEl) {{\n",
       "    x.observe(outputEl, {childList: true});\n",
       "}}\n",
       "\n",
       "                        })\n",
       "                };\n",
       "                });\n",
       "            </script>\n",
       "        </div>"
      ]
     },
     "metadata": {},
     "output_type": "display_data"
    }
   ],
   "source": [
    "PerfMat = outcome_PerSample.pivot_table(values='Cor_Fraction', columns='method', index=['Sample','dataset'])\n",
    "PerfMat.reset_index(inplace=True)\n",
    "PerfMat.dataset = PerfMat.dataset.astype('category')\n",
    "cols = PerfMat.dataset.map(colorsIdx)\n",
    "\n",
    "fig = make_subplots(rows=1, cols=2, shared_yaxes=True)\n",
    "fig.add_trace(\n",
    "    go.Scatter(y=PerfMat.BLADE, x=PerfMat.NNLS, mode=\"markers\", text=PerfMat.dataset,\n",
    "               marker=dict(color=cols, coloraxis=\"coloraxis\")\n",
    "            ),\n",
    "    row=1,col=1\n",
    ")\n",
    "\n",
    "fig.add_trace(\n",
    "    go.Scatter(y=PerfMat.BLADE, x=PerfMat.SVR_NNLS, mode=\"markers\", text=PerfMat.dataset,\n",
    "               marker=dict(color=cols, coloraxis=\"coloraxis\")\n",
    "            ),\n",
    "    row=1,col=2\n",
    ")\n",
    "\n",
    "fig.update_layout(height=500, width=1000,\n",
    "                  title_text=\"Comparison of performance per sample\")\n",
    "fig.update_layout(coloraxis=dict(colorscale='Bluered_r'), showlegend=False)\n",
    "\n",
    "fig.update_yaxes(range=[0, 1], title_text=\"BLADE\")\n",
    "fig.update_xaxes(range=[0, 1], title_text=\"NNLS\", row=1,col=1)\n",
    "fig.update_xaxes(range=[0, 1], title_text=\"SVR_NNLS\", row=1,col=2)\n",
    "fig.show()"
   ]
  },
  {
   "cell_type": "markdown",
   "metadata": {},
   "source": [
    "### 2. Performance of gene expression purification\n",
    "\n",
    "Performance for estimation of gene expression profiles per cell type can be compared.  \n",
    "Group-mode purification is done by BLADE and SVR_NNLS.  "
   ]
  },
  {
   "cell_type": "code",
   "execution_count": 182,
   "metadata": {},
   "outputs": [
    {
     "data": {
      "application/vnd.plotly.v1+json": {
       "config": {
        "plotlyServerURL": "https://plot.ly"
       },
       "data": [
        {
         "alignmentgroup": "True",
         "boxpoints": "all",
         "hovertemplate": "method=BLADE<br>Data Set (Ncell_Ngene_Nsample_Noise)=%{x}<br>Pearson Correlation=%{y}<extra></extra>",
         "legendgroup": "BLADE",
         "marker": {
          "color": "#636efa"
         },
         "name": "BLADE",
         "notched": false,
         "offsetgroup": "BLADE",
         "orientation": "v",
         "showlegend": true,
         "type": "box",
         "x": [
          "5_500_10_0.5",
          "5_500_10_0.5",
          "5_500_10_0.5",
          "5_500_10_0.5",
          "5_500_10_0.5",
          "5_500_10_1",
          "5_500_10_1",
          "5_500_10_1",
          "5_500_10_1",
          "5_500_10_1",
          "5_500_10_1.5",
          "5_500_10_1.5",
          "5_500_10_1.5",
          "5_500_10_1.5",
          "5_500_10_1.5",
          "5_500_20_0.5",
          "5_500_20_0.5",
          "5_500_20_0.5",
          "5_500_20_0.5",
          "5_500_20_0.5",
          "5_500_20_1",
          "5_500_20_1",
          "5_500_20_1",
          "5_500_20_1",
          "5_500_20_1",
          "5_500_20_1.5",
          "5_500_20_1.5",
          "5_500_20_1.5",
          "5_500_20_1.5",
          "5_500_20_1.5"
         ],
         "x0": " ",
         "xaxis": "x",
         "y": [
          0.9822402397559946,
          0.9759912684795564,
          0.9718052947922469,
          0.9751193686162473,
          0.9836834631152178,
          0.9738155476863112,
          0.9678670386414555,
          0.958213267797563,
          0.9685775538509456,
          0.9609698959963716,
          0.943221454497036,
          0.9614285908237138,
          0.969299827263351,
          0.9577682886705242,
          0.9485116840893686,
          0.9651730196436455,
          0.9643050877251209,
          0.970727808204777,
          0.9725281766123169,
          0.9717708873530454,
          0.9251043202863053,
          0.9210011982455385,
          0.9225218111678765,
          0.9648613452328255,
          0.9640410941445434,
          0.9656124973137654,
          0.964902183135714,
          0.9686533813077052,
          0.976050957812012,
          0.9745783834992146
         ],
         "y0": " ",
         "yaxis": "y"
        },
        {
         "alignmentgroup": "True",
         "boxpoints": "all",
         "hovertemplate": "method=NNLS<br>Data Set (Ncell_Ngene_Nsample_Noise)=%{x}<br>Pearson Correlation=%{y}<extra></extra>",
         "legendgroup": "NNLS",
         "marker": {
          "color": "#EF553B"
         },
         "name": "NNLS",
         "notched": false,
         "offsetgroup": "NNLS",
         "orientation": "v",
         "showlegend": true,
         "type": "box",
         "x": [
          "5_500_10_0.5",
          "5_500_10_0.5",
          "5_500_10_0.5",
          "5_500_10_0.5",
          "5_500_10_0.5",
          "5_500_10_1",
          "5_500_10_1",
          "5_500_10_1",
          "5_500_10_1",
          "5_500_10_1",
          "5_500_10_1.5",
          "5_500_10_1.5",
          "5_500_10_1.5",
          "5_500_10_1.5",
          "5_500_10_1.5",
          "5_500_20_0.5",
          "5_500_20_0.5",
          "5_500_20_0.5",
          "5_500_20_0.5",
          "5_500_20_0.5",
          "5_500_20_1",
          "5_500_20_1",
          "5_500_20_1",
          "5_500_20_1",
          "5_500_20_1",
          "5_500_20_1.5",
          "5_500_20_1.5",
          "5_500_20_1.5",
          "5_500_20_1.5",
          "5_500_20_1.5"
         ],
         "x0": " ",
         "xaxis": "x",
         "y": [
          null,
          null,
          null,
          null,
          null,
          null,
          null,
          null,
          null,
          null,
          null,
          null,
          null,
          null,
          null,
          null,
          null,
          null,
          null,
          null,
          null,
          null,
          null,
          null,
          null,
          null,
          null,
          null,
          null,
          null
         ],
         "y0": " ",
         "yaxis": "y"
        },
        {
         "alignmentgroup": "True",
         "boxpoints": "all",
         "hovertemplate": "method=SVR_NNLS<br>Data Set (Ncell_Ngene_Nsample_Noise)=%{x}<br>Pearson Correlation=%{y}<extra></extra>",
         "legendgroup": "SVR_NNLS",
         "marker": {
          "color": "#00cc96"
         },
         "name": "SVR_NNLS",
         "notched": false,
         "offsetgroup": "SVR_NNLS",
         "orientation": "v",
         "showlegend": true,
         "type": "box",
         "x": [
          "5_500_10_0.5",
          "5_500_10_0.5",
          "5_500_10_0.5",
          "5_500_10_0.5",
          "5_500_10_0.5",
          "5_500_10_1",
          "5_500_10_1",
          "5_500_10_1",
          "5_500_10_1",
          "5_500_10_1",
          "5_500_10_1.5",
          "5_500_10_1.5",
          "5_500_10_1.5",
          "5_500_10_1.5",
          "5_500_10_1.5",
          "5_500_20_0.5",
          "5_500_20_0.5",
          "5_500_20_0.5",
          "5_500_20_0.5",
          "5_500_20_0.5",
          "5_500_20_1",
          "5_500_20_1",
          "5_500_20_1",
          "5_500_20_1",
          "5_500_20_1",
          "5_500_20_1.5",
          "5_500_20_1.5",
          "5_500_20_1.5",
          "5_500_20_1.5",
          "5_500_20_1.5"
         ],
         "x0": " ",
         "xaxis": "x",
         "y": [
          0.42408310796453946,
          0.28703848719270947,
          0.2989619572327968,
          0.3418602815531618,
          0.4017844572281776,
          0.20463307397503713,
          0.11570998662527221,
          0.09598482687303157,
          0.24553643368656847,
          0.13047056124499207,
          0.04595850052901311,
          0.2230304283439081,
          0.1232005781956685,
          0.2605998553472294,
          0.12256380374650862,
          0.36786692297920637,
          0.38720062791347176,
          0.49749370443486574,
          0.554241098839184,
          0.4810970639047089,
          0.3159308642810497,
          0.28440792777185064,
          0.36469115535652413,
          0.32318401312718675,
          0.3080103209773851,
          0.11673728012467662,
          0.1287534868483479,
          0.08882604661587623,
          0.1687031164332135,
          0.055753739027508645
         ],
         "y0": " ",
         "yaxis": "y"
        }
       ],
       "layout": {
        "boxmode": "group",
        "height": 500,
        "legend": {
         "title": {
          "text": "method"
         },
         "tracegroupgap": 0
        },
        "margin": {
         "t": 60
        },
        "template": {
         "data": {
          "bar": [
           {
            "error_x": {
             "color": "#2a3f5f"
            },
            "error_y": {
             "color": "#2a3f5f"
            },
            "marker": {
             "line": {
              "color": "#E5ECF6",
              "width": 0.5
             }
            },
            "type": "bar"
           }
          ],
          "barpolar": [
           {
            "marker": {
             "line": {
              "color": "#E5ECF6",
              "width": 0.5
             }
            },
            "type": "barpolar"
           }
          ],
          "carpet": [
           {
            "aaxis": {
             "endlinecolor": "#2a3f5f",
             "gridcolor": "white",
             "linecolor": "white",
             "minorgridcolor": "white",
             "startlinecolor": "#2a3f5f"
            },
            "baxis": {
             "endlinecolor": "#2a3f5f",
             "gridcolor": "white",
             "linecolor": "white",
             "minorgridcolor": "white",
             "startlinecolor": "#2a3f5f"
            },
            "type": "carpet"
           }
          ],
          "choropleth": [
           {
            "colorbar": {
             "outlinewidth": 0,
             "ticks": ""
            },
            "type": "choropleth"
           }
          ],
          "contour": [
           {
            "colorbar": {
             "outlinewidth": 0,
             "ticks": ""
            },
            "colorscale": [
             [
              0,
              "#0d0887"
             ],
             [
              0.1111111111111111,
              "#46039f"
             ],
             [
              0.2222222222222222,
              "#7201a8"
             ],
             [
              0.3333333333333333,
              "#9c179e"
             ],
             [
              0.4444444444444444,
              "#bd3786"
             ],
             [
              0.5555555555555556,
              "#d8576b"
             ],
             [
              0.6666666666666666,
              "#ed7953"
             ],
             [
              0.7777777777777778,
              "#fb9f3a"
             ],
             [
              0.8888888888888888,
              "#fdca26"
             ],
             [
              1,
              "#f0f921"
             ]
            ],
            "type": "contour"
           }
          ],
          "contourcarpet": [
           {
            "colorbar": {
             "outlinewidth": 0,
             "ticks": ""
            },
            "type": "contourcarpet"
           }
          ],
          "heatmap": [
           {
            "colorbar": {
             "outlinewidth": 0,
             "ticks": ""
            },
            "colorscale": [
             [
              0,
              "#0d0887"
             ],
             [
              0.1111111111111111,
              "#46039f"
             ],
             [
              0.2222222222222222,
              "#7201a8"
             ],
             [
              0.3333333333333333,
              "#9c179e"
             ],
             [
              0.4444444444444444,
              "#bd3786"
             ],
             [
              0.5555555555555556,
              "#d8576b"
             ],
             [
              0.6666666666666666,
              "#ed7953"
             ],
             [
              0.7777777777777778,
              "#fb9f3a"
             ],
             [
              0.8888888888888888,
              "#fdca26"
             ],
             [
              1,
              "#f0f921"
             ]
            ],
            "type": "heatmap"
           }
          ],
          "heatmapgl": [
           {
            "colorbar": {
             "outlinewidth": 0,
             "ticks": ""
            },
            "colorscale": [
             [
              0,
              "#0d0887"
             ],
             [
              0.1111111111111111,
              "#46039f"
             ],
             [
              0.2222222222222222,
              "#7201a8"
             ],
             [
              0.3333333333333333,
              "#9c179e"
             ],
             [
              0.4444444444444444,
              "#bd3786"
             ],
             [
              0.5555555555555556,
              "#d8576b"
             ],
             [
              0.6666666666666666,
              "#ed7953"
             ],
             [
              0.7777777777777778,
              "#fb9f3a"
             ],
             [
              0.8888888888888888,
              "#fdca26"
             ],
             [
              1,
              "#f0f921"
             ]
            ],
            "type": "heatmapgl"
           }
          ],
          "histogram": [
           {
            "marker": {
             "colorbar": {
              "outlinewidth": 0,
              "ticks": ""
             }
            },
            "type": "histogram"
           }
          ],
          "histogram2d": [
           {
            "colorbar": {
             "outlinewidth": 0,
             "ticks": ""
            },
            "colorscale": [
             [
              0,
              "#0d0887"
             ],
             [
              0.1111111111111111,
              "#46039f"
             ],
             [
              0.2222222222222222,
              "#7201a8"
             ],
             [
              0.3333333333333333,
              "#9c179e"
             ],
             [
              0.4444444444444444,
              "#bd3786"
             ],
             [
              0.5555555555555556,
              "#d8576b"
             ],
             [
              0.6666666666666666,
              "#ed7953"
             ],
             [
              0.7777777777777778,
              "#fb9f3a"
             ],
             [
              0.8888888888888888,
              "#fdca26"
             ],
             [
              1,
              "#f0f921"
             ]
            ],
            "type": "histogram2d"
           }
          ],
          "histogram2dcontour": [
           {
            "colorbar": {
             "outlinewidth": 0,
             "ticks": ""
            },
            "colorscale": [
             [
              0,
              "#0d0887"
             ],
             [
              0.1111111111111111,
              "#46039f"
             ],
             [
              0.2222222222222222,
              "#7201a8"
             ],
             [
              0.3333333333333333,
              "#9c179e"
             ],
             [
              0.4444444444444444,
              "#bd3786"
             ],
             [
              0.5555555555555556,
              "#d8576b"
             ],
             [
              0.6666666666666666,
              "#ed7953"
             ],
             [
              0.7777777777777778,
              "#fb9f3a"
             ],
             [
              0.8888888888888888,
              "#fdca26"
             ],
             [
              1,
              "#f0f921"
             ]
            ],
            "type": "histogram2dcontour"
           }
          ],
          "mesh3d": [
           {
            "colorbar": {
             "outlinewidth": 0,
             "ticks": ""
            },
            "type": "mesh3d"
           }
          ],
          "parcoords": [
           {
            "line": {
             "colorbar": {
              "outlinewidth": 0,
              "ticks": ""
             }
            },
            "type": "parcoords"
           }
          ],
          "pie": [
           {
            "automargin": true,
            "type": "pie"
           }
          ],
          "scatter": [
           {
            "marker": {
             "colorbar": {
              "outlinewidth": 0,
              "ticks": ""
             }
            },
            "type": "scatter"
           }
          ],
          "scatter3d": [
           {
            "line": {
             "colorbar": {
              "outlinewidth": 0,
              "ticks": ""
             }
            },
            "marker": {
             "colorbar": {
              "outlinewidth": 0,
              "ticks": ""
             }
            },
            "type": "scatter3d"
           }
          ],
          "scattercarpet": [
           {
            "marker": {
             "colorbar": {
              "outlinewidth": 0,
              "ticks": ""
             }
            },
            "type": "scattercarpet"
           }
          ],
          "scattergeo": [
           {
            "marker": {
             "colorbar": {
              "outlinewidth": 0,
              "ticks": ""
             }
            },
            "type": "scattergeo"
           }
          ],
          "scattergl": [
           {
            "marker": {
             "colorbar": {
              "outlinewidth": 0,
              "ticks": ""
             }
            },
            "type": "scattergl"
           }
          ],
          "scattermapbox": [
           {
            "marker": {
             "colorbar": {
              "outlinewidth": 0,
              "ticks": ""
             }
            },
            "type": "scattermapbox"
           }
          ],
          "scatterpolar": [
           {
            "marker": {
             "colorbar": {
              "outlinewidth": 0,
              "ticks": ""
             }
            },
            "type": "scatterpolar"
           }
          ],
          "scatterpolargl": [
           {
            "marker": {
             "colorbar": {
              "outlinewidth": 0,
              "ticks": ""
             }
            },
            "type": "scatterpolargl"
           }
          ],
          "scatterternary": [
           {
            "marker": {
             "colorbar": {
              "outlinewidth": 0,
              "ticks": ""
             }
            },
            "type": "scatterternary"
           }
          ],
          "surface": [
           {
            "colorbar": {
             "outlinewidth": 0,
             "ticks": ""
            },
            "colorscale": [
             [
              0,
              "#0d0887"
             ],
             [
              0.1111111111111111,
              "#46039f"
             ],
             [
              0.2222222222222222,
              "#7201a8"
             ],
             [
              0.3333333333333333,
              "#9c179e"
             ],
             [
              0.4444444444444444,
              "#bd3786"
             ],
             [
              0.5555555555555556,
              "#d8576b"
             ],
             [
              0.6666666666666666,
              "#ed7953"
             ],
             [
              0.7777777777777778,
              "#fb9f3a"
             ],
             [
              0.8888888888888888,
              "#fdca26"
             ],
             [
              1,
              "#f0f921"
             ]
            ],
            "type": "surface"
           }
          ],
          "table": [
           {
            "cells": {
             "fill": {
              "color": "#EBF0F8"
             },
             "line": {
              "color": "white"
             }
            },
            "header": {
             "fill": {
              "color": "#C8D4E3"
             },
             "line": {
              "color": "white"
             }
            },
            "type": "table"
           }
          ]
         },
         "layout": {
          "annotationdefaults": {
           "arrowcolor": "#2a3f5f",
           "arrowhead": 0,
           "arrowwidth": 1
          },
          "coloraxis": {
           "colorbar": {
            "outlinewidth": 0,
            "ticks": ""
           }
          },
          "colorscale": {
           "diverging": [
            [
             0,
             "#8e0152"
            ],
            [
             0.1,
             "#c51b7d"
            ],
            [
             0.2,
             "#de77ae"
            ],
            [
             0.3,
             "#f1b6da"
            ],
            [
             0.4,
             "#fde0ef"
            ],
            [
             0.5,
             "#f7f7f7"
            ],
            [
             0.6,
             "#e6f5d0"
            ],
            [
             0.7,
             "#b8e186"
            ],
            [
             0.8,
             "#7fbc41"
            ],
            [
             0.9,
             "#4d9221"
            ],
            [
             1,
             "#276419"
            ]
           ],
           "sequential": [
            [
             0,
             "#0d0887"
            ],
            [
             0.1111111111111111,
             "#46039f"
            ],
            [
             0.2222222222222222,
             "#7201a8"
            ],
            [
             0.3333333333333333,
             "#9c179e"
            ],
            [
             0.4444444444444444,
             "#bd3786"
            ],
            [
             0.5555555555555556,
             "#d8576b"
            ],
            [
             0.6666666666666666,
             "#ed7953"
            ],
            [
             0.7777777777777778,
             "#fb9f3a"
            ],
            [
             0.8888888888888888,
             "#fdca26"
            ],
            [
             1,
             "#f0f921"
            ]
           ],
           "sequentialminus": [
            [
             0,
             "#0d0887"
            ],
            [
             0.1111111111111111,
             "#46039f"
            ],
            [
             0.2222222222222222,
             "#7201a8"
            ],
            [
             0.3333333333333333,
             "#9c179e"
            ],
            [
             0.4444444444444444,
             "#bd3786"
            ],
            [
             0.5555555555555556,
             "#d8576b"
            ],
            [
             0.6666666666666666,
             "#ed7953"
            ],
            [
             0.7777777777777778,
             "#fb9f3a"
            ],
            [
             0.8888888888888888,
             "#fdca26"
            ],
            [
             1,
             "#f0f921"
            ]
           ]
          },
          "colorway": [
           "#636efa",
           "#EF553B",
           "#00cc96",
           "#ab63fa",
           "#FFA15A",
           "#19d3f3",
           "#FF6692",
           "#B6E880",
           "#FF97FF",
           "#FECB52"
          ],
          "font": {
           "color": "#2a3f5f"
          },
          "geo": {
           "bgcolor": "white",
           "lakecolor": "white",
           "landcolor": "#E5ECF6",
           "showlakes": true,
           "showland": true,
           "subunitcolor": "white"
          },
          "hoverlabel": {
           "align": "left"
          },
          "hovermode": "closest",
          "mapbox": {
           "style": "light"
          },
          "paper_bgcolor": "white",
          "plot_bgcolor": "#E5ECF6",
          "polar": {
           "angularaxis": {
            "gridcolor": "white",
            "linecolor": "white",
            "ticks": ""
           },
           "bgcolor": "#E5ECF6",
           "radialaxis": {
            "gridcolor": "white",
            "linecolor": "white",
            "ticks": ""
           }
          },
          "scene": {
           "xaxis": {
            "backgroundcolor": "#E5ECF6",
            "gridcolor": "white",
            "gridwidth": 2,
            "linecolor": "white",
            "showbackground": true,
            "ticks": "",
            "zerolinecolor": "white"
           },
           "yaxis": {
            "backgroundcolor": "#E5ECF6",
            "gridcolor": "white",
            "gridwidth": 2,
            "linecolor": "white",
            "showbackground": true,
            "ticks": "",
            "zerolinecolor": "white"
           },
           "zaxis": {
            "backgroundcolor": "#E5ECF6",
            "gridcolor": "white",
            "gridwidth": 2,
            "linecolor": "white",
            "showbackground": true,
            "ticks": "",
            "zerolinecolor": "white"
           }
          },
          "shapedefaults": {
           "line": {
            "color": "#2a3f5f"
           }
          },
          "ternary": {
           "aaxis": {
            "gridcolor": "white",
            "linecolor": "white",
            "ticks": ""
           },
           "baxis": {
            "gridcolor": "white",
            "linecolor": "white",
            "ticks": ""
           },
           "bgcolor": "#E5ECF6",
           "caxis": {
            "gridcolor": "white",
            "linecolor": "white",
            "ticks": ""
           }
          },
          "title": {
           "x": 0.05
          },
          "xaxis": {
           "automargin": true,
           "gridcolor": "white",
           "linecolor": "white",
           "ticks": "",
           "title": {
            "standoff": 15
           },
           "zerolinecolor": "white",
           "zerolinewidth": 2
          },
          "yaxis": {
           "automargin": true,
           "gridcolor": "white",
           "linecolor": "white",
           "ticks": "",
           "title": {
            "standoff": 15
           },
           "zerolinecolor": "white",
           "zerolinewidth": 2
          }
         }
        },
        "title": {
         "text": "Performance of group-mode purification (per cell type)"
        },
        "width": 800,
        "xaxis": {
         "anchor": "y",
         "domain": [
          0,
          1
         ],
         "title": {
          "text": "Data Set (Ncell_Ngene_Nsample_Noise)"
         }
        },
        "yaxis": {
         "anchor": "x",
         "domain": [
          0,
          1
         ],
         "title": {
          "text": "Pearson Correlation"
         }
        }
       }
      },
      "text/html": [
       "<div>\n",
       "        \n",
       "        \n",
       "            <div id=\"c029d748-7382-436a-aae6-6451fe510e5c\" class=\"plotly-graph-div\" style=\"height:500px; width:800px;\"></div>\n",
       "            <script type=\"text/javascript\">\n",
       "                require([\"plotly\"], function(Plotly) {\n",
       "                    window.PLOTLYENV=window.PLOTLYENV || {};\n",
       "                    \n",
       "                if (document.getElementById(\"c029d748-7382-436a-aae6-6451fe510e5c\")) {\n",
       "                    Plotly.newPlot(\n",
       "                        'c029d748-7382-436a-aae6-6451fe510e5c',\n",
       "                        [{\"alignmentgroup\": \"True\", \"boxpoints\": \"all\", \"hovertemplate\": \"method=BLADE<br>Data Set (Ncell_Ngene_Nsample_Noise)=%{x}<br>Pearson Correlation=%{y}<extra></extra>\", \"legendgroup\": \"BLADE\", \"marker\": {\"color\": \"#636efa\"}, \"name\": \"BLADE\", \"notched\": false, \"offsetgroup\": \"BLADE\", \"orientation\": \"v\", \"showlegend\": true, \"type\": \"box\", \"x\": [\"5_500_10_0.5\", \"5_500_10_0.5\", \"5_500_10_0.5\", \"5_500_10_0.5\", \"5_500_10_0.5\", \"5_500_10_1\", \"5_500_10_1\", \"5_500_10_1\", \"5_500_10_1\", \"5_500_10_1\", \"5_500_10_1.5\", \"5_500_10_1.5\", \"5_500_10_1.5\", \"5_500_10_1.5\", \"5_500_10_1.5\", \"5_500_20_0.5\", \"5_500_20_0.5\", \"5_500_20_0.5\", \"5_500_20_0.5\", \"5_500_20_0.5\", \"5_500_20_1\", \"5_500_20_1\", \"5_500_20_1\", \"5_500_20_1\", \"5_500_20_1\", \"5_500_20_1.5\", \"5_500_20_1.5\", \"5_500_20_1.5\", \"5_500_20_1.5\", \"5_500_20_1.5\"], \"x0\": \" \", \"xaxis\": \"x\", \"y\": [0.9822402397559946, 0.9759912684795564, 0.9718052947922469, 0.9751193686162473, 0.9836834631152178, 0.9738155476863112, 0.9678670386414555, 0.958213267797563, 0.9685775538509456, 0.9609698959963716, 0.943221454497036, 0.9614285908237138, 0.969299827263351, 0.9577682886705242, 0.9485116840893686, 0.9651730196436455, 0.9643050877251209, 0.970727808204777, 0.9725281766123169, 0.9717708873530454, 0.9251043202863053, 0.9210011982455385, 0.9225218111678765, 0.9648613452328255, 0.9640410941445434, 0.9656124973137654, 0.964902183135714, 0.9686533813077052, 0.976050957812012, 0.9745783834992146], \"y0\": \" \", \"yaxis\": \"y\"}, {\"alignmentgroup\": \"True\", \"boxpoints\": \"all\", \"hovertemplate\": \"method=NNLS<br>Data Set (Ncell_Ngene_Nsample_Noise)=%{x}<br>Pearson Correlation=%{y}<extra></extra>\", \"legendgroup\": \"NNLS\", \"marker\": {\"color\": \"#EF553B\"}, \"name\": \"NNLS\", \"notched\": false, \"offsetgroup\": \"NNLS\", \"orientation\": \"v\", \"showlegend\": true, \"type\": \"box\", \"x\": [\"5_500_10_0.5\", \"5_500_10_0.5\", \"5_500_10_0.5\", \"5_500_10_0.5\", \"5_500_10_0.5\", \"5_500_10_1\", \"5_500_10_1\", \"5_500_10_1\", \"5_500_10_1\", \"5_500_10_1\", \"5_500_10_1.5\", \"5_500_10_1.5\", \"5_500_10_1.5\", \"5_500_10_1.5\", \"5_500_10_1.5\", \"5_500_20_0.5\", \"5_500_20_0.5\", \"5_500_20_0.5\", \"5_500_20_0.5\", \"5_500_20_0.5\", \"5_500_20_1\", \"5_500_20_1\", \"5_500_20_1\", \"5_500_20_1\", \"5_500_20_1\", \"5_500_20_1.5\", \"5_500_20_1.5\", \"5_500_20_1.5\", \"5_500_20_1.5\", \"5_500_20_1.5\"], \"x0\": \" \", \"xaxis\": \"x\", \"y\": [null, null, null, null, null, null, null, null, null, null, null, null, null, null, null, null, null, null, null, null, null, null, null, null, null, null, null, null, null, null], \"y0\": \" \", \"yaxis\": \"y\"}, {\"alignmentgroup\": \"True\", \"boxpoints\": \"all\", \"hovertemplate\": \"method=SVR_NNLS<br>Data Set (Ncell_Ngene_Nsample_Noise)=%{x}<br>Pearson Correlation=%{y}<extra></extra>\", \"legendgroup\": \"SVR_NNLS\", \"marker\": {\"color\": \"#00cc96\"}, \"name\": \"SVR_NNLS\", \"notched\": false, \"offsetgroup\": \"SVR_NNLS\", \"orientation\": \"v\", \"showlegend\": true, \"type\": \"box\", \"x\": [\"5_500_10_0.5\", \"5_500_10_0.5\", \"5_500_10_0.5\", \"5_500_10_0.5\", \"5_500_10_0.5\", \"5_500_10_1\", \"5_500_10_1\", \"5_500_10_1\", \"5_500_10_1\", \"5_500_10_1\", \"5_500_10_1.5\", \"5_500_10_1.5\", \"5_500_10_1.5\", \"5_500_10_1.5\", \"5_500_10_1.5\", \"5_500_20_0.5\", \"5_500_20_0.5\", \"5_500_20_0.5\", \"5_500_20_0.5\", \"5_500_20_0.5\", \"5_500_20_1\", \"5_500_20_1\", \"5_500_20_1\", \"5_500_20_1\", \"5_500_20_1\", \"5_500_20_1.5\", \"5_500_20_1.5\", \"5_500_20_1.5\", \"5_500_20_1.5\", \"5_500_20_1.5\"], \"x0\": \" \", \"xaxis\": \"x\", \"y\": [0.42408310796453946, 0.28703848719270947, 0.2989619572327968, 0.3418602815531618, 0.4017844572281776, 0.20463307397503713, 0.11570998662527221, 0.09598482687303157, 0.24553643368656847, 0.13047056124499207, 0.04595850052901311, 0.2230304283439081, 0.1232005781956685, 0.2605998553472294, 0.12256380374650862, 0.36786692297920637, 0.38720062791347176, 0.49749370443486574, 0.554241098839184, 0.4810970639047089, 0.3159308642810497, 0.28440792777185064, 0.36469115535652413, 0.32318401312718675, 0.3080103209773851, 0.11673728012467662, 0.1287534868483479, 0.08882604661587623, 0.1687031164332135, 0.055753739027508645], \"y0\": \" \", \"yaxis\": \"y\"}],\n",
       "                        {\"boxmode\": \"group\", \"height\": 500, \"legend\": {\"title\": {\"text\": \"method\"}, \"tracegroupgap\": 0}, \"margin\": {\"t\": 60}, \"template\": {\"data\": {\"bar\": [{\"error_x\": {\"color\": \"#2a3f5f\"}, \"error_y\": {\"color\": \"#2a3f5f\"}, \"marker\": {\"line\": {\"color\": \"#E5ECF6\", \"width\": 0.5}}, \"type\": \"bar\"}], \"barpolar\": [{\"marker\": {\"line\": {\"color\": \"#E5ECF6\", \"width\": 0.5}}, \"type\": \"barpolar\"}], \"carpet\": [{\"aaxis\": {\"endlinecolor\": \"#2a3f5f\", \"gridcolor\": \"white\", \"linecolor\": \"white\", \"minorgridcolor\": \"white\", \"startlinecolor\": \"#2a3f5f\"}, \"baxis\": {\"endlinecolor\": \"#2a3f5f\", \"gridcolor\": \"white\", \"linecolor\": \"white\", \"minorgridcolor\": \"white\", \"startlinecolor\": \"#2a3f5f\"}, \"type\": \"carpet\"}], \"choropleth\": [{\"colorbar\": {\"outlinewidth\": 0, \"ticks\": \"\"}, \"type\": \"choropleth\"}], \"contour\": [{\"colorbar\": {\"outlinewidth\": 0, \"ticks\": \"\"}, \"colorscale\": [[0.0, \"#0d0887\"], [0.1111111111111111, \"#46039f\"], [0.2222222222222222, \"#7201a8\"], [0.3333333333333333, \"#9c179e\"], [0.4444444444444444, \"#bd3786\"], [0.5555555555555556, \"#d8576b\"], [0.6666666666666666, \"#ed7953\"], [0.7777777777777778, \"#fb9f3a\"], [0.8888888888888888, \"#fdca26\"], [1.0, \"#f0f921\"]], \"type\": \"contour\"}], \"contourcarpet\": [{\"colorbar\": {\"outlinewidth\": 0, \"ticks\": \"\"}, \"type\": \"contourcarpet\"}], \"heatmap\": [{\"colorbar\": {\"outlinewidth\": 0, \"ticks\": \"\"}, \"colorscale\": [[0.0, \"#0d0887\"], [0.1111111111111111, \"#46039f\"], [0.2222222222222222, \"#7201a8\"], [0.3333333333333333, \"#9c179e\"], [0.4444444444444444, \"#bd3786\"], [0.5555555555555556, \"#d8576b\"], [0.6666666666666666, \"#ed7953\"], [0.7777777777777778, \"#fb9f3a\"], [0.8888888888888888, \"#fdca26\"], [1.0, \"#f0f921\"]], \"type\": \"heatmap\"}], \"heatmapgl\": [{\"colorbar\": {\"outlinewidth\": 0, \"ticks\": \"\"}, \"colorscale\": [[0.0, \"#0d0887\"], [0.1111111111111111, \"#46039f\"], [0.2222222222222222, \"#7201a8\"], [0.3333333333333333, \"#9c179e\"], [0.4444444444444444, \"#bd3786\"], [0.5555555555555556, \"#d8576b\"], [0.6666666666666666, \"#ed7953\"], [0.7777777777777778, \"#fb9f3a\"], [0.8888888888888888, \"#fdca26\"], [1.0, \"#f0f921\"]], \"type\": \"heatmapgl\"}], \"histogram\": [{\"marker\": {\"colorbar\": {\"outlinewidth\": 0, \"ticks\": \"\"}}, \"type\": \"histogram\"}], \"histogram2d\": [{\"colorbar\": {\"outlinewidth\": 0, \"ticks\": \"\"}, \"colorscale\": [[0.0, \"#0d0887\"], [0.1111111111111111, \"#46039f\"], [0.2222222222222222, \"#7201a8\"], [0.3333333333333333, \"#9c179e\"], [0.4444444444444444, \"#bd3786\"], [0.5555555555555556, \"#d8576b\"], [0.6666666666666666, \"#ed7953\"], [0.7777777777777778, \"#fb9f3a\"], [0.8888888888888888, \"#fdca26\"], [1.0, \"#f0f921\"]], \"type\": \"histogram2d\"}], \"histogram2dcontour\": [{\"colorbar\": {\"outlinewidth\": 0, \"ticks\": \"\"}, \"colorscale\": [[0.0, \"#0d0887\"], [0.1111111111111111, \"#46039f\"], [0.2222222222222222, \"#7201a8\"], [0.3333333333333333, \"#9c179e\"], [0.4444444444444444, \"#bd3786\"], [0.5555555555555556, \"#d8576b\"], [0.6666666666666666, \"#ed7953\"], [0.7777777777777778, \"#fb9f3a\"], [0.8888888888888888, \"#fdca26\"], [1.0, \"#f0f921\"]], \"type\": \"histogram2dcontour\"}], \"mesh3d\": [{\"colorbar\": {\"outlinewidth\": 0, \"ticks\": \"\"}, \"type\": \"mesh3d\"}], \"parcoords\": [{\"line\": {\"colorbar\": {\"outlinewidth\": 0, \"ticks\": \"\"}}, \"type\": \"parcoords\"}], \"pie\": [{\"automargin\": true, \"type\": \"pie\"}], \"scatter\": [{\"marker\": {\"colorbar\": {\"outlinewidth\": 0, \"ticks\": \"\"}}, \"type\": \"scatter\"}], \"scatter3d\": [{\"line\": {\"colorbar\": {\"outlinewidth\": 0, \"ticks\": \"\"}}, \"marker\": {\"colorbar\": {\"outlinewidth\": 0, \"ticks\": \"\"}}, \"type\": \"scatter3d\"}], \"scattercarpet\": [{\"marker\": {\"colorbar\": {\"outlinewidth\": 0, \"ticks\": \"\"}}, \"type\": \"scattercarpet\"}], \"scattergeo\": [{\"marker\": {\"colorbar\": {\"outlinewidth\": 0, \"ticks\": \"\"}}, \"type\": \"scattergeo\"}], \"scattergl\": [{\"marker\": {\"colorbar\": {\"outlinewidth\": 0, \"ticks\": \"\"}}, \"type\": \"scattergl\"}], \"scattermapbox\": [{\"marker\": {\"colorbar\": {\"outlinewidth\": 0, \"ticks\": \"\"}}, \"type\": \"scattermapbox\"}], \"scatterpolar\": [{\"marker\": {\"colorbar\": {\"outlinewidth\": 0, \"ticks\": \"\"}}, \"type\": \"scatterpolar\"}], \"scatterpolargl\": [{\"marker\": {\"colorbar\": {\"outlinewidth\": 0, \"ticks\": \"\"}}, \"type\": \"scatterpolargl\"}], \"scatterternary\": [{\"marker\": {\"colorbar\": {\"outlinewidth\": 0, \"ticks\": \"\"}}, \"type\": \"scatterternary\"}], \"surface\": [{\"colorbar\": {\"outlinewidth\": 0, \"ticks\": \"\"}, \"colorscale\": [[0.0, \"#0d0887\"], [0.1111111111111111, \"#46039f\"], [0.2222222222222222, \"#7201a8\"], [0.3333333333333333, \"#9c179e\"], [0.4444444444444444, \"#bd3786\"], [0.5555555555555556, \"#d8576b\"], [0.6666666666666666, \"#ed7953\"], [0.7777777777777778, \"#fb9f3a\"], [0.8888888888888888, \"#fdca26\"], [1.0, \"#f0f921\"]], \"type\": \"surface\"}], \"table\": [{\"cells\": {\"fill\": {\"color\": \"#EBF0F8\"}, \"line\": {\"color\": \"white\"}}, \"header\": {\"fill\": {\"color\": \"#C8D4E3\"}, \"line\": {\"color\": \"white\"}}, \"type\": \"table\"}]}, \"layout\": {\"annotationdefaults\": {\"arrowcolor\": \"#2a3f5f\", \"arrowhead\": 0, \"arrowwidth\": 1}, \"coloraxis\": {\"colorbar\": {\"outlinewidth\": 0, \"ticks\": \"\"}}, \"colorscale\": {\"diverging\": [[0, \"#8e0152\"], [0.1, \"#c51b7d\"], [0.2, \"#de77ae\"], [0.3, \"#f1b6da\"], [0.4, \"#fde0ef\"], [0.5, \"#f7f7f7\"], [0.6, \"#e6f5d0\"], [0.7, \"#b8e186\"], [0.8, \"#7fbc41\"], [0.9, \"#4d9221\"], [1, \"#276419\"]], \"sequential\": [[0.0, \"#0d0887\"], [0.1111111111111111, \"#46039f\"], [0.2222222222222222, \"#7201a8\"], [0.3333333333333333, \"#9c179e\"], [0.4444444444444444, \"#bd3786\"], [0.5555555555555556, \"#d8576b\"], [0.6666666666666666, \"#ed7953\"], [0.7777777777777778, \"#fb9f3a\"], [0.8888888888888888, \"#fdca26\"], [1.0, \"#f0f921\"]], \"sequentialminus\": [[0.0, \"#0d0887\"], [0.1111111111111111, \"#46039f\"], [0.2222222222222222, \"#7201a8\"], [0.3333333333333333, \"#9c179e\"], [0.4444444444444444, \"#bd3786\"], [0.5555555555555556, \"#d8576b\"], [0.6666666666666666, \"#ed7953\"], [0.7777777777777778, \"#fb9f3a\"], [0.8888888888888888, \"#fdca26\"], [1.0, \"#f0f921\"]]}, \"colorway\": [\"#636efa\", \"#EF553B\", \"#00cc96\", \"#ab63fa\", \"#FFA15A\", \"#19d3f3\", \"#FF6692\", \"#B6E880\", \"#FF97FF\", \"#FECB52\"], \"font\": {\"color\": \"#2a3f5f\"}, \"geo\": {\"bgcolor\": \"white\", \"lakecolor\": \"white\", \"landcolor\": \"#E5ECF6\", \"showlakes\": true, \"showland\": true, \"subunitcolor\": \"white\"}, \"hoverlabel\": {\"align\": \"left\"}, \"hovermode\": \"closest\", \"mapbox\": {\"style\": \"light\"}, \"paper_bgcolor\": \"white\", \"plot_bgcolor\": \"#E5ECF6\", \"polar\": {\"angularaxis\": {\"gridcolor\": \"white\", \"linecolor\": \"white\", \"ticks\": \"\"}, \"bgcolor\": \"#E5ECF6\", \"radialaxis\": {\"gridcolor\": \"white\", \"linecolor\": \"white\", \"ticks\": \"\"}}, \"scene\": {\"xaxis\": {\"backgroundcolor\": \"#E5ECF6\", \"gridcolor\": \"white\", \"gridwidth\": 2, \"linecolor\": \"white\", \"showbackground\": true, \"ticks\": \"\", \"zerolinecolor\": \"white\"}, \"yaxis\": {\"backgroundcolor\": \"#E5ECF6\", \"gridcolor\": \"white\", \"gridwidth\": 2, \"linecolor\": \"white\", \"showbackground\": true, \"ticks\": \"\", \"zerolinecolor\": \"white\"}, \"zaxis\": {\"backgroundcolor\": \"#E5ECF6\", \"gridcolor\": \"white\", \"gridwidth\": 2, \"linecolor\": \"white\", \"showbackground\": true, \"ticks\": \"\", \"zerolinecolor\": \"white\"}}, \"shapedefaults\": {\"line\": {\"color\": \"#2a3f5f\"}}, \"ternary\": {\"aaxis\": {\"gridcolor\": \"white\", \"linecolor\": \"white\", \"ticks\": \"\"}, \"baxis\": {\"gridcolor\": \"white\", \"linecolor\": \"white\", \"ticks\": \"\"}, \"bgcolor\": \"#E5ECF6\", \"caxis\": {\"gridcolor\": \"white\", \"linecolor\": \"white\", \"ticks\": \"\"}}, \"title\": {\"x\": 0.05}, \"xaxis\": {\"automargin\": true, \"gridcolor\": \"white\", \"linecolor\": \"white\", \"ticks\": \"\", \"title\": {\"standoff\": 15}, \"zerolinecolor\": \"white\", \"zerolinewidth\": 2}, \"yaxis\": {\"automargin\": true, \"gridcolor\": \"white\", \"linecolor\": \"white\", \"ticks\": \"\", \"title\": {\"standoff\": 15}, \"zerolinecolor\": \"white\", \"zerolinewidth\": 2}}}, \"title\": {\"text\": \"Performance of group-mode purification (per cell type)\"}, \"width\": 800, \"xaxis\": {\"anchor\": \"y\", \"domain\": [0.0, 1.0], \"title\": {\"text\": \"Data Set (Ncell_Ngene_Nsample_Noise)\"}}, \"yaxis\": {\"anchor\": \"x\", \"domain\": [0.0, 1.0], \"title\": {\"text\": \"Pearson Correlation\"}}},\n",
       "                        {\"responsive\": true}\n",
       "                    ).then(function(){\n",
       "                            \n",
       "var gd = document.getElementById('c029d748-7382-436a-aae6-6451fe510e5c');\n",
       "var x = new MutationObserver(function (mutations, observer) {{\n",
       "        var display = window.getComputedStyle(gd).display;\n",
       "        if (!display || display === 'none') {{\n",
       "            console.log([gd, 'removed!']);\n",
       "            Plotly.purge(gd);\n",
       "            observer.disconnect();\n",
       "        }}\n",
       "}});\n",
       "\n",
       "// Listen for the removal of the full notebook cells\n",
       "var notebookContainer = gd.closest('#notebook-container');\n",
       "if (notebookContainer) {{\n",
       "    x.observe(notebookContainer, {childList: true});\n",
       "}}\n",
       "\n",
       "// Listen for the clearing of the current output cell\n",
       "var outputEl = gd.closest('.output');\n",
       "if (outputEl) {{\n",
       "    x.observe(outputEl, {childList: true});\n",
       "}}\n",
       "\n",
       "                        })\n",
       "                };\n",
       "                });\n",
       "            </script>\n",
       "        </div>"
      ]
     },
     "metadata": {},
     "output_type": "display_data"
    }
   ],
   "source": [
    "fig = px.box(outcome_PerCell, y='Cor_Signature', color='method', x='dataset', points=\"all\",\n",
    "            labels=dict(Cor_Signature = \"Pearson Correlation\",\n",
    "                        dataset = \"Data Set (Ncell_Ngene_Nsample_Noise)\"\n",
    "                       )\n",
    "            )\n",
    "\n",
    "fig.update_layout(height=500, width=800,\n",
    "                  title_text=\"Performance of group-mode purification (per cell type)\")\n",
    "fig.show()"
   ]
  },
  {
   "cell_type": "code",
   "execution_count": 183,
   "metadata": {},
   "outputs": [
    {
     "data": {
      "application/vnd.plotly.v1+json": {
       "config": {
        "plotlyServerURL": "https://plot.ly"
       },
       "data": [
        {
         "marker": {
          "color": [
           "#7140c0",
           "#f1ba2a",
           "#6dd9fa",
           "#f5864a",
           "#959930",
           "#9c210a",
           "#7140c0",
           "#f1ba2a",
           "#6dd9fa",
           "#f5864a",
           "#959930",
           "#9c210a",
           "#7140c0",
           "#f1ba2a",
           "#6dd9fa",
           "#f5864a",
           "#959930",
           "#9c210a",
           "#7140c0",
           "#f1ba2a",
           "#6dd9fa",
           "#f5864a",
           "#959930",
           "#9c210a",
           "#7140c0",
           "#f1ba2a",
           "#6dd9fa",
           "#f5864a",
           "#959930",
           "#9c210a"
          ],
          "coloraxis": "coloraxis"
         },
         "mode": "markers",
         "text": [
          "5_500_10_0.5",
          "5_500_10_1",
          "5_500_10_1.5",
          "5_500_20_0.5",
          "5_500_20_1",
          "5_500_20_1.5",
          "5_500_10_0.5",
          "5_500_10_1",
          "5_500_10_1.5",
          "5_500_20_0.5",
          "5_500_20_1",
          "5_500_20_1.5",
          "5_500_10_0.5",
          "5_500_10_1",
          "5_500_10_1.5",
          "5_500_20_0.5",
          "5_500_20_1",
          "5_500_20_1.5",
          "5_500_10_0.5",
          "5_500_10_1",
          "5_500_10_1.5",
          "5_500_20_0.5",
          "5_500_20_1",
          "5_500_20_1.5",
          "5_500_10_0.5",
          "5_500_10_1",
          "5_500_10_1.5",
          "5_500_20_0.5",
          "5_500_20_1",
          "5_500_20_1.5"
         ],
         "type": "scatter",
         "x": [
          0.42408310796453946,
          0.20463307397503713,
          0.04595850052901311,
          0.36786692297920637,
          0.3159308642810497,
          0.11673728012467662,
          0.28703848719270947,
          0.11570998662527221,
          0.2230304283439081,
          0.38720062791347176,
          0.28440792777185064,
          0.1287534868483479,
          0.2989619572327968,
          0.09598482687303157,
          0.1232005781956685,
          0.49749370443486574,
          0.36469115535652413,
          0.08882604661587623,
          0.3418602815531618,
          0.24553643368656847,
          0.2605998553472294,
          0.554241098839184,
          0.32318401312718675,
          0.1687031164332135,
          0.4017844572281776,
          0.13047056124499207,
          0.12256380374650862,
          0.4810970639047089,
          0.3080103209773851,
          0.055753739027508645
         ],
         "xaxis": "x",
         "y": [
          0.9822402397559946,
          0.9738155476863112,
          0.943221454497036,
          0.9651730196436455,
          0.9251043202863053,
          0.9656124973137654,
          0.9759912684795564,
          0.9678670386414555,
          0.9614285908237138,
          0.9643050877251209,
          0.9210011982455385,
          0.964902183135714,
          0.9718052947922469,
          0.958213267797563,
          0.969299827263351,
          0.970727808204777,
          0.9225218111678765,
          0.9686533813077052,
          0.9751193686162473,
          0.9685775538509456,
          0.9577682886705242,
          0.9725281766123169,
          0.9648613452328255,
          0.976050957812012,
          0.9836834631152178,
          0.9609698959963716,
          0.9485116840893686,
          0.9717708873530454,
          0.9640410941445434,
          0.9745783834992146
         ],
         "yaxis": "y"
        }
       ],
       "layout": {
        "coloraxis": {
         "colorscale": [
          [
           0,
           "rgb(255,0,0)"
          ],
          [
           1,
           "rgb(0,0,255)"
          ]
         ]
        },
        "height": 500,
        "showlegend": false,
        "template": {
         "data": {
          "bar": [
           {
            "error_x": {
             "color": "#2a3f5f"
            },
            "error_y": {
             "color": "#2a3f5f"
            },
            "marker": {
             "line": {
              "color": "#E5ECF6",
              "width": 0.5
             }
            },
            "type": "bar"
           }
          ],
          "barpolar": [
           {
            "marker": {
             "line": {
              "color": "#E5ECF6",
              "width": 0.5
             }
            },
            "type": "barpolar"
           }
          ],
          "carpet": [
           {
            "aaxis": {
             "endlinecolor": "#2a3f5f",
             "gridcolor": "white",
             "linecolor": "white",
             "minorgridcolor": "white",
             "startlinecolor": "#2a3f5f"
            },
            "baxis": {
             "endlinecolor": "#2a3f5f",
             "gridcolor": "white",
             "linecolor": "white",
             "minorgridcolor": "white",
             "startlinecolor": "#2a3f5f"
            },
            "type": "carpet"
           }
          ],
          "choropleth": [
           {
            "colorbar": {
             "outlinewidth": 0,
             "ticks": ""
            },
            "type": "choropleth"
           }
          ],
          "contour": [
           {
            "colorbar": {
             "outlinewidth": 0,
             "ticks": ""
            },
            "colorscale": [
             [
              0,
              "#0d0887"
             ],
             [
              0.1111111111111111,
              "#46039f"
             ],
             [
              0.2222222222222222,
              "#7201a8"
             ],
             [
              0.3333333333333333,
              "#9c179e"
             ],
             [
              0.4444444444444444,
              "#bd3786"
             ],
             [
              0.5555555555555556,
              "#d8576b"
             ],
             [
              0.6666666666666666,
              "#ed7953"
             ],
             [
              0.7777777777777778,
              "#fb9f3a"
             ],
             [
              0.8888888888888888,
              "#fdca26"
             ],
             [
              1,
              "#f0f921"
             ]
            ],
            "type": "contour"
           }
          ],
          "contourcarpet": [
           {
            "colorbar": {
             "outlinewidth": 0,
             "ticks": ""
            },
            "type": "contourcarpet"
           }
          ],
          "heatmap": [
           {
            "colorbar": {
             "outlinewidth": 0,
             "ticks": ""
            },
            "colorscale": [
             [
              0,
              "#0d0887"
             ],
             [
              0.1111111111111111,
              "#46039f"
             ],
             [
              0.2222222222222222,
              "#7201a8"
             ],
             [
              0.3333333333333333,
              "#9c179e"
             ],
             [
              0.4444444444444444,
              "#bd3786"
             ],
             [
              0.5555555555555556,
              "#d8576b"
             ],
             [
              0.6666666666666666,
              "#ed7953"
             ],
             [
              0.7777777777777778,
              "#fb9f3a"
             ],
             [
              0.8888888888888888,
              "#fdca26"
             ],
             [
              1,
              "#f0f921"
             ]
            ],
            "type": "heatmap"
           }
          ],
          "heatmapgl": [
           {
            "colorbar": {
             "outlinewidth": 0,
             "ticks": ""
            },
            "colorscale": [
             [
              0,
              "#0d0887"
             ],
             [
              0.1111111111111111,
              "#46039f"
             ],
             [
              0.2222222222222222,
              "#7201a8"
             ],
             [
              0.3333333333333333,
              "#9c179e"
             ],
             [
              0.4444444444444444,
              "#bd3786"
             ],
             [
              0.5555555555555556,
              "#d8576b"
             ],
             [
              0.6666666666666666,
              "#ed7953"
             ],
             [
              0.7777777777777778,
              "#fb9f3a"
             ],
             [
              0.8888888888888888,
              "#fdca26"
             ],
             [
              1,
              "#f0f921"
             ]
            ],
            "type": "heatmapgl"
           }
          ],
          "histogram": [
           {
            "marker": {
             "colorbar": {
              "outlinewidth": 0,
              "ticks": ""
             }
            },
            "type": "histogram"
           }
          ],
          "histogram2d": [
           {
            "colorbar": {
             "outlinewidth": 0,
             "ticks": ""
            },
            "colorscale": [
             [
              0,
              "#0d0887"
             ],
             [
              0.1111111111111111,
              "#46039f"
             ],
             [
              0.2222222222222222,
              "#7201a8"
             ],
             [
              0.3333333333333333,
              "#9c179e"
             ],
             [
              0.4444444444444444,
              "#bd3786"
             ],
             [
              0.5555555555555556,
              "#d8576b"
             ],
             [
              0.6666666666666666,
              "#ed7953"
             ],
             [
              0.7777777777777778,
              "#fb9f3a"
             ],
             [
              0.8888888888888888,
              "#fdca26"
             ],
             [
              1,
              "#f0f921"
             ]
            ],
            "type": "histogram2d"
           }
          ],
          "histogram2dcontour": [
           {
            "colorbar": {
             "outlinewidth": 0,
             "ticks": ""
            },
            "colorscale": [
             [
              0,
              "#0d0887"
             ],
             [
              0.1111111111111111,
              "#46039f"
             ],
             [
              0.2222222222222222,
              "#7201a8"
             ],
             [
              0.3333333333333333,
              "#9c179e"
             ],
             [
              0.4444444444444444,
              "#bd3786"
             ],
             [
              0.5555555555555556,
              "#d8576b"
             ],
             [
              0.6666666666666666,
              "#ed7953"
             ],
             [
              0.7777777777777778,
              "#fb9f3a"
             ],
             [
              0.8888888888888888,
              "#fdca26"
             ],
             [
              1,
              "#f0f921"
             ]
            ],
            "type": "histogram2dcontour"
           }
          ],
          "mesh3d": [
           {
            "colorbar": {
             "outlinewidth": 0,
             "ticks": ""
            },
            "type": "mesh3d"
           }
          ],
          "parcoords": [
           {
            "line": {
             "colorbar": {
              "outlinewidth": 0,
              "ticks": ""
             }
            },
            "type": "parcoords"
           }
          ],
          "pie": [
           {
            "automargin": true,
            "type": "pie"
           }
          ],
          "scatter": [
           {
            "marker": {
             "colorbar": {
              "outlinewidth": 0,
              "ticks": ""
             }
            },
            "type": "scatter"
           }
          ],
          "scatter3d": [
           {
            "line": {
             "colorbar": {
              "outlinewidth": 0,
              "ticks": ""
             }
            },
            "marker": {
             "colorbar": {
              "outlinewidth": 0,
              "ticks": ""
             }
            },
            "type": "scatter3d"
           }
          ],
          "scattercarpet": [
           {
            "marker": {
             "colorbar": {
              "outlinewidth": 0,
              "ticks": ""
             }
            },
            "type": "scattercarpet"
           }
          ],
          "scattergeo": [
           {
            "marker": {
             "colorbar": {
              "outlinewidth": 0,
              "ticks": ""
             }
            },
            "type": "scattergeo"
           }
          ],
          "scattergl": [
           {
            "marker": {
             "colorbar": {
              "outlinewidth": 0,
              "ticks": ""
             }
            },
            "type": "scattergl"
           }
          ],
          "scattermapbox": [
           {
            "marker": {
             "colorbar": {
              "outlinewidth": 0,
              "ticks": ""
             }
            },
            "type": "scattermapbox"
           }
          ],
          "scatterpolar": [
           {
            "marker": {
             "colorbar": {
              "outlinewidth": 0,
              "ticks": ""
             }
            },
            "type": "scatterpolar"
           }
          ],
          "scatterpolargl": [
           {
            "marker": {
             "colorbar": {
              "outlinewidth": 0,
              "ticks": ""
             }
            },
            "type": "scatterpolargl"
           }
          ],
          "scatterternary": [
           {
            "marker": {
             "colorbar": {
              "outlinewidth": 0,
              "ticks": ""
             }
            },
            "type": "scatterternary"
           }
          ],
          "surface": [
           {
            "colorbar": {
             "outlinewidth": 0,
             "ticks": ""
            },
            "colorscale": [
             [
              0,
              "#0d0887"
             ],
             [
              0.1111111111111111,
              "#46039f"
             ],
             [
              0.2222222222222222,
              "#7201a8"
             ],
             [
              0.3333333333333333,
              "#9c179e"
             ],
             [
              0.4444444444444444,
              "#bd3786"
             ],
             [
              0.5555555555555556,
              "#d8576b"
             ],
             [
              0.6666666666666666,
              "#ed7953"
             ],
             [
              0.7777777777777778,
              "#fb9f3a"
             ],
             [
              0.8888888888888888,
              "#fdca26"
             ],
             [
              1,
              "#f0f921"
             ]
            ],
            "type": "surface"
           }
          ],
          "table": [
           {
            "cells": {
             "fill": {
              "color": "#EBF0F8"
             },
             "line": {
              "color": "white"
             }
            },
            "header": {
             "fill": {
              "color": "#C8D4E3"
             },
             "line": {
              "color": "white"
             }
            },
            "type": "table"
           }
          ]
         },
         "layout": {
          "annotationdefaults": {
           "arrowcolor": "#2a3f5f",
           "arrowhead": 0,
           "arrowwidth": 1
          },
          "coloraxis": {
           "colorbar": {
            "outlinewidth": 0,
            "ticks": ""
           }
          },
          "colorscale": {
           "diverging": [
            [
             0,
             "#8e0152"
            ],
            [
             0.1,
             "#c51b7d"
            ],
            [
             0.2,
             "#de77ae"
            ],
            [
             0.3,
             "#f1b6da"
            ],
            [
             0.4,
             "#fde0ef"
            ],
            [
             0.5,
             "#f7f7f7"
            ],
            [
             0.6,
             "#e6f5d0"
            ],
            [
             0.7,
             "#b8e186"
            ],
            [
             0.8,
             "#7fbc41"
            ],
            [
             0.9,
             "#4d9221"
            ],
            [
             1,
             "#276419"
            ]
           ],
           "sequential": [
            [
             0,
             "#0d0887"
            ],
            [
             0.1111111111111111,
             "#46039f"
            ],
            [
             0.2222222222222222,
             "#7201a8"
            ],
            [
             0.3333333333333333,
             "#9c179e"
            ],
            [
             0.4444444444444444,
             "#bd3786"
            ],
            [
             0.5555555555555556,
             "#d8576b"
            ],
            [
             0.6666666666666666,
             "#ed7953"
            ],
            [
             0.7777777777777778,
             "#fb9f3a"
            ],
            [
             0.8888888888888888,
             "#fdca26"
            ],
            [
             1,
             "#f0f921"
            ]
           ],
           "sequentialminus": [
            [
             0,
             "#0d0887"
            ],
            [
             0.1111111111111111,
             "#46039f"
            ],
            [
             0.2222222222222222,
             "#7201a8"
            ],
            [
             0.3333333333333333,
             "#9c179e"
            ],
            [
             0.4444444444444444,
             "#bd3786"
            ],
            [
             0.5555555555555556,
             "#d8576b"
            ],
            [
             0.6666666666666666,
             "#ed7953"
            ],
            [
             0.7777777777777778,
             "#fb9f3a"
            ],
            [
             0.8888888888888888,
             "#fdca26"
            ],
            [
             1,
             "#f0f921"
            ]
           ]
          },
          "colorway": [
           "#636efa",
           "#EF553B",
           "#00cc96",
           "#ab63fa",
           "#FFA15A",
           "#19d3f3",
           "#FF6692",
           "#B6E880",
           "#FF97FF",
           "#FECB52"
          ],
          "font": {
           "color": "#2a3f5f"
          },
          "geo": {
           "bgcolor": "white",
           "lakecolor": "white",
           "landcolor": "#E5ECF6",
           "showlakes": true,
           "showland": true,
           "subunitcolor": "white"
          },
          "hoverlabel": {
           "align": "left"
          },
          "hovermode": "closest",
          "mapbox": {
           "style": "light"
          },
          "paper_bgcolor": "white",
          "plot_bgcolor": "#E5ECF6",
          "polar": {
           "angularaxis": {
            "gridcolor": "white",
            "linecolor": "white",
            "ticks": ""
           },
           "bgcolor": "#E5ECF6",
           "radialaxis": {
            "gridcolor": "white",
            "linecolor": "white",
            "ticks": ""
           }
          },
          "scene": {
           "xaxis": {
            "backgroundcolor": "#E5ECF6",
            "gridcolor": "white",
            "gridwidth": 2,
            "linecolor": "white",
            "showbackground": true,
            "ticks": "",
            "zerolinecolor": "white"
           },
           "yaxis": {
            "backgroundcolor": "#E5ECF6",
            "gridcolor": "white",
            "gridwidth": 2,
            "linecolor": "white",
            "showbackground": true,
            "ticks": "",
            "zerolinecolor": "white"
           },
           "zaxis": {
            "backgroundcolor": "#E5ECF6",
            "gridcolor": "white",
            "gridwidth": 2,
            "linecolor": "white",
            "showbackground": true,
            "ticks": "",
            "zerolinecolor": "white"
           }
          },
          "shapedefaults": {
           "line": {
            "color": "#2a3f5f"
           }
          },
          "ternary": {
           "aaxis": {
            "gridcolor": "white",
            "linecolor": "white",
            "ticks": ""
           },
           "baxis": {
            "gridcolor": "white",
            "linecolor": "white",
            "ticks": ""
           },
           "bgcolor": "#E5ECF6",
           "caxis": {
            "gridcolor": "white",
            "linecolor": "white",
            "ticks": ""
           }
          },
          "title": {
           "x": 0.05
          },
          "xaxis": {
           "automargin": true,
           "gridcolor": "white",
           "linecolor": "white",
           "ticks": "",
           "title": {
            "standoff": 15
           },
           "zerolinecolor": "white",
           "zerolinewidth": 2
          },
          "yaxis": {
           "automargin": true,
           "gridcolor": "white",
           "linecolor": "white",
           "ticks": "",
           "title": {
            "standoff": 15
           },
           "zerolinecolor": "white",
           "zerolinewidth": 2
          }
         }
        },
        "title": {
         "text": "Comparison of performance per cell type"
        },
        "width": 500,
        "xaxis": {
         "anchor": "y",
         "domain": [
          0,
          1
         ],
         "range": [
          0,
          1
         ],
         "title": {
          "text": "SVR_NNLS"
         }
        },
        "yaxis": {
         "anchor": "x",
         "domain": [
          0,
          1
         ],
         "range": [
          0,
          1
         ],
         "title": {
          "text": "BLADE"
         }
        }
       }
      },
      "text/html": [
       "<div>\n",
       "        \n",
       "        \n",
       "            <div id=\"bcac625a-b9c5-4524-ad80-6524223ad111\" class=\"plotly-graph-div\" style=\"height:500px; width:500px;\"></div>\n",
       "            <script type=\"text/javascript\">\n",
       "                require([\"plotly\"], function(Plotly) {\n",
       "                    window.PLOTLYENV=window.PLOTLYENV || {};\n",
       "                    \n",
       "                if (document.getElementById(\"bcac625a-b9c5-4524-ad80-6524223ad111\")) {\n",
       "                    Plotly.newPlot(\n",
       "                        'bcac625a-b9c5-4524-ad80-6524223ad111',\n",
       "                        [{\"marker\": {\"color\": [\"#7140c0\", \"#f1ba2a\", \"#6dd9fa\", \"#f5864a\", \"#959930\", \"#9c210a\", \"#7140c0\", \"#f1ba2a\", \"#6dd9fa\", \"#f5864a\", \"#959930\", \"#9c210a\", \"#7140c0\", \"#f1ba2a\", \"#6dd9fa\", \"#f5864a\", \"#959930\", \"#9c210a\", \"#7140c0\", \"#f1ba2a\", \"#6dd9fa\", \"#f5864a\", \"#959930\", \"#9c210a\", \"#7140c0\", \"#f1ba2a\", \"#6dd9fa\", \"#f5864a\", \"#959930\", \"#9c210a\"], \"coloraxis\": \"coloraxis\"}, \"mode\": \"markers\", \"text\": [\"5_500_10_0.5\", \"5_500_10_1\", \"5_500_10_1.5\", \"5_500_20_0.5\", \"5_500_20_1\", \"5_500_20_1.5\", \"5_500_10_0.5\", \"5_500_10_1\", \"5_500_10_1.5\", \"5_500_20_0.5\", \"5_500_20_1\", \"5_500_20_1.5\", \"5_500_10_0.5\", \"5_500_10_1\", \"5_500_10_1.5\", \"5_500_20_0.5\", \"5_500_20_1\", \"5_500_20_1.5\", \"5_500_10_0.5\", \"5_500_10_1\", \"5_500_10_1.5\", \"5_500_20_0.5\", \"5_500_20_1\", \"5_500_20_1.5\", \"5_500_10_0.5\", \"5_500_10_1\", \"5_500_10_1.5\", \"5_500_20_0.5\", \"5_500_20_1\", \"5_500_20_1.5\"], \"type\": \"scatter\", \"x\": [0.42408310796453946, 0.20463307397503713, 0.04595850052901311, 0.36786692297920637, 0.3159308642810497, 0.11673728012467662, 0.28703848719270947, 0.11570998662527221, 0.2230304283439081, 0.38720062791347176, 0.28440792777185064, 0.1287534868483479, 0.2989619572327968, 0.09598482687303157, 0.1232005781956685, 0.49749370443486574, 0.36469115535652413, 0.08882604661587623, 0.3418602815531618, 0.24553643368656847, 0.2605998553472294, 0.554241098839184, 0.32318401312718675, 0.1687031164332135, 0.4017844572281776, 0.13047056124499207, 0.12256380374650862, 0.4810970639047089, 0.3080103209773851, 0.055753739027508645], \"xaxis\": \"x\", \"y\": [0.9822402397559946, 0.9738155476863112, 0.943221454497036, 0.9651730196436455, 0.9251043202863053, 0.9656124973137654, 0.9759912684795564, 0.9678670386414555, 0.9614285908237138, 0.9643050877251209, 0.9210011982455385, 0.964902183135714, 0.9718052947922469, 0.958213267797563, 0.969299827263351, 0.970727808204777, 0.9225218111678765, 0.9686533813077052, 0.9751193686162473, 0.9685775538509456, 0.9577682886705242, 0.9725281766123169, 0.9648613452328255, 0.976050957812012, 0.9836834631152178, 0.9609698959963716, 0.9485116840893686, 0.9717708873530454, 0.9640410941445434, 0.9745783834992146], \"yaxis\": \"y\"}],\n",
       "                        {\"coloraxis\": {\"colorscale\": [[0.0, \"rgb(255,0,0)\"], [1.0, \"rgb(0,0,255)\"]]}, \"height\": 500, \"showlegend\": false, \"template\": {\"data\": {\"bar\": [{\"error_x\": {\"color\": \"#2a3f5f\"}, \"error_y\": {\"color\": \"#2a3f5f\"}, \"marker\": {\"line\": {\"color\": \"#E5ECF6\", \"width\": 0.5}}, \"type\": \"bar\"}], \"barpolar\": [{\"marker\": {\"line\": {\"color\": \"#E5ECF6\", \"width\": 0.5}}, \"type\": \"barpolar\"}], \"carpet\": [{\"aaxis\": {\"endlinecolor\": \"#2a3f5f\", \"gridcolor\": \"white\", \"linecolor\": \"white\", \"minorgridcolor\": \"white\", \"startlinecolor\": \"#2a3f5f\"}, \"baxis\": {\"endlinecolor\": \"#2a3f5f\", \"gridcolor\": \"white\", \"linecolor\": \"white\", \"minorgridcolor\": \"white\", \"startlinecolor\": \"#2a3f5f\"}, \"type\": \"carpet\"}], \"choropleth\": [{\"colorbar\": {\"outlinewidth\": 0, \"ticks\": \"\"}, \"type\": \"choropleth\"}], \"contour\": [{\"colorbar\": {\"outlinewidth\": 0, \"ticks\": \"\"}, \"colorscale\": [[0.0, \"#0d0887\"], [0.1111111111111111, \"#46039f\"], [0.2222222222222222, \"#7201a8\"], [0.3333333333333333, \"#9c179e\"], [0.4444444444444444, \"#bd3786\"], [0.5555555555555556, \"#d8576b\"], [0.6666666666666666, \"#ed7953\"], [0.7777777777777778, \"#fb9f3a\"], [0.8888888888888888, \"#fdca26\"], [1.0, \"#f0f921\"]], \"type\": \"contour\"}], \"contourcarpet\": [{\"colorbar\": {\"outlinewidth\": 0, \"ticks\": \"\"}, \"type\": \"contourcarpet\"}], \"heatmap\": [{\"colorbar\": {\"outlinewidth\": 0, \"ticks\": \"\"}, \"colorscale\": [[0.0, \"#0d0887\"], [0.1111111111111111, \"#46039f\"], [0.2222222222222222, \"#7201a8\"], [0.3333333333333333, \"#9c179e\"], [0.4444444444444444, \"#bd3786\"], [0.5555555555555556, \"#d8576b\"], [0.6666666666666666, \"#ed7953\"], [0.7777777777777778, \"#fb9f3a\"], [0.8888888888888888, \"#fdca26\"], [1.0, \"#f0f921\"]], \"type\": \"heatmap\"}], \"heatmapgl\": [{\"colorbar\": {\"outlinewidth\": 0, \"ticks\": \"\"}, \"colorscale\": [[0.0, \"#0d0887\"], [0.1111111111111111, \"#46039f\"], [0.2222222222222222, \"#7201a8\"], [0.3333333333333333, \"#9c179e\"], [0.4444444444444444, \"#bd3786\"], [0.5555555555555556, \"#d8576b\"], [0.6666666666666666, \"#ed7953\"], [0.7777777777777778, \"#fb9f3a\"], [0.8888888888888888, \"#fdca26\"], [1.0, \"#f0f921\"]], \"type\": \"heatmapgl\"}], \"histogram\": [{\"marker\": {\"colorbar\": {\"outlinewidth\": 0, \"ticks\": \"\"}}, \"type\": \"histogram\"}], \"histogram2d\": [{\"colorbar\": {\"outlinewidth\": 0, \"ticks\": \"\"}, \"colorscale\": [[0.0, \"#0d0887\"], [0.1111111111111111, \"#46039f\"], [0.2222222222222222, \"#7201a8\"], [0.3333333333333333, \"#9c179e\"], [0.4444444444444444, \"#bd3786\"], [0.5555555555555556, \"#d8576b\"], [0.6666666666666666, \"#ed7953\"], [0.7777777777777778, \"#fb9f3a\"], [0.8888888888888888, \"#fdca26\"], [1.0, \"#f0f921\"]], \"type\": \"histogram2d\"}], \"histogram2dcontour\": [{\"colorbar\": {\"outlinewidth\": 0, \"ticks\": \"\"}, \"colorscale\": [[0.0, \"#0d0887\"], [0.1111111111111111, \"#46039f\"], [0.2222222222222222, \"#7201a8\"], [0.3333333333333333, \"#9c179e\"], [0.4444444444444444, \"#bd3786\"], [0.5555555555555556, \"#d8576b\"], [0.6666666666666666, \"#ed7953\"], [0.7777777777777778, \"#fb9f3a\"], [0.8888888888888888, \"#fdca26\"], [1.0, \"#f0f921\"]], \"type\": \"histogram2dcontour\"}], \"mesh3d\": [{\"colorbar\": {\"outlinewidth\": 0, \"ticks\": \"\"}, \"type\": \"mesh3d\"}], \"parcoords\": [{\"line\": {\"colorbar\": {\"outlinewidth\": 0, \"ticks\": \"\"}}, \"type\": \"parcoords\"}], \"pie\": [{\"automargin\": true, \"type\": \"pie\"}], \"scatter\": [{\"marker\": {\"colorbar\": {\"outlinewidth\": 0, \"ticks\": \"\"}}, \"type\": \"scatter\"}], \"scatter3d\": [{\"line\": {\"colorbar\": {\"outlinewidth\": 0, \"ticks\": \"\"}}, \"marker\": {\"colorbar\": {\"outlinewidth\": 0, \"ticks\": \"\"}}, \"type\": \"scatter3d\"}], \"scattercarpet\": [{\"marker\": {\"colorbar\": {\"outlinewidth\": 0, \"ticks\": \"\"}}, \"type\": \"scattercarpet\"}], \"scattergeo\": [{\"marker\": {\"colorbar\": {\"outlinewidth\": 0, \"ticks\": \"\"}}, \"type\": \"scattergeo\"}], \"scattergl\": [{\"marker\": {\"colorbar\": {\"outlinewidth\": 0, \"ticks\": \"\"}}, \"type\": \"scattergl\"}], \"scattermapbox\": [{\"marker\": {\"colorbar\": {\"outlinewidth\": 0, \"ticks\": \"\"}}, \"type\": \"scattermapbox\"}], \"scatterpolar\": [{\"marker\": {\"colorbar\": {\"outlinewidth\": 0, \"ticks\": \"\"}}, \"type\": \"scatterpolar\"}], \"scatterpolargl\": [{\"marker\": {\"colorbar\": {\"outlinewidth\": 0, \"ticks\": \"\"}}, \"type\": \"scatterpolargl\"}], \"scatterternary\": [{\"marker\": {\"colorbar\": {\"outlinewidth\": 0, \"ticks\": \"\"}}, \"type\": \"scatterternary\"}], \"surface\": [{\"colorbar\": {\"outlinewidth\": 0, \"ticks\": \"\"}, \"colorscale\": [[0.0, \"#0d0887\"], [0.1111111111111111, \"#46039f\"], [0.2222222222222222, \"#7201a8\"], [0.3333333333333333, \"#9c179e\"], [0.4444444444444444, \"#bd3786\"], [0.5555555555555556, \"#d8576b\"], [0.6666666666666666, \"#ed7953\"], [0.7777777777777778, \"#fb9f3a\"], [0.8888888888888888, \"#fdca26\"], [1.0, \"#f0f921\"]], \"type\": \"surface\"}], \"table\": [{\"cells\": {\"fill\": {\"color\": \"#EBF0F8\"}, \"line\": {\"color\": \"white\"}}, \"header\": {\"fill\": {\"color\": \"#C8D4E3\"}, \"line\": {\"color\": \"white\"}}, \"type\": \"table\"}]}, \"layout\": {\"annotationdefaults\": {\"arrowcolor\": \"#2a3f5f\", \"arrowhead\": 0, \"arrowwidth\": 1}, \"coloraxis\": {\"colorbar\": {\"outlinewidth\": 0, \"ticks\": \"\"}}, \"colorscale\": {\"diverging\": [[0, \"#8e0152\"], [0.1, \"#c51b7d\"], [0.2, \"#de77ae\"], [0.3, \"#f1b6da\"], [0.4, \"#fde0ef\"], [0.5, \"#f7f7f7\"], [0.6, \"#e6f5d0\"], [0.7, \"#b8e186\"], [0.8, \"#7fbc41\"], [0.9, \"#4d9221\"], [1, \"#276419\"]], \"sequential\": [[0.0, \"#0d0887\"], [0.1111111111111111, \"#46039f\"], [0.2222222222222222, \"#7201a8\"], [0.3333333333333333, \"#9c179e\"], [0.4444444444444444, \"#bd3786\"], [0.5555555555555556, \"#d8576b\"], [0.6666666666666666, \"#ed7953\"], [0.7777777777777778, \"#fb9f3a\"], [0.8888888888888888, \"#fdca26\"], [1.0, \"#f0f921\"]], \"sequentialminus\": [[0.0, \"#0d0887\"], [0.1111111111111111, \"#46039f\"], [0.2222222222222222, \"#7201a8\"], [0.3333333333333333, \"#9c179e\"], [0.4444444444444444, \"#bd3786\"], [0.5555555555555556, \"#d8576b\"], [0.6666666666666666, \"#ed7953\"], [0.7777777777777778, \"#fb9f3a\"], [0.8888888888888888, \"#fdca26\"], [1.0, \"#f0f921\"]]}, \"colorway\": [\"#636efa\", \"#EF553B\", \"#00cc96\", \"#ab63fa\", \"#FFA15A\", \"#19d3f3\", \"#FF6692\", \"#B6E880\", \"#FF97FF\", \"#FECB52\"], \"font\": {\"color\": \"#2a3f5f\"}, \"geo\": {\"bgcolor\": \"white\", \"lakecolor\": \"white\", \"landcolor\": \"#E5ECF6\", \"showlakes\": true, \"showland\": true, \"subunitcolor\": \"white\"}, \"hoverlabel\": {\"align\": \"left\"}, \"hovermode\": \"closest\", \"mapbox\": {\"style\": \"light\"}, \"paper_bgcolor\": \"white\", \"plot_bgcolor\": \"#E5ECF6\", \"polar\": {\"angularaxis\": {\"gridcolor\": \"white\", \"linecolor\": \"white\", \"ticks\": \"\"}, \"bgcolor\": \"#E5ECF6\", \"radialaxis\": {\"gridcolor\": \"white\", \"linecolor\": \"white\", \"ticks\": \"\"}}, \"scene\": {\"xaxis\": {\"backgroundcolor\": \"#E5ECF6\", \"gridcolor\": \"white\", \"gridwidth\": 2, \"linecolor\": \"white\", \"showbackground\": true, \"ticks\": \"\", \"zerolinecolor\": \"white\"}, \"yaxis\": {\"backgroundcolor\": \"#E5ECF6\", \"gridcolor\": \"white\", \"gridwidth\": 2, \"linecolor\": \"white\", \"showbackground\": true, \"ticks\": \"\", \"zerolinecolor\": \"white\"}, \"zaxis\": {\"backgroundcolor\": \"#E5ECF6\", \"gridcolor\": \"white\", \"gridwidth\": 2, \"linecolor\": \"white\", \"showbackground\": true, \"ticks\": \"\", \"zerolinecolor\": \"white\"}}, \"shapedefaults\": {\"line\": {\"color\": \"#2a3f5f\"}}, \"ternary\": {\"aaxis\": {\"gridcolor\": \"white\", \"linecolor\": \"white\", \"ticks\": \"\"}, \"baxis\": {\"gridcolor\": \"white\", \"linecolor\": \"white\", \"ticks\": \"\"}, \"bgcolor\": \"#E5ECF6\", \"caxis\": {\"gridcolor\": \"white\", \"linecolor\": \"white\", \"ticks\": \"\"}}, \"title\": {\"x\": 0.05}, \"xaxis\": {\"automargin\": true, \"gridcolor\": \"white\", \"linecolor\": \"white\", \"ticks\": \"\", \"title\": {\"standoff\": 15}, \"zerolinecolor\": \"white\", \"zerolinewidth\": 2}, \"yaxis\": {\"automargin\": true, \"gridcolor\": \"white\", \"linecolor\": \"white\", \"ticks\": \"\", \"title\": {\"standoff\": 15}, \"zerolinecolor\": \"white\", \"zerolinewidth\": 2}}}, \"title\": {\"text\": \"Comparison of performance per cell type\"}, \"width\": 500, \"xaxis\": {\"anchor\": \"y\", \"domain\": [0.0, 1.0], \"range\": [0, 1], \"title\": {\"text\": \"SVR_NNLS\"}}, \"yaxis\": {\"anchor\": \"x\", \"domain\": [0.0, 1.0], \"range\": [0, 1], \"title\": {\"text\": \"BLADE\"}}},\n",
       "                        {\"responsive\": true}\n",
       "                    ).then(function(){\n",
       "                            \n",
       "var gd = document.getElementById('bcac625a-b9c5-4524-ad80-6524223ad111');\n",
       "var x = new MutationObserver(function (mutations, observer) {{\n",
       "        var display = window.getComputedStyle(gd).display;\n",
       "        if (!display || display === 'none') {{\n",
       "            console.log([gd, 'removed!']);\n",
       "            Plotly.purge(gd);\n",
       "            observer.disconnect();\n",
       "        }}\n",
       "}});\n",
       "\n",
       "// Listen for the removal of the full notebook cells\n",
       "var notebookContainer = gd.closest('#notebook-container');\n",
       "if (notebookContainer) {{\n",
       "    x.observe(notebookContainer, {childList: true});\n",
       "}}\n",
       "\n",
       "// Listen for the clearing of the current output cell\n",
       "var outputEl = gd.closest('.output');\n",
       "if (outputEl) {{\n",
       "    x.observe(outputEl, {childList: true});\n",
       "}}\n",
       "\n",
       "                        })\n",
       "                };\n",
       "                });\n",
       "            </script>\n",
       "        </div>"
      ]
     },
     "metadata": {},
     "output_type": "display_data"
    }
   ],
   "source": [
    "PerfMat = outcome_PerCell.pivot_table(values='Cor_Signature', columns='method', index=['CellType','dataset'])\n",
    "PerfMat.reset_index(inplace=True)\n",
    "PerfMat.dataset = PerfMat.dataset.astype('category')\n",
    "\n",
    "cols = PerfMat.dataset.map(colorsIdx)\n",
    "\n",
    "fig = make_subplots(rows=1, cols=1)\n",
    "fig.add_trace(\n",
    "    go.Scatter(y=PerfMat.BLADE, x=PerfMat.SVR_NNLS, mode=\"markers\", text=PerfMat.dataset,\n",
    "               marker=dict(color=cols, coloraxis=\"coloraxis\")\n",
    "            ),\n",
    "    row=1,col=1\n",
    ")\n",
    "\n",
    "fig.update_layout(height=500, width=500,\n",
    "                  title_text=\"Comparison of performance per cell type\")\n",
    "fig.update_layout(coloraxis=dict(colorscale='Bluered_r'), showlegend=False)\n",
    "\n",
    "fig.update_yaxes(range=[0, 1], title_text=\"BLADE\")\n",
    "fig.update_xaxes(range=[0, 1], title_text=\"SVR_NNLS\", row=1,col=1)\n",
    "fig.show()"
   ]
  },
  {
   "cell_type": "markdown",
   "metadata": {},
   "source": [
    "Now, we will assess performance of BLADE for high-resolution mode purification.  \n",
    "The performance can be measure per cell type (average across the samples) and per sample (average across the cell types)"
   ]
  },
  {
   "cell_type": "code",
   "execution_count": 176,
   "metadata": {},
   "outputs": [
    {
     "data": {
      "application/vnd.plotly.v1+json": {
       "config": {
        "plotlyServerURL": "https://plot.ly"
       },
       "data": [
        {
         "boxpoints": "all",
         "name": "Average performance per cell type",
         "type": "box",
         "x": [
          "5_500_10_0.5",
          "5_500_10_0.5",
          "5_500_10_0.5",
          "5_500_10_0.5",
          "5_500_10_0.5",
          "5_500_10_0.5",
          "5_500_10_0.5",
          "5_500_10_0.5",
          "5_500_10_0.5",
          "5_500_10_0.5",
          "5_500_10_0.5",
          "5_500_10_0.5",
          "5_500_10_0.5",
          "5_500_10_0.5",
          "5_500_10_0.5",
          "5_500_10_1",
          "5_500_10_1",
          "5_500_10_1",
          "5_500_10_1",
          "5_500_10_1",
          "5_500_10_1",
          "5_500_10_1",
          "5_500_10_1",
          "5_500_10_1",
          "5_500_10_1",
          "5_500_10_1",
          "5_500_10_1",
          "5_500_10_1",
          "5_500_10_1",
          "5_500_10_1",
          "5_500_10_1.5",
          "5_500_10_1.5",
          "5_500_10_1.5",
          "5_500_10_1.5",
          "5_500_10_1.5",
          "5_500_10_1.5",
          "5_500_10_1.5",
          "5_500_10_1.5",
          "5_500_10_1.5",
          "5_500_10_1.5",
          "5_500_10_1.5",
          "5_500_10_1.5",
          "5_500_10_1.5",
          "5_500_10_1.5",
          "5_500_10_1.5",
          "5_500_20_0.5",
          "5_500_20_0.5",
          "5_500_20_0.5",
          "5_500_20_0.5",
          "5_500_20_0.5",
          "5_500_20_0.5",
          "5_500_20_0.5",
          "5_500_20_0.5",
          "5_500_20_0.5",
          "5_500_20_0.5",
          "5_500_20_0.5",
          "5_500_20_0.5",
          "5_500_20_0.5",
          "5_500_20_0.5",
          "5_500_20_0.5",
          "5_500_20_1",
          "5_500_20_1",
          "5_500_20_1",
          "5_500_20_1",
          "5_500_20_1",
          "5_500_20_1",
          "5_500_20_1",
          "5_500_20_1",
          "5_500_20_1",
          "5_500_20_1",
          "5_500_20_1",
          "5_500_20_1",
          "5_500_20_1",
          "5_500_20_1",
          "5_500_20_1",
          "5_500_20_1.5",
          "5_500_20_1.5",
          "5_500_20_1.5",
          "5_500_20_1.5",
          "5_500_20_1.5",
          "5_500_20_1.5",
          "5_500_20_1.5",
          "5_500_20_1.5",
          "5_500_20_1.5",
          "5_500_20_1.5",
          "5_500_20_1.5",
          "5_500_20_1.5",
          "5_500_20_1.5",
          "5_500_20_1.5",
          "5_500_20_1.5"
         ],
         "xaxis": "x",
         "y": [
          0.9621502237280495,
          0.9536482838648516,
          0.9483550439407837,
          0.9512027011424552,
          0.9611553604299503,
          null,
          null,
          null,
          null,
          null,
          null,
          null,
          null,
          null,
          null,
          0.884328043463127,
          0.8885367676014398,
          0.8736445051611476,
          0.8909505035726791,
          0.8860295631798005,
          null,
          null,
          null,
          null,
          null,
          null,
          null,
          null,
          null,
          null,
          0.7746532255970504,
          0.7960618662379801,
          0.811617179375834,
          0.7955895855088482,
          0.8088148498834524,
          null,
          null,
          null,
          null,
          null,
          null,
          null,
          null,
          null,
          null,
          0.9407536983399094,
          0.9395850268747479,
          0.9511148562682994,
          0.9493470703472419,
          0.9496461423563041,
          null,
          null,
          null,
          null,
          null,
          null,
          null,
          null,
          null,
          null,
          0.8393010957833671,
          0.8392685832327272,
          0.8423508139671861,
          0.8801777582865071,
          0.8819648516011869,
          null,
          null,
          null,
          null,
          null,
          null,
          null,
          null,
          null,
          null,
          0.8027190425384785,
          0.7815757297211938,
          0.8141361707706348,
          0.8151138465693846,
          0.8134755822150398,
          null,
          null,
          null,
          null,
          null,
          null,
          null,
          null,
          null,
          null
         ],
         "yaxis": "y"
        },
        {
         "boxpoints": "all",
         "name": "Average performance per sample",
         "type": "box",
         "x": [
          "5_500_10_0.5",
          "5_500_10_0.5",
          "5_500_10_0.5",
          "5_500_10_0.5",
          "5_500_10_0.5",
          "5_500_10_0.5",
          "5_500_10_0.5",
          "5_500_10_0.5",
          "5_500_10_0.5",
          "5_500_10_0.5",
          "5_500_10_0.5",
          "5_500_10_0.5",
          "5_500_10_0.5",
          "5_500_10_0.5",
          "5_500_10_0.5",
          "5_500_10_0.5",
          "5_500_10_0.5",
          "5_500_10_0.5",
          "5_500_10_0.5",
          "5_500_10_0.5",
          "5_500_10_0.5",
          "5_500_10_0.5",
          "5_500_10_0.5",
          "5_500_10_0.5",
          "5_500_10_0.5",
          "5_500_10_0.5",
          "5_500_10_0.5",
          "5_500_10_0.5",
          "5_500_10_0.5",
          "5_500_10_0.5",
          "5_500_10_1",
          "5_500_10_1",
          "5_500_10_1",
          "5_500_10_1",
          "5_500_10_1",
          "5_500_10_1",
          "5_500_10_1",
          "5_500_10_1",
          "5_500_10_1",
          "5_500_10_1",
          "5_500_10_1",
          "5_500_10_1",
          "5_500_10_1",
          "5_500_10_1",
          "5_500_10_1",
          "5_500_10_1",
          "5_500_10_1",
          "5_500_10_1",
          "5_500_10_1",
          "5_500_10_1",
          "5_500_10_1",
          "5_500_10_1",
          "5_500_10_1",
          "5_500_10_1",
          "5_500_10_1",
          "5_500_10_1",
          "5_500_10_1",
          "5_500_10_1",
          "5_500_10_1",
          "5_500_10_1",
          "5_500_10_1.5",
          "5_500_10_1.5",
          "5_500_10_1.5",
          "5_500_10_1.5",
          "5_500_10_1.5",
          "5_500_10_1.5",
          "5_500_10_1.5",
          "5_500_10_1.5",
          "5_500_10_1.5",
          "5_500_10_1.5",
          "5_500_10_1.5",
          "5_500_10_1.5",
          "5_500_10_1.5",
          "5_500_10_1.5",
          "5_500_10_1.5",
          "5_500_10_1.5",
          "5_500_10_1.5",
          "5_500_10_1.5",
          "5_500_10_1.5",
          "5_500_10_1.5",
          "5_500_10_1.5",
          "5_500_10_1.5",
          "5_500_10_1.5",
          "5_500_10_1.5",
          "5_500_10_1.5",
          "5_500_10_1.5",
          "5_500_10_1.5",
          "5_500_10_1.5",
          "5_500_10_1.5",
          "5_500_10_1.5",
          "5_500_20_0.5",
          "5_500_20_0.5",
          "5_500_20_0.5",
          "5_500_20_0.5",
          "5_500_20_0.5",
          "5_500_20_0.5",
          "5_500_20_0.5",
          "5_500_20_0.5",
          "5_500_20_0.5",
          "5_500_20_0.5",
          "5_500_20_0.5",
          "5_500_20_0.5",
          "5_500_20_0.5",
          "5_500_20_0.5",
          "5_500_20_0.5",
          "5_500_20_0.5",
          "5_500_20_0.5",
          "5_500_20_0.5",
          "5_500_20_0.5",
          "5_500_20_0.5",
          "5_500_20_0.5",
          "5_500_20_0.5",
          "5_500_20_0.5",
          "5_500_20_0.5",
          "5_500_20_0.5",
          "5_500_20_0.5",
          "5_500_20_0.5",
          "5_500_20_0.5",
          "5_500_20_0.5",
          "5_500_20_0.5",
          "5_500_20_0.5",
          "5_500_20_0.5",
          "5_500_20_0.5",
          "5_500_20_0.5",
          "5_500_20_0.5",
          "5_500_20_0.5",
          "5_500_20_0.5",
          "5_500_20_0.5",
          "5_500_20_0.5",
          "5_500_20_0.5",
          "5_500_20_0.5",
          "5_500_20_0.5",
          "5_500_20_0.5",
          "5_500_20_0.5",
          "5_500_20_0.5",
          "5_500_20_0.5",
          "5_500_20_0.5",
          "5_500_20_0.5",
          "5_500_20_0.5",
          "5_500_20_0.5",
          "5_500_20_0.5",
          "5_500_20_0.5",
          "5_500_20_0.5",
          "5_500_20_0.5",
          "5_500_20_0.5",
          "5_500_20_0.5",
          "5_500_20_0.5",
          "5_500_20_0.5",
          "5_500_20_0.5",
          "5_500_20_0.5",
          "5_500_20_1",
          "5_500_20_1",
          "5_500_20_1",
          "5_500_20_1",
          "5_500_20_1",
          "5_500_20_1",
          "5_500_20_1",
          "5_500_20_1",
          "5_500_20_1",
          "5_500_20_1",
          "5_500_20_1",
          "5_500_20_1",
          "5_500_20_1",
          "5_500_20_1",
          "5_500_20_1",
          "5_500_20_1",
          "5_500_20_1",
          "5_500_20_1",
          "5_500_20_1",
          "5_500_20_1",
          "5_500_20_1",
          "5_500_20_1",
          "5_500_20_1",
          "5_500_20_1",
          "5_500_20_1",
          "5_500_20_1",
          "5_500_20_1",
          "5_500_20_1",
          "5_500_20_1",
          "5_500_20_1",
          "5_500_20_1",
          "5_500_20_1",
          "5_500_20_1",
          "5_500_20_1",
          "5_500_20_1",
          "5_500_20_1",
          "5_500_20_1",
          "5_500_20_1",
          "5_500_20_1",
          "5_500_20_1",
          "5_500_20_1",
          "5_500_20_1",
          "5_500_20_1",
          "5_500_20_1",
          "5_500_20_1",
          "5_500_20_1",
          "5_500_20_1",
          "5_500_20_1",
          "5_500_20_1",
          "5_500_20_1",
          "5_500_20_1",
          "5_500_20_1",
          "5_500_20_1",
          "5_500_20_1",
          "5_500_20_1",
          "5_500_20_1",
          "5_500_20_1",
          "5_500_20_1",
          "5_500_20_1",
          "5_500_20_1",
          "5_500_20_1.5",
          "5_500_20_1.5",
          "5_500_20_1.5",
          "5_500_20_1.5",
          "5_500_20_1.5",
          "5_500_20_1.5",
          "5_500_20_1.5",
          "5_500_20_1.5",
          "5_500_20_1.5",
          "5_500_20_1.5",
          "5_500_20_1.5",
          "5_500_20_1.5",
          "5_500_20_1.5",
          "5_500_20_1.5",
          "5_500_20_1.5",
          "5_500_20_1.5",
          "5_500_20_1.5",
          "5_500_20_1.5",
          "5_500_20_1.5",
          "5_500_20_1.5",
          "5_500_20_1.5",
          "5_500_20_1.5",
          "5_500_20_1.5",
          "5_500_20_1.5",
          "5_500_20_1.5",
          "5_500_20_1.5",
          "5_500_20_1.5",
          "5_500_20_1.5",
          "5_500_20_1.5",
          "5_500_20_1.5",
          "5_500_20_1.5",
          "5_500_20_1.5",
          "5_500_20_1.5",
          "5_500_20_1.5",
          "5_500_20_1.5",
          "5_500_20_1.5",
          "5_500_20_1.5",
          "5_500_20_1.5",
          "5_500_20_1.5",
          "5_500_20_1.5",
          "5_500_20_1.5",
          "5_500_20_1.5",
          "5_500_20_1.5",
          "5_500_20_1.5",
          "5_500_20_1.5",
          "5_500_20_1.5",
          "5_500_20_1.5",
          "5_500_20_1.5",
          "5_500_20_1.5",
          "5_500_20_1.5",
          "5_500_20_1.5",
          "5_500_20_1.5",
          "5_500_20_1.5",
          "5_500_20_1.5",
          "5_500_20_1.5",
          "5_500_20_1.5",
          "5_500_20_1.5",
          "5_500_20_1.5",
          "5_500_20_1.5",
          "5_500_20_1.5"
         ],
         "xaxis": "x2",
         "y": [
          0.9550564616257382,
          0.9557405569985559,
          0.9554825450853752,
          0.9584292196667601,
          0.9556556737653304,
          0.9553936405716549,
          0.954166552456635,
          0.9547091102866696,
          0.954383985265931,
          0.9540054804895304,
          null,
          null,
          null,
          null,
          null,
          null,
          null,
          null,
          null,
          null,
          null,
          null,
          null,
          null,
          null,
          null,
          null,
          null,
          null,
          null,
          0.8792560114768057,
          0.8836368568790455,
          0.8864762105719217,
          0.887738925576689,
          0.8819434937512762,
          0.8830761096728192,
          0.8890388948226168,
          0.8812984765299884,
          0.8838241063410186,
          0.8906896803342071,
          null,
          null,
          null,
          null,
          null,
          null,
          null,
          null,
          null,
          null,
          null,
          null,
          null,
          null,
          null,
          null,
          null,
          null,
          null,
          null,
          0.7931311945065296,
          0.7984024379272697,
          0.8010237853659747,
          0.8162965806594356,
          0.7974379279539038,
          0.7927586864589298,
          0.7936621443839631,
          0.7874943610651233,
          0.7977613459839057,
          0.7955049489012955,
          null,
          null,
          null,
          null,
          null,
          null,
          null,
          null,
          null,
          null,
          null,
          null,
          null,
          null,
          null,
          null,
          null,
          null,
          null,
          null,
          0.9438965393635339,
          0.9424239412001146,
          0.9450025495042823,
          0.946691668572746,
          0.9458091948257996,
          0.9483968434260046,
          0.9506712555369792,
          0.9444502949660976,
          0.9439741992266975,
          0.9443960335388102,
          0.9428399009487327,
          0.9461445228351826,
          0.9465581174885843,
          0.9486632839538931,
          0.9486831160276331,
          0.9463076528465267,
          0.9469834848890638,
          0.947992038254631,
          0.9462784412653626,
          0.9456240980753355,
          null,
          null,
          null,
          null,
          null,
          null,
          null,
          null,
          null,
          null,
          null,
          null,
          null,
          null,
          null,
          null,
          null,
          null,
          null,
          null,
          null,
          null,
          null,
          null,
          null,
          null,
          null,
          null,
          null,
          null,
          null,
          null,
          null,
          null,
          null,
          null,
          null,
          null,
          null,
          null,
          0.8573511206598152,
          0.8530788159080117,
          0.8618203494050334,
          0.8584727319199201,
          0.8526475713951637,
          0.8539614776398938,
          0.8536811266300918,
          0.8592365213113746,
          0.857178423595818,
          0.8502401311052035,
          0.8598279943212672,
          0.856678616137651,
          0.8603530263694464,
          0.8581097146634518,
          0.8584201572483201,
          0.8576916920522011,
          0.8592760949062788,
          0.8537012086988603,
          0.8544837640834935,
          0.8560418734326021,
          null,
          null,
          null,
          null,
          null,
          null,
          null,
          null,
          null,
          null,
          null,
          null,
          null,
          null,
          null,
          null,
          null,
          null,
          null,
          null,
          null,
          null,
          null,
          null,
          null,
          null,
          null,
          null,
          null,
          null,
          null,
          null,
          null,
          null,
          null,
          null,
          null,
          null,
          null,
          null,
          0.8036280008519603,
          0.822058622130869,
          0.8036610429371658,
          0.8026302585632905,
          0.8043110134905103,
          0.8016420701107929,
          0.8049228748228365,
          0.8003836571166723,
          0.8068755742040065,
          0.8050454285913368,
          0.8059615941925665,
          0.8019789927149571,
          0.8092357916812617,
          0.7980486223487329,
          0.8007957018666488,
          0.8036417787717829,
          0.8236497690442194,
          0.8091544923540862,
          0.7977945621155677,
          0.8026616393496614,
          null,
          null,
          null,
          null,
          null,
          null,
          null,
          null,
          null,
          null,
          null,
          null,
          null,
          null,
          null,
          null,
          null,
          null,
          null,
          null,
          null,
          null,
          null,
          null,
          null,
          null,
          null,
          null,
          null,
          null,
          null,
          null,
          null,
          null,
          null,
          null,
          null,
          null,
          null,
          null
         ],
         "yaxis": "y2"
        }
       ],
       "layout": {
        "height": 600,
        "template": {
         "data": {
          "bar": [
           {
            "error_x": {
             "color": "#2a3f5f"
            },
            "error_y": {
             "color": "#2a3f5f"
            },
            "marker": {
             "line": {
              "color": "#E5ECF6",
              "width": 0.5
             }
            },
            "type": "bar"
           }
          ],
          "barpolar": [
           {
            "marker": {
             "line": {
              "color": "#E5ECF6",
              "width": 0.5
             }
            },
            "type": "barpolar"
           }
          ],
          "carpet": [
           {
            "aaxis": {
             "endlinecolor": "#2a3f5f",
             "gridcolor": "white",
             "linecolor": "white",
             "minorgridcolor": "white",
             "startlinecolor": "#2a3f5f"
            },
            "baxis": {
             "endlinecolor": "#2a3f5f",
             "gridcolor": "white",
             "linecolor": "white",
             "minorgridcolor": "white",
             "startlinecolor": "#2a3f5f"
            },
            "type": "carpet"
           }
          ],
          "choropleth": [
           {
            "colorbar": {
             "outlinewidth": 0,
             "ticks": ""
            },
            "type": "choropleth"
           }
          ],
          "contour": [
           {
            "colorbar": {
             "outlinewidth": 0,
             "ticks": ""
            },
            "colorscale": [
             [
              0,
              "#0d0887"
             ],
             [
              0.1111111111111111,
              "#46039f"
             ],
             [
              0.2222222222222222,
              "#7201a8"
             ],
             [
              0.3333333333333333,
              "#9c179e"
             ],
             [
              0.4444444444444444,
              "#bd3786"
             ],
             [
              0.5555555555555556,
              "#d8576b"
             ],
             [
              0.6666666666666666,
              "#ed7953"
             ],
             [
              0.7777777777777778,
              "#fb9f3a"
             ],
             [
              0.8888888888888888,
              "#fdca26"
             ],
             [
              1,
              "#f0f921"
             ]
            ],
            "type": "contour"
           }
          ],
          "contourcarpet": [
           {
            "colorbar": {
             "outlinewidth": 0,
             "ticks": ""
            },
            "type": "contourcarpet"
           }
          ],
          "heatmap": [
           {
            "colorbar": {
             "outlinewidth": 0,
             "ticks": ""
            },
            "colorscale": [
             [
              0,
              "#0d0887"
             ],
             [
              0.1111111111111111,
              "#46039f"
             ],
             [
              0.2222222222222222,
              "#7201a8"
             ],
             [
              0.3333333333333333,
              "#9c179e"
             ],
             [
              0.4444444444444444,
              "#bd3786"
             ],
             [
              0.5555555555555556,
              "#d8576b"
             ],
             [
              0.6666666666666666,
              "#ed7953"
             ],
             [
              0.7777777777777778,
              "#fb9f3a"
             ],
             [
              0.8888888888888888,
              "#fdca26"
             ],
             [
              1,
              "#f0f921"
             ]
            ],
            "type": "heatmap"
           }
          ],
          "heatmapgl": [
           {
            "colorbar": {
             "outlinewidth": 0,
             "ticks": ""
            },
            "colorscale": [
             [
              0,
              "#0d0887"
             ],
             [
              0.1111111111111111,
              "#46039f"
             ],
             [
              0.2222222222222222,
              "#7201a8"
             ],
             [
              0.3333333333333333,
              "#9c179e"
             ],
             [
              0.4444444444444444,
              "#bd3786"
             ],
             [
              0.5555555555555556,
              "#d8576b"
             ],
             [
              0.6666666666666666,
              "#ed7953"
             ],
             [
              0.7777777777777778,
              "#fb9f3a"
             ],
             [
              0.8888888888888888,
              "#fdca26"
             ],
             [
              1,
              "#f0f921"
             ]
            ],
            "type": "heatmapgl"
           }
          ],
          "histogram": [
           {
            "marker": {
             "colorbar": {
              "outlinewidth": 0,
              "ticks": ""
             }
            },
            "type": "histogram"
           }
          ],
          "histogram2d": [
           {
            "colorbar": {
             "outlinewidth": 0,
             "ticks": ""
            },
            "colorscale": [
             [
              0,
              "#0d0887"
             ],
             [
              0.1111111111111111,
              "#46039f"
             ],
             [
              0.2222222222222222,
              "#7201a8"
             ],
             [
              0.3333333333333333,
              "#9c179e"
             ],
             [
              0.4444444444444444,
              "#bd3786"
             ],
             [
              0.5555555555555556,
              "#d8576b"
             ],
             [
              0.6666666666666666,
              "#ed7953"
             ],
             [
              0.7777777777777778,
              "#fb9f3a"
             ],
             [
              0.8888888888888888,
              "#fdca26"
             ],
             [
              1,
              "#f0f921"
             ]
            ],
            "type": "histogram2d"
           }
          ],
          "histogram2dcontour": [
           {
            "colorbar": {
             "outlinewidth": 0,
             "ticks": ""
            },
            "colorscale": [
             [
              0,
              "#0d0887"
             ],
             [
              0.1111111111111111,
              "#46039f"
             ],
             [
              0.2222222222222222,
              "#7201a8"
             ],
             [
              0.3333333333333333,
              "#9c179e"
             ],
             [
              0.4444444444444444,
              "#bd3786"
             ],
             [
              0.5555555555555556,
              "#d8576b"
             ],
             [
              0.6666666666666666,
              "#ed7953"
             ],
             [
              0.7777777777777778,
              "#fb9f3a"
             ],
             [
              0.8888888888888888,
              "#fdca26"
             ],
             [
              1,
              "#f0f921"
             ]
            ],
            "type": "histogram2dcontour"
           }
          ],
          "mesh3d": [
           {
            "colorbar": {
             "outlinewidth": 0,
             "ticks": ""
            },
            "type": "mesh3d"
           }
          ],
          "parcoords": [
           {
            "line": {
             "colorbar": {
              "outlinewidth": 0,
              "ticks": ""
             }
            },
            "type": "parcoords"
           }
          ],
          "pie": [
           {
            "automargin": true,
            "type": "pie"
           }
          ],
          "scatter": [
           {
            "marker": {
             "colorbar": {
              "outlinewidth": 0,
              "ticks": ""
             }
            },
            "type": "scatter"
           }
          ],
          "scatter3d": [
           {
            "line": {
             "colorbar": {
              "outlinewidth": 0,
              "ticks": ""
             }
            },
            "marker": {
             "colorbar": {
              "outlinewidth": 0,
              "ticks": ""
             }
            },
            "type": "scatter3d"
           }
          ],
          "scattercarpet": [
           {
            "marker": {
             "colorbar": {
              "outlinewidth": 0,
              "ticks": ""
             }
            },
            "type": "scattercarpet"
           }
          ],
          "scattergeo": [
           {
            "marker": {
             "colorbar": {
              "outlinewidth": 0,
              "ticks": ""
             }
            },
            "type": "scattergeo"
           }
          ],
          "scattergl": [
           {
            "marker": {
             "colorbar": {
              "outlinewidth": 0,
              "ticks": ""
             }
            },
            "type": "scattergl"
           }
          ],
          "scattermapbox": [
           {
            "marker": {
             "colorbar": {
              "outlinewidth": 0,
              "ticks": ""
             }
            },
            "type": "scattermapbox"
           }
          ],
          "scatterpolar": [
           {
            "marker": {
             "colorbar": {
              "outlinewidth": 0,
              "ticks": ""
             }
            },
            "type": "scatterpolar"
           }
          ],
          "scatterpolargl": [
           {
            "marker": {
             "colorbar": {
              "outlinewidth": 0,
              "ticks": ""
             }
            },
            "type": "scatterpolargl"
           }
          ],
          "scatterternary": [
           {
            "marker": {
             "colorbar": {
              "outlinewidth": 0,
              "ticks": ""
             }
            },
            "type": "scatterternary"
           }
          ],
          "surface": [
           {
            "colorbar": {
             "outlinewidth": 0,
             "ticks": ""
            },
            "colorscale": [
             [
              0,
              "#0d0887"
             ],
             [
              0.1111111111111111,
              "#46039f"
             ],
             [
              0.2222222222222222,
              "#7201a8"
             ],
             [
              0.3333333333333333,
              "#9c179e"
             ],
             [
              0.4444444444444444,
              "#bd3786"
             ],
             [
              0.5555555555555556,
              "#d8576b"
             ],
             [
              0.6666666666666666,
              "#ed7953"
             ],
             [
              0.7777777777777778,
              "#fb9f3a"
             ],
             [
              0.8888888888888888,
              "#fdca26"
             ],
             [
              1,
              "#f0f921"
             ]
            ],
            "type": "surface"
           }
          ],
          "table": [
           {
            "cells": {
             "fill": {
              "color": "#EBF0F8"
             },
             "line": {
              "color": "white"
             }
            },
            "header": {
             "fill": {
              "color": "#C8D4E3"
             },
             "line": {
              "color": "white"
             }
            },
            "type": "table"
           }
          ]
         },
         "layout": {
          "annotationdefaults": {
           "arrowcolor": "#2a3f5f",
           "arrowhead": 0,
           "arrowwidth": 1
          },
          "coloraxis": {
           "colorbar": {
            "outlinewidth": 0,
            "ticks": ""
           }
          },
          "colorscale": {
           "diverging": [
            [
             0,
             "#8e0152"
            ],
            [
             0.1,
             "#c51b7d"
            ],
            [
             0.2,
             "#de77ae"
            ],
            [
             0.3,
             "#f1b6da"
            ],
            [
             0.4,
             "#fde0ef"
            ],
            [
             0.5,
             "#f7f7f7"
            ],
            [
             0.6,
             "#e6f5d0"
            ],
            [
             0.7,
             "#b8e186"
            ],
            [
             0.8,
             "#7fbc41"
            ],
            [
             0.9,
             "#4d9221"
            ],
            [
             1,
             "#276419"
            ]
           ],
           "sequential": [
            [
             0,
             "#0d0887"
            ],
            [
             0.1111111111111111,
             "#46039f"
            ],
            [
             0.2222222222222222,
             "#7201a8"
            ],
            [
             0.3333333333333333,
             "#9c179e"
            ],
            [
             0.4444444444444444,
             "#bd3786"
            ],
            [
             0.5555555555555556,
             "#d8576b"
            ],
            [
             0.6666666666666666,
             "#ed7953"
            ],
            [
             0.7777777777777778,
             "#fb9f3a"
            ],
            [
             0.8888888888888888,
             "#fdca26"
            ],
            [
             1,
             "#f0f921"
            ]
           ],
           "sequentialminus": [
            [
             0,
             "#0d0887"
            ],
            [
             0.1111111111111111,
             "#46039f"
            ],
            [
             0.2222222222222222,
             "#7201a8"
            ],
            [
             0.3333333333333333,
             "#9c179e"
            ],
            [
             0.4444444444444444,
             "#bd3786"
            ],
            [
             0.5555555555555556,
             "#d8576b"
            ],
            [
             0.6666666666666666,
             "#ed7953"
            ],
            [
             0.7777777777777778,
             "#fb9f3a"
            ],
            [
             0.8888888888888888,
             "#fdca26"
            ],
            [
             1,
             "#f0f921"
            ]
           ]
          },
          "colorway": [
           "#636efa",
           "#EF553B",
           "#00cc96",
           "#ab63fa",
           "#FFA15A",
           "#19d3f3",
           "#FF6692",
           "#B6E880",
           "#FF97FF",
           "#FECB52"
          ],
          "font": {
           "color": "#2a3f5f"
          },
          "geo": {
           "bgcolor": "white",
           "lakecolor": "white",
           "landcolor": "#E5ECF6",
           "showlakes": true,
           "showland": true,
           "subunitcolor": "white"
          },
          "hoverlabel": {
           "align": "left"
          },
          "hovermode": "closest",
          "mapbox": {
           "style": "light"
          },
          "paper_bgcolor": "white",
          "plot_bgcolor": "#E5ECF6",
          "polar": {
           "angularaxis": {
            "gridcolor": "white",
            "linecolor": "white",
            "ticks": ""
           },
           "bgcolor": "#E5ECF6",
           "radialaxis": {
            "gridcolor": "white",
            "linecolor": "white",
            "ticks": ""
           }
          },
          "scene": {
           "xaxis": {
            "backgroundcolor": "#E5ECF6",
            "gridcolor": "white",
            "gridwidth": 2,
            "linecolor": "white",
            "showbackground": true,
            "ticks": "",
            "zerolinecolor": "white"
           },
           "yaxis": {
            "backgroundcolor": "#E5ECF6",
            "gridcolor": "white",
            "gridwidth": 2,
            "linecolor": "white",
            "showbackground": true,
            "ticks": "",
            "zerolinecolor": "white"
           },
           "zaxis": {
            "backgroundcolor": "#E5ECF6",
            "gridcolor": "white",
            "gridwidth": 2,
            "linecolor": "white",
            "showbackground": true,
            "ticks": "",
            "zerolinecolor": "white"
           }
          },
          "shapedefaults": {
           "line": {
            "color": "#2a3f5f"
           }
          },
          "ternary": {
           "aaxis": {
            "gridcolor": "white",
            "linecolor": "white",
            "ticks": ""
           },
           "baxis": {
            "gridcolor": "white",
            "linecolor": "white",
            "ticks": ""
           },
           "bgcolor": "#E5ECF6",
           "caxis": {
            "gridcolor": "white",
            "linecolor": "white",
            "ticks": ""
           }
          },
          "title": {
           "x": 0.05
          },
          "xaxis": {
           "automargin": true,
           "gridcolor": "white",
           "linecolor": "white",
           "ticks": "",
           "title": {
            "standoff": 15
           },
           "zerolinecolor": "white",
           "zerolinewidth": 2
          },
          "yaxis": {
           "automargin": true,
           "gridcolor": "white",
           "linecolor": "white",
           "ticks": "",
           "title": {
            "standoff": 15
           },
           "zerolinecolor": "white",
           "zerolinewidth": 2
          }
         }
        },
        "title": {
         "text": "High-resolution-mode purification"
        },
        "width": 800,
        "xaxis": {
         "anchor": "y",
         "domain": [
          0,
          0.45
         ]
        },
        "xaxis2": {
         "anchor": "y2",
         "domain": [
          0.55,
          1
         ]
        },
        "yaxis": {
         "anchor": "x",
         "domain": [
          0,
          1
         ],
         "range": [
          0,
          1
         ],
         "title": {
          "text": "Pearson Correlation"
         }
        },
        "yaxis2": {
         "anchor": "x2",
         "domain": [
          0,
          1
         ],
         "matches": "y",
         "range": [
          0,
          1
         ],
         "showticklabels": false,
         "title": {
          "text": "Pearson Correlation"
         }
        }
       }
      },
      "text/html": [
       "<div>\n",
       "        \n",
       "        \n",
       "            <div id=\"8d4f5f74-e8ed-4c49-b372-0b559276265a\" class=\"plotly-graph-div\" style=\"height:600px; width:800px;\"></div>\n",
       "            <script type=\"text/javascript\">\n",
       "                require([\"plotly\"], function(Plotly) {\n",
       "                    window.PLOTLYENV=window.PLOTLYENV || {};\n",
       "                    \n",
       "                if (document.getElementById(\"8d4f5f74-e8ed-4c49-b372-0b559276265a\")) {\n",
       "                    Plotly.newPlot(\n",
       "                        '8d4f5f74-e8ed-4c49-b372-0b559276265a',\n",
       "                        [{\"boxpoints\": \"all\", \"name\": \"Average performance per cell type\", \"type\": \"box\", \"x\": [\"5_500_10_0.5\", \"5_500_10_0.5\", \"5_500_10_0.5\", \"5_500_10_0.5\", \"5_500_10_0.5\", \"5_500_10_0.5\", \"5_500_10_0.5\", \"5_500_10_0.5\", \"5_500_10_0.5\", \"5_500_10_0.5\", \"5_500_10_0.5\", \"5_500_10_0.5\", \"5_500_10_0.5\", \"5_500_10_0.5\", \"5_500_10_0.5\", \"5_500_10_1\", \"5_500_10_1\", \"5_500_10_1\", \"5_500_10_1\", \"5_500_10_1\", \"5_500_10_1\", \"5_500_10_1\", \"5_500_10_1\", \"5_500_10_1\", \"5_500_10_1\", \"5_500_10_1\", \"5_500_10_1\", \"5_500_10_1\", \"5_500_10_1\", \"5_500_10_1\", \"5_500_10_1.5\", \"5_500_10_1.5\", \"5_500_10_1.5\", \"5_500_10_1.5\", \"5_500_10_1.5\", \"5_500_10_1.5\", \"5_500_10_1.5\", \"5_500_10_1.5\", \"5_500_10_1.5\", \"5_500_10_1.5\", \"5_500_10_1.5\", \"5_500_10_1.5\", \"5_500_10_1.5\", \"5_500_10_1.5\", \"5_500_10_1.5\", \"5_500_20_0.5\", \"5_500_20_0.5\", \"5_500_20_0.5\", \"5_500_20_0.5\", \"5_500_20_0.5\", \"5_500_20_0.5\", \"5_500_20_0.5\", \"5_500_20_0.5\", \"5_500_20_0.5\", \"5_500_20_0.5\", \"5_500_20_0.5\", \"5_500_20_0.5\", \"5_500_20_0.5\", \"5_500_20_0.5\", \"5_500_20_0.5\", \"5_500_20_1\", \"5_500_20_1\", \"5_500_20_1\", \"5_500_20_1\", \"5_500_20_1\", \"5_500_20_1\", \"5_500_20_1\", \"5_500_20_1\", \"5_500_20_1\", \"5_500_20_1\", \"5_500_20_1\", \"5_500_20_1\", \"5_500_20_1\", \"5_500_20_1\", \"5_500_20_1\", \"5_500_20_1.5\", \"5_500_20_1.5\", \"5_500_20_1.5\", \"5_500_20_1.5\", \"5_500_20_1.5\", \"5_500_20_1.5\", \"5_500_20_1.5\", \"5_500_20_1.5\", \"5_500_20_1.5\", \"5_500_20_1.5\", \"5_500_20_1.5\", \"5_500_20_1.5\", \"5_500_20_1.5\", \"5_500_20_1.5\", \"5_500_20_1.5\"], \"xaxis\": \"x\", \"y\": [0.9621502237280495, 0.9536482838648516, 0.9483550439407837, 0.9512027011424552, 0.9611553604299503, null, null, null, null, null, null, null, null, null, null, 0.884328043463127, 0.8885367676014398, 0.8736445051611476, 0.8909505035726791, 0.8860295631798005, null, null, null, null, null, null, null, null, null, null, 0.7746532255970504, 0.7960618662379801, 0.811617179375834, 0.7955895855088482, 0.8088148498834524, null, null, null, null, null, null, null, null, null, null, 0.9407536983399094, 0.9395850268747479, 0.9511148562682994, 0.9493470703472419, 0.9496461423563041, null, null, null, null, null, null, null, null, null, null, 0.8393010957833671, 0.8392685832327272, 0.8423508139671861, 0.8801777582865071, 0.8819648516011869, null, null, null, null, null, null, null, null, null, null, 0.8027190425384785, 0.7815757297211938, 0.8141361707706348, 0.8151138465693846, 0.8134755822150398, null, null, null, null, null, null, null, null, null, null], \"yaxis\": \"y\"}, {\"boxpoints\": \"all\", \"name\": \"Average performance per sample\", \"type\": \"box\", \"x\": [\"5_500_10_0.5\", \"5_500_10_0.5\", \"5_500_10_0.5\", \"5_500_10_0.5\", \"5_500_10_0.5\", \"5_500_10_0.5\", \"5_500_10_0.5\", \"5_500_10_0.5\", \"5_500_10_0.5\", \"5_500_10_0.5\", \"5_500_10_0.5\", \"5_500_10_0.5\", \"5_500_10_0.5\", \"5_500_10_0.5\", \"5_500_10_0.5\", \"5_500_10_0.5\", \"5_500_10_0.5\", \"5_500_10_0.5\", \"5_500_10_0.5\", \"5_500_10_0.5\", \"5_500_10_0.5\", \"5_500_10_0.5\", \"5_500_10_0.5\", \"5_500_10_0.5\", \"5_500_10_0.5\", \"5_500_10_0.5\", \"5_500_10_0.5\", \"5_500_10_0.5\", \"5_500_10_0.5\", \"5_500_10_0.5\", \"5_500_10_1\", \"5_500_10_1\", \"5_500_10_1\", \"5_500_10_1\", \"5_500_10_1\", \"5_500_10_1\", \"5_500_10_1\", \"5_500_10_1\", \"5_500_10_1\", \"5_500_10_1\", \"5_500_10_1\", \"5_500_10_1\", \"5_500_10_1\", \"5_500_10_1\", \"5_500_10_1\", \"5_500_10_1\", \"5_500_10_1\", \"5_500_10_1\", \"5_500_10_1\", \"5_500_10_1\", \"5_500_10_1\", \"5_500_10_1\", \"5_500_10_1\", \"5_500_10_1\", \"5_500_10_1\", \"5_500_10_1\", \"5_500_10_1\", \"5_500_10_1\", \"5_500_10_1\", \"5_500_10_1\", \"5_500_10_1.5\", \"5_500_10_1.5\", \"5_500_10_1.5\", \"5_500_10_1.5\", \"5_500_10_1.5\", \"5_500_10_1.5\", \"5_500_10_1.5\", \"5_500_10_1.5\", \"5_500_10_1.5\", \"5_500_10_1.5\", \"5_500_10_1.5\", \"5_500_10_1.5\", \"5_500_10_1.5\", \"5_500_10_1.5\", \"5_500_10_1.5\", \"5_500_10_1.5\", \"5_500_10_1.5\", \"5_500_10_1.5\", \"5_500_10_1.5\", \"5_500_10_1.5\", \"5_500_10_1.5\", \"5_500_10_1.5\", \"5_500_10_1.5\", \"5_500_10_1.5\", \"5_500_10_1.5\", \"5_500_10_1.5\", \"5_500_10_1.5\", \"5_500_10_1.5\", \"5_500_10_1.5\", \"5_500_10_1.5\", \"5_500_20_0.5\", \"5_500_20_0.5\", \"5_500_20_0.5\", \"5_500_20_0.5\", \"5_500_20_0.5\", \"5_500_20_0.5\", \"5_500_20_0.5\", \"5_500_20_0.5\", \"5_500_20_0.5\", \"5_500_20_0.5\", \"5_500_20_0.5\", \"5_500_20_0.5\", \"5_500_20_0.5\", \"5_500_20_0.5\", \"5_500_20_0.5\", \"5_500_20_0.5\", \"5_500_20_0.5\", \"5_500_20_0.5\", \"5_500_20_0.5\", \"5_500_20_0.5\", \"5_500_20_0.5\", \"5_500_20_0.5\", \"5_500_20_0.5\", \"5_500_20_0.5\", \"5_500_20_0.5\", \"5_500_20_0.5\", \"5_500_20_0.5\", \"5_500_20_0.5\", \"5_500_20_0.5\", \"5_500_20_0.5\", \"5_500_20_0.5\", \"5_500_20_0.5\", \"5_500_20_0.5\", \"5_500_20_0.5\", \"5_500_20_0.5\", \"5_500_20_0.5\", \"5_500_20_0.5\", \"5_500_20_0.5\", \"5_500_20_0.5\", \"5_500_20_0.5\", \"5_500_20_0.5\", \"5_500_20_0.5\", \"5_500_20_0.5\", \"5_500_20_0.5\", \"5_500_20_0.5\", \"5_500_20_0.5\", \"5_500_20_0.5\", \"5_500_20_0.5\", \"5_500_20_0.5\", \"5_500_20_0.5\", \"5_500_20_0.5\", \"5_500_20_0.5\", \"5_500_20_0.5\", \"5_500_20_0.5\", \"5_500_20_0.5\", \"5_500_20_0.5\", \"5_500_20_0.5\", \"5_500_20_0.5\", \"5_500_20_0.5\", \"5_500_20_0.5\", \"5_500_20_1\", \"5_500_20_1\", \"5_500_20_1\", \"5_500_20_1\", \"5_500_20_1\", \"5_500_20_1\", \"5_500_20_1\", \"5_500_20_1\", \"5_500_20_1\", \"5_500_20_1\", \"5_500_20_1\", \"5_500_20_1\", \"5_500_20_1\", \"5_500_20_1\", \"5_500_20_1\", \"5_500_20_1\", \"5_500_20_1\", \"5_500_20_1\", \"5_500_20_1\", \"5_500_20_1\", \"5_500_20_1\", \"5_500_20_1\", \"5_500_20_1\", \"5_500_20_1\", \"5_500_20_1\", \"5_500_20_1\", \"5_500_20_1\", \"5_500_20_1\", \"5_500_20_1\", \"5_500_20_1\", \"5_500_20_1\", \"5_500_20_1\", \"5_500_20_1\", \"5_500_20_1\", \"5_500_20_1\", \"5_500_20_1\", \"5_500_20_1\", \"5_500_20_1\", \"5_500_20_1\", \"5_500_20_1\", \"5_500_20_1\", \"5_500_20_1\", \"5_500_20_1\", \"5_500_20_1\", \"5_500_20_1\", \"5_500_20_1\", \"5_500_20_1\", \"5_500_20_1\", \"5_500_20_1\", \"5_500_20_1\", \"5_500_20_1\", \"5_500_20_1\", \"5_500_20_1\", \"5_500_20_1\", \"5_500_20_1\", \"5_500_20_1\", \"5_500_20_1\", \"5_500_20_1\", \"5_500_20_1\", \"5_500_20_1\", \"5_500_20_1.5\", \"5_500_20_1.5\", \"5_500_20_1.5\", \"5_500_20_1.5\", \"5_500_20_1.5\", \"5_500_20_1.5\", \"5_500_20_1.5\", \"5_500_20_1.5\", \"5_500_20_1.5\", \"5_500_20_1.5\", \"5_500_20_1.5\", \"5_500_20_1.5\", \"5_500_20_1.5\", \"5_500_20_1.5\", \"5_500_20_1.5\", \"5_500_20_1.5\", \"5_500_20_1.5\", \"5_500_20_1.5\", \"5_500_20_1.5\", \"5_500_20_1.5\", \"5_500_20_1.5\", \"5_500_20_1.5\", \"5_500_20_1.5\", \"5_500_20_1.5\", \"5_500_20_1.5\", \"5_500_20_1.5\", \"5_500_20_1.5\", \"5_500_20_1.5\", \"5_500_20_1.5\", \"5_500_20_1.5\", \"5_500_20_1.5\", \"5_500_20_1.5\", \"5_500_20_1.5\", \"5_500_20_1.5\", \"5_500_20_1.5\", \"5_500_20_1.5\", \"5_500_20_1.5\", \"5_500_20_1.5\", \"5_500_20_1.5\", \"5_500_20_1.5\", \"5_500_20_1.5\", \"5_500_20_1.5\", \"5_500_20_1.5\", \"5_500_20_1.5\", \"5_500_20_1.5\", \"5_500_20_1.5\", \"5_500_20_1.5\", \"5_500_20_1.5\", \"5_500_20_1.5\", \"5_500_20_1.5\", \"5_500_20_1.5\", \"5_500_20_1.5\", \"5_500_20_1.5\", \"5_500_20_1.5\", \"5_500_20_1.5\", \"5_500_20_1.5\", \"5_500_20_1.5\", \"5_500_20_1.5\", \"5_500_20_1.5\", \"5_500_20_1.5\"], \"xaxis\": \"x2\", \"y\": [0.9550564616257382, 0.9557405569985559, 0.9554825450853752, 0.9584292196667601, 0.9556556737653304, 0.9553936405716549, 0.954166552456635, 0.9547091102866696, 0.954383985265931, 0.9540054804895304, null, null, null, null, null, null, null, null, null, null, null, null, null, null, null, null, null, null, null, null, 0.8792560114768057, 0.8836368568790455, 0.8864762105719217, 0.887738925576689, 0.8819434937512762, 0.8830761096728192, 0.8890388948226168, 0.8812984765299884, 0.8838241063410186, 0.8906896803342071, null, null, null, null, null, null, null, null, null, null, null, null, null, null, null, null, null, null, null, null, 0.7931311945065296, 0.7984024379272697, 0.8010237853659747, 0.8162965806594356, 0.7974379279539038, 0.7927586864589298, 0.7936621443839631, 0.7874943610651233, 0.7977613459839057, 0.7955049489012955, null, null, null, null, null, null, null, null, null, null, null, null, null, null, null, null, null, null, null, null, 0.9438965393635339, 0.9424239412001146, 0.9450025495042823, 0.946691668572746, 0.9458091948257996, 0.9483968434260046, 0.9506712555369792, 0.9444502949660976, 0.9439741992266975, 0.9443960335388102, 0.9428399009487327, 0.9461445228351826, 0.9465581174885843, 0.9486632839538931, 0.9486831160276331, 0.9463076528465267, 0.9469834848890638, 0.947992038254631, 0.9462784412653626, 0.9456240980753355, null, null, null, null, null, null, null, null, null, null, null, null, null, null, null, null, null, null, null, null, null, null, null, null, null, null, null, null, null, null, null, null, null, null, null, null, null, null, null, null, 0.8573511206598152, 0.8530788159080117, 0.8618203494050334, 0.8584727319199201, 0.8526475713951637, 0.8539614776398938, 0.8536811266300918, 0.8592365213113746, 0.857178423595818, 0.8502401311052035, 0.8598279943212672, 0.856678616137651, 0.8603530263694464, 0.8581097146634518, 0.8584201572483201, 0.8576916920522011, 0.8592760949062788, 0.8537012086988603, 0.8544837640834935, 0.8560418734326021, null, null, null, null, null, null, null, null, null, null, null, null, null, null, null, null, null, null, null, null, null, null, null, null, null, null, null, null, null, null, null, null, null, null, null, null, null, null, null, null, 0.8036280008519603, 0.822058622130869, 0.8036610429371658, 0.8026302585632905, 0.8043110134905103, 0.8016420701107929, 0.8049228748228365, 0.8003836571166723, 0.8068755742040065, 0.8050454285913368, 0.8059615941925665, 0.8019789927149571, 0.8092357916812617, 0.7980486223487329, 0.8007957018666488, 0.8036417787717829, 0.8236497690442194, 0.8091544923540862, 0.7977945621155677, 0.8026616393496614, null, null, null, null, null, null, null, null, null, null, null, null, null, null, null, null, null, null, null, null, null, null, null, null, null, null, null, null, null, null, null, null, null, null, null, null, null, null, null, null], \"yaxis\": \"y2\"}],\n",
       "                        {\"height\": 600, \"template\": {\"data\": {\"bar\": [{\"error_x\": {\"color\": \"#2a3f5f\"}, \"error_y\": {\"color\": \"#2a3f5f\"}, \"marker\": {\"line\": {\"color\": \"#E5ECF6\", \"width\": 0.5}}, \"type\": \"bar\"}], \"barpolar\": [{\"marker\": {\"line\": {\"color\": \"#E5ECF6\", \"width\": 0.5}}, \"type\": \"barpolar\"}], \"carpet\": [{\"aaxis\": {\"endlinecolor\": \"#2a3f5f\", \"gridcolor\": \"white\", \"linecolor\": \"white\", \"minorgridcolor\": \"white\", \"startlinecolor\": \"#2a3f5f\"}, \"baxis\": {\"endlinecolor\": \"#2a3f5f\", \"gridcolor\": \"white\", \"linecolor\": \"white\", \"minorgridcolor\": \"white\", \"startlinecolor\": \"#2a3f5f\"}, \"type\": \"carpet\"}], \"choropleth\": [{\"colorbar\": {\"outlinewidth\": 0, \"ticks\": \"\"}, \"type\": \"choropleth\"}], \"contour\": [{\"colorbar\": {\"outlinewidth\": 0, \"ticks\": \"\"}, \"colorscale\": [[0.0, \"#0d0887\"], [0.1111111111111111, \"#46039f\"], [0.2222222222222222, \"#7201a8\"], [0.3333333333333333, \"#9c179e\"], [0.4444444444444444, \"#bd3786\"], [0.5555555555555556, \"#d8576b\"], [0.6666666666666666, \"#ed7953\"], [0.7777777777777778, \"#fb9f3a\"], [0.8888888888888888, \"#fdca26\"], [1.0, \"#f0f921\"]], \"type\": \"contour\"}], \"contourcarpet\": [{\"colorbar\": {\"outlinewidth\": 0, \"ticks\": \"\"}, \"type\": \"contourcarpet\"}], \"heatmap\": [{\"colorbar\": {\"outlinewidth\": 0, \"ticks\": \"\"}, \"colorscale\": [[0.0, \"#0d0887\"], [0.1111111111111111, \"#46039f\"], [0.2222222222222222, \"#7201a8\"], [0.3333333333333333, \"#9c179e\"], [0.4444444444444444, \"#bd3786\"], [0.5555555555555556, \"#d8576b\"], [0.6666666666666666, \"#ed7953\"], [0.7777777777777778, \"#fb9f3a\"], [0.8888888888888888, \"#fdca26\"], [1.0, \"#f0f921\"]], \"type\": \"heatmap\"}], \"heatmapgl\": [{\"colorbar\": {\"outlinewidth\": 0, \"ticks\": \"\"}, \"colorscale\": [[0.0, \"#0d0887\"], [0.1111111111111111, \"#46039f\"], [0.2222222222222222, \"#7201a8\"], [0.3333333333333333, \"#9c179e\"], [0.4444444444444444, \"#bd3786\"], [0.5555555555555556, \"#d8576b\"], [0.6666666666666666, \"#ed7953\"], [0.7777777777777778, \"#fb9f3a\"], [0.8888888888888888, \"#fdca26\"], [1.0, \"#f0f921\"]], \"type\": \"heatmapgl\"}], \"histogram\": [{\"marker\": {\"colorbar\": {\"outlinewidth\": 0, \"ticks\": \"\"}}, \"type\": \"histogram\"}], \"histogram2d\": [{\"colorbar\": {\"outlinewidth\": 0, \"ticks\": \"\"}, \"colorscale\": [[0.0, \"#0d0887\"], [0.1111111111111111, \"#46039f\"], [0.2222222222222222, \"#7201a8\"], [0.3333333333333333, \"#9c179e\"], [0.4444444444444444, \"#bd3786\"], [0.5555555555555556, \"#d8576b\"], [0.6666666666666666, \"#ed7953\"], [0.7777777777777778, \"#fb9f3a\"], [0.8888888888888888, \"#fdca26\"], [1.0, \"#f0f921\"]], \"type\": \"histogram2d\"}], \"histogram2dcontour\": [{\"colorbar\": {\"outlinewidth\": 0, \"ticks\": \"\"}, \"colorscale\": [[0.0, \"#0d0887\"], [0.1111111111111111, \"#46039f\"], [0.2222222222222222, \"#7201a8\"], [0.3333333333333333, \"#9c179e\"], [0.4444444444444444, \"#bd3786\"], [0.5555555555555556, \"#d8576b\"], [0.6666666666666666, \"#ed7953\"], [0.7777777777777778, \"#fb9f3a\"], [0.8888888888888888, \"#fdca26\"], [1.0, \"#f0f921\"]], \"type\": \"histogram2dcontour\"}], \"mesh3d\": [{\"colorbar\": {\"outlinewidth\": 0, \"ticks\": \"\"}, \"type\": \"mesh3d\"}], \"parcoords\": [{\"line\": {\"colorbar\": {\"outlinewidth\": 0, \"ticks\": \"\"}}, \"type\": \"parcoords\"}], \"pie\": [{\"automargin\": true, \"type\": \"pie\"}], \"scatter\": [{\"marker\": {\"colorbar\": {\"outlinewidth\": 0, \"ticks\": \"\"}}, \"type\": \"scatter\"}], \"scatter3d\": [{\"line\": {\"colorbar\": {\"outlinewidth\": 0, \"ticks\": \"\"}}, \"marker\": {\"colorbar\": {\"outlinewidth\": 0, \"ticks\": \"\"}}, \"type\": \"scatter3d\"}], \"scattercarpet\": [{\"marker\": {\"colorbar\": {\"outlinewidth\": 0, \"ticks\": \"\"}}, \"type\": \"scattercarpet\"}], \"scattergeo\": [{\"marker\": {\"colorbar\": {\"outlinewidth\": 0, \"ticks\": \"\"}}, \"type\": \"scattergeo\"}], \"scattergl\": [{\"marker\": {\"colorbar\": {\"outlinewidth\": 0, \"ticks\": \"\"}}, \"type\": \"scattergl\"}], \"scattermapbox\": [{\"marker\": {\"colorbar\": {\"outlinewidth\": 0, \"ticks\": \"\"}}, \"type\": \"scattermapbox\"}], \"scatterpolar\": [{\"marker\": {\"colorbar\": {\"outlinewidth\": 0, \"ticks\": \"\"}}, \"type\": \"scatterpolar\"}], \"scatterpolargl\": [{\"marker\": {\"colorbar\": {\"outlinewidth\": 0, \"ticks\": \"\"}}, \"type\": \"scatterpolargl\"}], \"scatterternary\": [{\"marker\": {\"colorbar\": {\"outlinewidth\": 0, \"ticks\": \"\"}}, \"type\": \"scatterternary\"}], \"surface\": [{\"colorbar\": {\"outlinewidth\": 0, \"ticks\": \"\"}, \"colorscale\": [[0.0, \"#0d0887\"], [0.1111111111111111, \"#46039f\"], [0.2222222222222222, \"#7201a8\"], [0.3333333333333333, \"#9c179e\"], [0.4444444444444444, \"#bd3786\"], [0.5555555555555556, \"#d8576b\"], [0.6666666666666666, \"#ed7953\"], [0.7777777777777778, \"#fb9f3a\"], [0.8888888888888888, \"#fdca26\"], [1.0, \"#f0f921\"]], \"type\": \"surface\"}], \"table\": [{\"cells\": {\"fill\": {\"color\": \"#EBF0F8\"}, \"line\": {\"color\": \"white\"}}, \"header\": {\"fill\": {\"color\": \"#C8D4E3\"}, \"line\": {\"color\": \"white\"}}, \"type\": \"table\"}]}, \"layout\": {\"annotationdefaults\": {\"arrowcolor\": \"#2a3f5f\", \"arrowhead\": 0, \"arrowwidth\": 1}, \"coloraxis\": {\"colorbar\": {\"outlinewidth\": 0, \"ticks\": \"\"}}, \"colorscale\": {\"diverging\": [[0, \"#8e0152\"], [0.1, \"#c51b7d\"], [0.2, \"#de77ae\"], [0.3, \"#f1b6da\"], [0.4, \"#fde0ef\"], [0.5, \"#f7f7f7\"], [0.6, \"#e6f5d0\"], [0.7, \"#b8e186\"], [0.8, \"#7fbc41\"], [0.9, \"#4d9221\"], [1, \"#276419\"]], \"sequential\": [[0.0, \"#0d0887\"], [0.1111111111111111, \"#46039f\"], [0.2222222222222222, \"#7201a8\"], [0.3333333333333333, \"#9c179e\"], [0.4444444444444444, \"#bd3786\"], [0.5555555555555556, \"#d8576b\"], [0.6666666666666666, \"#ed7953\"], [0.7777777777777778, \"#fb9f3a\"], [0.8888888888888888, \"#fdca26\"], [1.0, \"#f0f921\"]], \"sequentialminus\": [[0.0, \"#0d0887\"], [0.1111111111111111, \"#46039f\"], [0.2222222222222222, \"#7201a8\"], [0.3333333333333333, \"#9c179e\"], [0.4444444444444444, \"#bd3786\"], [0.5555555555555556, \"#d8576b\"], [0.6666666666666666, \"#ed7953\"], [0.7777777777777778, \"#fb9f3a\"], [0.8888888888888888, \"#fdca26\"], [1.0, \"#f0f921\"]]}, \"colorway\": [\"#636efa\", \"#EF553B\", \"#00cc96\", \"#ab63fa\", \"#FFA15A\", \"#19d3f3\", \"#FF6692\", \"#B6E880\", \"#FF97FF\", \"#FECB52\"], \"font\": {\"color\": \"#2a3f5f\"}, \"geo\": {\"bgcolor\": \"white\", \"lakecolor\": \"white\", \"landcolor\": \"#E5ECF6\", \"showlakes\": true, \"showland\": true, \"subunitcolor\": \"white\"}, \"hoverlabel\": {\"align\": \"left\"}, \"hovermode\": \"closest\", \"mapbox\": {\"style\": \"light\"}, \"paper_bgcolor\": \"white\", \"plot_bgcolor\": \"#E5ECF6\", \"polar\": {\"angularaxis\": {\"gridcolor\": \"white\", \"linecolor\": \"white\", \"ticks\": \"\"}, \"bgcolor\": \"#E5ECF6\", \"radialaxis\": {\"gridcolor\": \"white\", \"linecolor\": \"white\", \"ticks\": \"\"}}, \"scene\": {\"xaxis\": {\"backgroundcolor\": \"#E5ECF6\", \"gridcolor\": \"white\", \"gridwidth\": 2, \"linecolor\": \"white\", \"showbackground\": true, \"ticks\": \"\", \"zerolinecolor\": \"white\"}, \"yaxis\": {\"backgroundcolor\": \"#E5ECF6\", \"gridcolor\": \"white\", \"gridwidth\": 2, \"linecolor\": \"white\", \"showbackground\": true, \"ticks\": \"\", \"zerolinecolor\": \"white\"}, \"zaxis\": {\"backgroundcolor\": \"#E5ECF6\", \"gridcolor\": \"white\", \"gridwidth\": 2, \"linecolor\": \"white\", \"showbackground\": true, \"ticks\": \"\", \"zerolinecolor\": \"white\"}}, \"shapedefaults\": {\"line\": {\"color\": \"#2a3f5f\"}}, \"ternary\": {\"aaxis\": {\"gridcolor\": \"white\", \"linecolor\": \"white\", \"ticks\": \"\"}, \"baxis\": {\"gridcolor\": \"white\", \"linecolor\": \"white\", \"ticks\": \"\"}, \"bgcolor\": \"#E5ECF6\", \"caxis\": {\"gridcolor\": \"white\", \"linecolor\": \"white\", \"ticks\": \"\"}}, \"title\": {\"x\": 0.05}, \"xaxis\": {\"automargin\": true, \"gridcolor\": \"white\", \"linecolor\": \"white\", \"ticks\": \"\", \"title\": {\"standoff\": 15}, \"zerolinecolor\": \"white\", \"zerolinewidth\": 2}, \"yaxis\": {\"automargin\": true, \"gridcolor\": \"white\", \"linecolor\": \"white\", \"ticks\": \"\", \"title\": {\"standoff\": 15}, \"zerolinecolor\": \"white\", \"zerolinewidth\": 2}}}, \"title\": {\"text\": \"High-resolution-mode purification\"}, \"width\": 800, \"xaxis\": {\"anchor\": \"y\", \"domain\": [0.0, 0.45]}, \"xaxis2\": {\"anchor\": \"y2\", \"domain\": [0.55, 1.0]}, \"yaxis\": {\"anchor\": \"x\", \"domain\": [0.0, 1.0], \"range\": [0, 1], \"title\": {\"text\": \"Pearson Correlation\"}}, \"yaxis2\": {\"anchor\": \"x2\", \"domain\": [0.0, 1.0], \"matches\": \"y\", \"range\": [0, 1], \"showticklabels\": false, \"title\": {\"text\": \"Pearson Correlation\"}}},\n",
       "                        {\"responsive\": true}\n",
       "                    ).then(function(){\n",
       "                            \n",
       "var gd = document.getElementById('8d4f5f74-e8ed-4c49-b372-0b559276265a');\n",
       "var x = new MutationObserver(function (mutations, observer) {{\n",
       "        var display = window.getComputedStyle(gd).display;\n",
       "        if (!display || display === 'none') {{\n",
       "            console.log([gd, 'removed!']);\n",
       "            Plotly.purge(gd);\n",
       "            observer.disconnect();\n",
       "        }}\n",
       "}});\n",
       "\n",
       "// Listen for the removal of the full notebook cells\n",
       "var notebookContainer = gd.closest('#notebook-container');\n",
       "if (notebookContainer) {{\n",
       "    x.observe(notebookContainer, {childList: true});\n",
       "}}\n",
       "\n",
       "// Listen for the clearing of the current output cell\n",
       "var outputEl = gd.closest('.output');\n",
       "if (outputEl) {{\n",
       "    x.observe(outputEl, {childList: true});\n",
       "}}\n",
       "\n",
       "                        })\n",
       "                };\n",
       "                });\n",
       "            </script>\n",
       "        </div>"
      ]
     },
     "metadata": {},
     "output_type": "display_data"
    }
   ],
   "source": [
    "cols = outcome_PerCell.dataset.map(colorsIdx)\n",
    "\n",
    "fig = make_subplots(rows=1, cols=2, shared_yaxes=True)\n",
    "fig.add_trace(\n",
    "    go.Box(x=outcome_PerCell.dataset, y=outcome_PerCell.Cor_HighRes, \n",
    "           boxpoints=\"all\", name=\"Average performance per cell type\"),\n",
    "    1,1\n",
    ")\n",
    "\n",
    "fig.add_trace(\n",
    "    go.Box(x=outcome_PerSample.dataset, y=outcome_PerSample.Cor_HighRes, \n",
    "           boxpoints=\"all\", name=\"Average performance per sample\"),\n",
    "    1,2\n",
    ")\n",
    "\n",
    "fig.update_layout(height=600, width=800,\n",
    "                  title_text=\"High-resolution-mode purification\")\n",
    "fig.update_yaxes(range=[0, 1], title_text=\"Pearson Correlation\")\n",
    "\n"
   ]
  },
  {
   "cell_type": "markdown",
   "metadata": {},
   "source": [
    "Average performance per dataset can also be checked in the table below:\n"
   ]
  },
  {
   "cell_type": "code",
   "execution_count": 184,
   "metadata": {},
   "outputs": [
    {
     "data": {
      "application/vnd.jupyter.widget-view+json": {
       "model_id": "4dbc4d7e5ed247d79338bb22a8b57b45",
       "version_major": 2,
       "version_minor": 0
      },
      "text/plain": [
       "QgridWidget(grid_options={'fullWidthRows': True, 'syncColumnCellResize': True, 'forceFitColumns': True, 'defau…"
      ]
     },
     "metadata": {},
     "output_type": "display_data"
    }
   ],
   "source": [
    "qgrid_widget = qgrid.show_grid(outcome_summary, show_toolbar=True)\n",
    "qgrid_widget"
   ]
  }
 ],
 "metadata": {
  "kernelspec": {
   "display_name": "Python 3",
   "language": "python",
   "name": "python3"
  },
  "language_info": {
   "codemirror_mode": {
    "name": "ipython",
    "version": 3
   },
   "file_extension": ".py",
   "mimetype": "text/x-python",
   "name": "python",
   "nbconvert_exporter": "python",
   "pygments_lexer": "ipython3",
   "version": "3.7.3"
  }
 },
 "nbformat": 4,
 "nbformat_minor": 4
}
